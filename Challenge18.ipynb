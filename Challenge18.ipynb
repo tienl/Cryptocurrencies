{
 "cells": [
  {
   "cell_type": "code",
   "execution_count": 276,
   "metadata": {},
   "outputs": [],
   "source": [
    "# setting up dependencies\n",
    "import pandas as pd\n",
    "import plotly.express as px\n",
    "import hvplot.pandas\n",
    "from sklearn.preprocessing import StandardScaler\n",
    "from sklearn.decomposition import PCA\n",
    "from sklearn.cluster import KMeans"
   ]
  },
  {
   "cell_type": "code",
   "execution_count": 277,
   "metadata": {
    "scrolled": true
   },
   "outputs": [
    {
     "data": {
      "text/html": [
       "<div>\n",
       "<style scoped>\n",
       "    .dataframe tbody tr th:only-of-type {\n",
       "        vertical-align: middle;\n",
       "    }\n",
       "\n",
       "    .dataframe tbody tr th {\n",
       "        vertical-align: top;\n",
       "    }\n",
       "\n",
       "    .dataframe thead th {\n",
       "        text-align: right;\n",
       "    }\n",
       "</style>\n",
       "<table border=\"1\" class=\"dataframe\">\n",
       "  <thead>\n",
       "    <tr style=\"text-align: right;\">\n",
       "      <th></th>\n",
       "      <th>CoinName</th>\n",
       "      <th>Algorithm</th>\n",
       "      <th>IsTrading</th>\n",
       "      <th>ProofType</th>\n",
       "      <th>TotalCoinsMined</th>\n",
       "      <th>TotalCoinSupply</th>\n",
       "    </tr>\n",
       "  </thead>\n",
       "  <tbody>\n",
       "    <tr>\n",
       "      <th>XBC</th>\n",
       "      <td>BitcoinPlus</td>\n",
       "      <td>Scrypt</td>\n",
       "      <td>True</td>\n",
       "      <td>PoS</td>\n",
       "      <td>1.283270e+05</td>\n",
       "      <td>1000000</td>\n",
       "    </tr>\n",
       "    <tr>\n",
       "      <th>DVTC</th>\n",
       "      <td>DivotyCoin</td>\n",
       "      <td>Scrypt</td>\n",
       "      <td>False</td>\n",
       "      <td>PoW/PoS</td>\n",
       "      <td>2.149121e+07</td>\n",
       "      <td>100000000</td>\n",
       "    </tr>\n",
       "    <tr>\n",
       "      <th>GIOT</th>\n",
       "      <td>Giotto Coin</td>\n",
       "      <td>Scrypt</td>\n",
       "      <td>False</td>\n",
       "      <td>PoW/PoS</td>\n",
       "      <td>NaN</td>\n",
       "      <td>233100000</td>\n",
       "    </tr>\n",
       "    <tr>\n",
       "      <th>OPSC</th>\n",
       "      <td>OpenSourceCoin</td>\n",
       "      <td>SHA-256</td>\n",
       "      <td>False</td>\n",
       "      <td>PoW/PoS</td>\n",
       "      <td>NaN</td>\n",
       "      <td>21000000</td>\n",
       "    </tr>\n",
       "    <tr>\n",
       "      <th>PUNK</th>\n",
       "      <td>SteamPunk</td>\n",
       "      <td>PoS</td>\n",
       "      <td>False</td>\n",
       "      <td>PoS</td>\n",
       "      <td>NaN</td>\n",
       "      <td>40000000</td>\n",
       "    </tr>\n",
       "  </tbody>\n",
       "</table>\n",
       "</div>"
      ],
      "text/plain": [
       "            CoinName Algorithm  IsTrading ProofType  TotalCoinsMined  \\\n",
       "XBC      BitcoinPlus    Scrypt       True       PoS     1.283270e+05   \n",
       "DVTC      DivotyCoin    Scrypt      False   PoW/PoS     2.149121e+07   \n",
       "GIOT     Giotto Coin    Scrypt      False   PoW/PoS              NaN   \n",
       "OPSC  OpenSourceCoin   SHA-256      False   PoW/PoS              NaN   \n",
       "PUNK       SteamPunk       PoS      False       PoS              NaN   \n",
       "\n",
       "     TotalCoinSupply  \n",
       "XBC          1000000  \n",
       "DVTC       100000000  \n",
       "GIOT       233100000  \n",
       "OPSC        21000000  \n",
       "PUNK        40000000  "
      ]
     },
     "execution_count": 277,
     "metadata": {},
     "output_type": "execute_result"
    }
   ],
   "source": [
    "# loading crypto csv\n",
    "file_path = \"./Resources/crypto_data.csv\"\n",
    "crypto_df = pd.read_csv(file_path, index_col=0, encoding = \"ISO-8859-1\")\n",
    "crypto_df.tail()"
   ]
  },
  {
   "cell_type": "code",
   "execution_count": 278,
   "metadata": {},
   "outputs": [
    {
     "data": {
      "text/plain": [
       "CoinName            object\n",
       "Algorithm           object\n",
       "IsTrading             bool\n",
       "ProofType           object\n",
       "TotalCoinsMined    float64\n",
       "TotalCoinSupply     object\n",
       "dtype: object"
      ]
     },
     "execution_count": 278,
     "metadata": {},
     "output_type": "execute_result"
    }
   ],
   "source": [
    "# checking data types of dataframe\n",
    "crypto_df.dtypes"
   ]
  },
  {
   "cell_type": "code",
   "execution_count": 279,
   "metadata": {},
   "outputs": [],
   "source": [
    "# Strip all the space and . \n",
    "crypto_df['TotalCoinSupply'] = crypto_df['TotalCoinSupply'].str.replace(\" \",\"\")\n",
    "crypto_df['TotalCoinSupply'] = crypto_df['TotalCoinSupply'].str.replace(\".\",\"\")"
   ]
  },
  {
   "cell_type": "code",
   "execution_count": 280,
   "metadata": {},
   "outputs": [],
   "source": [
    "# converting totalcoinsupply to float \n",
    "crypto_df[\"TotalCoinSupply\"] = crypto_df.TotalCoinSupply.astype(float)"
   ]
  },
  {
   "cell_type": "code",
   "execution_count": 281,
   "metadata": {},
   "outputs": [
    {
     "data": {
      "text/plain": [
       "CoinName            object\n",
       "Algorithm           object\n",
       "IsTrading             bool\n",
       "ProofType           object\n",
       "TotalCoinsMined    float64\n",
       "TotalCoinSupply    float64\n",
       "dtype: object"
      ]
     },
     "execution_count": 281,
     "metadata": {},
     "output_type": "execute_result"
    }
   ],
   "source": [
    "# checking data types of dataframe\n",
    "crypto_df.dtypes"
   ]
  },
  {
   "cell_type": "code",
   "execution_count": 282,
   "metadata": {},
   "outputs": [
    {
     "name": "stdout",
     "output_type": "stream",
     "text": [
      "1252\n",
      "1144\n"
     ]
    }
   ],
   "source": [
    "# Remove all cryptocurrencies that aren’t trading.\n",
    "drop1 = crypto_df[crypto_df.IsTrading == True]\n",
    "print(len(crypto_df))\n",
    "print(len(drop1))"
   ]
  },
  {
   "cell_type": "code",
   "execution_count": 283,
   "metadata": {},
   "outputs": [
    {
     "data": {
      "text/plain": [
       "1144"
      ]
     },
     "execution_count": 283,
     "metadata": {},
     "output_type": "execute_result"
    }
   ],
   "source": [
    "# Remove all cryptocurrencies that don’t have an algorithm defined.\n",
    "drop2 = drop1.dropna(subset=['Algorithm'])\n",
    "len(drop2)"
   ]
  },
  {
   "cell_type": "code",
   "execution_count": 284,
   "metadata": {},
   "outputs": [
    {
     "data": {
      "text/html": [
       "<div>\n",
       "<style scoped>\n",
       "    .dataframe tbody tr th:only-of-type {\n",
       "        vertical-align: middle;\n",
       "    }\n",
       "\n",
       "    .dataframe tbody tr th {\n",
       "        vertical-align: top;\n",
       "    }\n",
       "\n",
       "    .dataframe thead th {\n",
       "        text-align: right;\n",
       "    }\n",
       "</style>\n",
       "<table border=\"1\" class=\"dataframe\">\n",
       "  <thead>\n",
       "    <tr style=\"text-align: right;\">\n",
       "      <th></th>\n",
       "      <th>CoinName</th>\n",
       "      <th>Algorithm</th>\n",
       "      <th>ProofType</th>\n",
       "      <th>TotalCoinsMined</th>\n",
       "      <th>TotalCoinSupply</th>\n",
       "    </tr>\n",
       "  </thead>\n",
       "  <tbody>\n",
       "    <tr>\n",
       "      <th>42</th>\n",
       "      <td>42 Coin</td>\n",
       "      <td>Scrypt</td>\n",
       "      <td>PoW/PoS</td>\n",
       "      <td>4.199995e+01</td>\n",
       "      <td>4.200000e+01</td>\n",
       "    </tr>\n",
       "    <tr>\n",
       "      <th>365</th>\n",
       "      <td>365Coin</td>\n",
       "      <td>X11</td>\n",
       "      <td>PoW/PoS</td>\n",
       "      <td>NaN</td>\n",
       "      <td>2.300000e+09</td>\n",
       "    </tr>\n",
       "    <tr>\n",
       "      <th>404</th>\n",
       "      <td>404Coin</td>\n",
       "      <td>Scrypt</td>\n",
       "      <td>PoW/PoS</td>\n",
       "      <td>1.055185e+09</td>\n",
       "      <td>5.320000e+08</td>\n",
       "    </tr>\n",
       "    <tr>\n",
       "      <th>611</th>\n",
       "      <td>SixEleven</td>\n",
       "      <td>SHA-256</td>\n",
       "      <td>PoW</td>\n",
       "      <td>NaN</td>\n",
       "      <td>6.110000e+05</td>\n",
       "    </tr>\n",
       "    <tr>\n",
       "      <th>808</th>\n",
       "      <td>808</td>\n",
       "      <td>SHA-256</td>\n",
       "      <td>PoW/PoS</td>\n",
       "      <td>0.000000e+00</td>\n",
       "      <td>0.000000e+00</td>\n",
       "    </tr>\n",
       "  </tbody>\n",
       "</table>\n",
       "</div>"
      ],
      "text/plain": [
       "      CoinName Algorithm ProofType  TotalCoinsMined  TotalCoinSupply\n",
       "42     42 Coin    Scrypt   PoW/PoS     4.199995e+01     4.200000e+01\n",
       "365    365Coin       X11   PoW/PoS              NaN     2.300000e+09\n",
       "404    404Coin    Scrypt   PoW/PoS     1.055185e+09     5.320000e+08\n",
       "611  SixEleven   SHA-256       PoW              NaN     6.110000e+05\n",
       "808        808   SHA-256   PoW/PoS     0.000000e+00     0.000000e+00"
      ]
     },
     "execution_count": 284,
     "metadata": {},
     "output_type": "execute_result"
    }
   ],
   "source": [
    "# Remove the IsTrading column\n",
    "drop3 = drop2.drop(columns=['IsTrading'])\n",
    "drop3.head()"
   ]
  },
  {
   "cell_type": "code",
   "execution_count": 285,
   "metadata": {},
   "outputs": [
    {
     "data": {
      "text/plain": [
       "685"
      ]
     },
     "execution_count": 285,
     "metadata": {},
     "output_type": "execute_result"
    }
   ],
   "source": [
    "# Remove all cryptocurrencies with at least one null value.\n",
    "drop4 = drop3.dropna()\n",
    "len(drop4)"
   ]
  },
  {
   "cell_type": "code",
   "execution_count": 286,
   "metadata": {},
   "outputs": [
    {
     "data": {
      "text/plain": [
       "532"
      ]
     },
     "execution_count": 286,
     "metadata": {},
     "output_type": "execute_result"
    }
   ],
   "source": [
    "# Remove all cryptocurrencies without coins mined.\n",
    "drop5 = drop4[drop4.TotalCoinsMined > 0] \n",
    "len(drop5)\n"
   ]
  },
  {
   "cell_type": "code",
   "execution_count": 287,
   "metadata": {},
   "outputs": [
    {
     "data": {
      "text/html": [
       "<div>\n",
       "<style scoped>\n",
       "    .dataframe tbody tr th:only-of-type {\n",
       "        vertical-align: middle;\n",
       "    }\n",
       "\n",
       "    .dataframe tbody tr th {\n",
       "        vertical-align: top;\n",
       "    }\n",
       "\n",
       "    .dataframe thead th {\n",
       "        text-align: right;\n",
       "    }\n",
       "</style>\n",
       "<table border=\"1\" class=\"dataframe\">\n",
       "  <thead>\n",
       "    <tr style=\"text-align: right;\">\n",
       "      <th></th>\n",
       "      <th>CoinName</th>\n",
       "    </tr>\n",
       "  </thead>\n",
       "  <tbody>\n",
       "    <tr>\n",
       "      <th>42</th>\n",
       "      <td>42 Coin</td>\n",
       "    </tr>\n",
       "    <tr>\n",
       "      <th>404</th>\n",
       "      <td>404Coin</td>\n",
       "    </tr>\n",
       "    <tr>\n",
       "      <th>1337</th>\n",
       "      <td>EliteCoin</td>\n",
       "    </tr>\n",
       "    <tr>\n",
       "      <th>BTC</th>\n",
       "      <td>Bitcoin</td>\n",
       "    </tr>\n",
       "    <tr>\n",
       "      <th>ETH</th>\n",
       "      <td>Ethereum</td>\n",
       "    </tr>\n",
       "    <tr>\n",
       "      <th>...</th>\n",
       "      <td>...</td>\n",
       "    </tr>\n",
       "    <tr>\n",
       "      <th>ZEPH</th>\n",
       "      <td>ZEPHYR</td>\n",
       "    </tr>\n",
       "    <tr>\n",
       "      <th>GAP</th>\n",
       "      <td>Gapcoin</td>\n",
       "    </tr>\n",
       "    <tr>\n",
       "      <th>BDX</th>\n",
       "      <td>Beldex</td>\n",
       "    </tr>\n",
       "    <tr>\n",
       "      <th>ZEN</th>\n",
       "      <td>Horizen</td>\n",
       "    </tr>\n",
       "    <tr>\n",
       "      <th>XBC</th>\n",
       "      <td>BitcoinPlus</td>\n",
       "    </tr>\n",
       "  </tbody>\n",
       "</table>\n",
       "<p>532 rows × 1 columns</p>\n",
       "</div>"
      ],
      "text/plain": [
       "         CoinName\n",
       "42        42 Coin\n",
       "404       404Coin\n",
       "1337    EliteCoin\n",
       "BTC       Bitcoin\n",
       "ETH      Ethereum\n",
       "...           ...\n",
       "ZEPH       ZEPHYR\n",
       "GAP       Gapcoin\n",
       "BDX        Beldex\n",
       "ZEN       Horizen\n",
       "XBC   BitcoinPlus\n",
       "\n",
       "[532 rows x 1 columns]"
      ]
     },
     "execution_count": 287,
     "metadata": {},
     "output_type": "execute_result"
    }
   ],
   "source": [
    "# Store the names of all cryptocurrencies on a DataFramed named coins_name, and use the crypto_df.index as the index for this new DataFrame.\n",
    "coins_name = drop5[['CoinName']]\n",
    "coins_name \n"
   ]
  },
  {
   "cell_type": "code",
   "execution_count": 288,
   "metadata": {},
   "outputs": [
    {
     "data": {
      "text/html": [
       "<div>\n",
       "<style scoped>\n",
       "    .dataframe tbody tr th:only-of-type {\n",
       "        vertical-align: middle;\n",
       "    }\n",
       "\n",
       "    .dataframe tbody tr th {\n",
       "        vertical-align: top;\n",
       "    }\n",
       "\n",
       "    .dataframe thead th {\n",
       "        text-align: right;\n",
       "    }\n",
       "</style>\n",
       "<table border=\"1\" class=\"dataframe\">\n",
       "  <thead>\n",
       "    <tr style=\"text-align: right;\">\n",
       "      <th></th>\n",
       "      <th>Algorithm</th>\n",
       "      <th>ProofType</th>\n",
       "      <th>TotalCoinsMined</th>\n",
       "      <th>TotalCoinSupply</th>\n",
       "    </tr>\n",
       "  </thead>\n",
       "  <tbody>\n",
       "    <tr>\n",
       "      <th>42</th>\n",
       "      <td>Scrypt</td>\n",
       "      <td>PoW/PoS</td>\n",
       "      <td>4.199995e+01</td>\n",
       "      <td>4.200000e+01</td>\n",
       "    </tr>\n",
       "    <tr>\n",
       "      <th>404</th>\n",
       "      <td>Scrypt</td>\n",
       "      <td>PoW/PoS</td>\n",
       "      <td>1.055185e+09</td>\n",
       "      <td>5.320000e+08</td>\n",
       "    </tr>\n",
       "    <tr>\n",
       "      <th>1337</th>\n",
       "      <td>X13</td>\n",
       "      <td>PoW/PoS</td>\n",
       "      <td>2.927942e+10</td>\n",
       "      <td>3.141593e+11</td>\n",
       "    </tr>\n",
       "    <tr>\n",
       "      <th>BTC</th>\n",
       "      <td>SHA-256</td>\n",
       "      <td>PoW</td>\n",
       "      <td>1.792718e+07</td>\n",
       "      <td>2.100000e+07</td>\n",
       "    </tr>\n",
       "    <tr>\n",
       "      <th>ETH</th>\n",
       "      <td>Ethash</td>\n",
       "      <td>PoW</td>\n",
       "      <td>1.076842e+08</td>\n",
       "      <td>0.000000e+00</td>\n",
       "    </tr>\n",
       "  </tbody>\n",
       "</table>\n",
       "</div>"
      ],
      "text/plain": [
       "     Algorithm ProofType  TotalCoinsMined  TotalCoinSupply\n",
       "42      Scrypt   PoW/PoS     4.199995e+01     4.200000e+01\n",
       "404     Scrypt   PoW/PoS     1.055185e+09     5.320000e+08\n",
       "1337       X13   PoW/PoS     2.927942e+10     3.141593e+11\n",
       "BTC    SHA-256       PoW     1.792718e+07     2.100000e+07\n",
       "ETH     Ethash       PoW     1.076842e+08     0.000000e+00"
      ]
     },
     "execution_count": 288,
     "metadata": {},
     "output_type": "execute_result"
    }
   ],
   "source": [
    "# Remove the CoinName column.\n",
    "drop6 = drop5.drop(columns='CoinName')\n",
    "drop6.head()"
   ]
  },
  {
   "cell_type": "code",
   "execution_count": 289,
   "metadata": {},
   "outputs": [
    {
     "data": {
      "text/html": [
       "<div>\n",
       "<style scoped>\n",
       "    .dataframe tbody tr th:only-of-type {\n",
       "        vertical-align: middle;\n",
       "    }\n",
       "\n",
       "    .dataframe tbody tr th {\n",
       "        vertical-align: top;\n",
       "    }\n",
       "\n",
       "    .dataframe thead th {\n",
       "        text-align: right;\n",
       "    }\n",
       "</style>\n",
       "<table border=\"1\" class=\"dataframe\">\n",
       "  <thead>\n",
       "    <tr style=\"text-align: right;\">\n",
       "      <th></th>\n",
       "      <th>TotalCoinsMined</th>\n",
       "      <th>TotalCoinSupply</th>\n",
       "      <th>Algorithm_536</th>\n",
       "      <th>Algorithm_Argon2d</th>\n",
       "      <th>Algorithm_BLAKE256</th>\n",
       "      <th>Algorithm_Blake</th>\n",
       "      <th>Algorithm_Blake2S</th>\n",
       "      <th>Algorithm_Blake2b</th>\n",
       "      <th>Algorithm_C11</th>\n",
       "      <th>Algorithm_Cloverhash</th>\n",
       "      <th>...</th>\n",
       "      <th>ProofType_PoW/PoS</th>\n",
       "      <th>ProofType_PoW/PoS</th>\n",
       "      <th>ProofType_PoW/PoW</th>\n",
       "      <th>ProofType_PoW/nPoS</th>\n",
       "      <th>ProofType_Pos</th>\n",
       "      <th>ProofType_Proof of Authority</th>\n",
       "      <th>ProofType_Proof of Trust</th>\n",
       "      <th>ProofType_TPoS</th>\n",
       "      <th>ProofType_Zero-Knowledge Proof</th>\n",
       "      <th>ProofType_dPoW/PoW</th>\n",
       "    </tr>\n",
       "  </thead>\n",
       "  <tbody>\n",
       "    <tr>\n",
       "      <th>42</th>\n",
       "      <td>4.199995e+01</td>\n",
       "      <td>4.200000e+01</td>\n",
       "      <td>0</td>\n",
       "      <td>0</td>\n",
       "      <td>0</td>\n",
       "      <td>0</td>\n",
       "      <td>0</td>\n",
       "      <td>0</td>\n",
       "      <td>0</td>\n",
       "      <td>0</td>\n",
       "      <td>...</td>\n",
       "      <td>1</td>\n",
       "      <td>0</td>\n",
       "      <td>0</td>\n",
       "      <td>0</td>\n",
       "      <td>0</td>\n",
       "      <td>0</td>\n",
       "      <td>0</td>\n",
       "      <td>0</td>\n",
       "      <td>0</td>\n",
       "      <td>0</td>\n",
       "    </tr>\n",
       "    <tr>\n",
       "      <th>404</th>\n",
       "      <td>1.055185e+09</td>\n",
       "      <td>5.320000e+08</td>\n",
       "      <td>0</td>\n",
       "      <td>0</td>\n",
       "      <td>0</td>\n",
       "      <td>0</td>\n",
       "      <td>0</td>\n",
       "      <td>0</td>\n",
       "      <td>0</td>\n",
       "      <td>0</td>\n",
       "      <td>...</td>\n",
       "      <td>1</td>\n",
       "      <td>0</td>\n",
       "      <td>0</td>\n",
       "      <td>0</td>\n",
       "      <td>0</td>\n",
       "      <td>0</td>\n",
       "      <td>0</td>\n",
       "      <td>0</td>\n",
       "      <td>0</td>\n",
       "      <td>0</td>\n",
       "    </tr>\n",
       "    <tr>\n",
       "      <th>1337</th>\n",
       "      <td>2.927942e+10</td>\n",
       "      <td>3.141593e+11</td>\n",
       "      <td>0</td>\n",
       "      <td>0</td>\n",
       "      <td>0</td>\n",
       "      <td>0</td>\n",
       "      <td>0</td>\n",
       "      <td>0</td>\n",
       "      <td>0</td>\n",
       "      <td>0</td>\n",
       "      <td>...</td>\n",
       "      <td>1</td>\n",
       "      <td>0</td>\n",
       "      <td>0</td>\n",
       "      <td>0</td>\n",
       "      <td>0</td>\n",
       "      <td>0</td>\n",
       "      <td>0</td>\n",
       "      <td>0</td>\n",
       "      <td>0</td>\n",
       "      <td>0</td>\n",
       "    </tr>\n",
       "    <tr>\n",
       "      <th>BTC</th>\n",
       "      <td>1.792718e+07</td>\n",
       "      <td>2.100000e+07</td>\n",
       "      <td>0</td>\n",
       "      <td>0</td>\n",
       "      <td>0</td>\n",
       "      <td>0</td>\n",
       "      <td>0</td>\n",
       "      <td>0</td>\n",
       "      <td>0</td>\n",
       "      <td>0</td>\n",
       "      <td>...</td>\n",
       "      <td>0</td>\n",
       "      <td>0</td>\n",
       "      <td>0</td>\n",
       "      <td>0</td>\n",
       "      <td>0</td>\n",
       "      <td>0</td>\n",
       "      <td>0</td>\n",
       "      <td>0</td>\n",
       "      <td>0</td>\n",
       "      <td>0</td>\n",
       "    </tr>\n",
       "    <tr>\n",
       "      <th>ETH</th>\n",
       "      <td>1.076842e+08</td>\n",
       "      <td>0.000000e+00</td>\n",
       "      <td>0</td>\n",
       "      <td>0</td>\n",
       "      <td>0</td>\n",
       "      <td>0</td>\n",
       "      <td>0</td>\n",
       "      <td>0</td>\n",
       "      <td>0</td>\n",
       "      <td>0</td>\n",
       "      <td>...</td>\n",
       "      <td>0</td>\n",
       "      <td>0</td>\n",
       "      <td>0</td>\n",
       "      <td>0</td>\n",
       "      <td>0</td>\n",
       "      <td>0</td>\n",
       "      <td>0</td>\n",
       "      <td>0</td>\n",
       "      <td>0</td>\n",
       "      <td>0</td>\n",
       "    </tr>\n",
       "    <tr>\n",
       "      <th>...</th>\n",
       "      <td>...</td>\n",
       "      <td>...</td>\n",
       "      <td>...</td>\n",
       "      <td>...</td>\n",
       "      <td>...</td>\n",
       "      <td>...</td>\n",
       "      <td>...</td>\n",
       "      <td>...</td>\n",
       "      <td>...</td>\n",
       "      <td>...</td>\n",
       "      <td>...</td>\n",
       "      <td>...</td>\n",
       "      <td>...</td>\n",
       "      <td>...</td>\n",
       "      <td>...</td>\n",
       "      <td>...</td>\n",
       "      <td>...</td>\n",
       "      <td>...</td>\n",
       "      <td>...</td>\n",
       "      <td>...</td>\n",
       "      <td>...</td>\n",
       "    </tr>\n",
       "    <tr>\n",
       "      <th>ZEPH</th>\n",
       "      <td>2.000000e+09</td>\n",
       "      <td>2.000000e+09</td>\n",
       "      <td>0</td>\n",
       "      <td>0</td>\n",
       "      <td>0</td>\n",
       "      <td>0</td>\n",
       "      <td>0</td>\n",
       "      <td>0</td>\n",
       "      <td>0</td>\n",
       "      <td>0</td>\n",
       "      <td>...</td>\n",
       "      <td>0</td>\n",
       "      <td>0</td>\n",
       "      <td>0</td>\n",
       "      <td>0</td>\n",
       "      <td>0</td>\n",
       "      <td>0</td>\n",
       "      <td>0</td>\n",
       "      <td>0</td>\n",
       "      <td>0</td>\n",
       "      <td>0</td>\n",
       "    </tr>\n",
       "    <tr>\n",
       "      <th>GAP</th>\n",
       "      <td>1.493105e+07</td>\n",
       "      <td>2.500000e+08</td>\n",
       "      <td>0</td>\n",
       "      <td>0</td>\n",
       "      <td>0</td>\n",
       "      <td>0</td>\n",
       "      <td>0</td>\n",
       "      <td>0</td>\n",
       "      <td>0</td>\n",
       "      <td>0</td>\n",
       "      <td>...</td>\n",
       "      <td>1</td>\n",
       "      <td>0</td>\n",
       "      <td>0</td>\n",
       "      <td>0</td>\n",
       "      <td>0</td>\n",
       "      <td>0</td>\n",
       "      <td>0</td>\n",
       "      <td>0</td>\n",
       "      <td>0</td>\n",
       "      <td>0</td>\n",
       "    </tr>\n",
       "    <tr>\n",
       "      <th>BDX</th>\n",
       "      <td>9.802226e+08</td>\n",
       "      <td>1.400223e+09</td>\n",
       "      <td>0</td>\n",
       "      <td>0</td>\n",
       "      <td>0</td>\n",
       "      <td>0</td>\n",
       "      <td>0</td>\n",
       "      <td>0</td>\n",
       "      <td>0</td>\n",
       "      <td>0</td>\n",
       "      <td>...</td>\n",
       "      <td>0</td>\n",
       "      <td>0</td>\n",
       "      <td>0</td>\n",
       "      <td>0</td>\n",
       "      <td>0</td>\n",
       "      <td>0</td>\n",
       "      <td>0</td>\n",
       "      <td>0</td>\n",
       "      <td>0</td>\n",
       "      <td>0</td>\n",
       "    </tr>\n",
       "    <tr>\n",
       "      <th>ZEN</th>\n",
       "      <td>7.296538e+06</td>\n",
       "      <td>2.100000e+07</td>\n",
       "      <td>0</td>\n",
       "      <td>0</td>\n",
       "      <td>0</td>\n",
       "      <td>0</td>\n",
       "      <td>0</td>\n",
       "      <td>0</td>\n",
       "      <td>0</td>\n",
       "      <td>0</td>\n",
       "      <td>...</td>\n",
       "      <td>0</td>\n",
       "      <td>0</td>\n",
       "      <td>0</td>\n",
       "      <td>0</td>\n",
       "      <td>0</td>\n",
       "      <td>0</td>\n",
       "      <td>0</td>\n",
       "      <td>0</td>\n",
       "      <td>0</td>\n",
       "      <td>0</td>\n",
       "    </tr>\n",
       "    <tr>\n",
       "      <th>XBC</th>\n",
       "      <td>1.283270e+05</td>\n",
       "      <td>1.000000e+06</td>\n",
       "      <td>0</td>\n",
       "      <td>0</td>\n",
       "      <td>0</td>\n",
       "      <td>0</td>\n",
       "      <td>0</td>\n",
       "      <td>0</td>\n",
       "      <td>0</td>\n",
       "      <td>0</td>\n",
       "      <td>...</td>\n",
       "      <td>0</td>\n",
       "      <td>0</td>\n",
       "      <td>0</td>\n",
       "      <td>0</td>\n",
       "      <td>0</td>\n",
       "      <td>0</td>\n",
       "      <td>0</td>\n",
       "      <td>0</td>\n",
       "      <td>0</td>\n",
       "      <td>0</td>\n",
       "    </tr>\n",
       "  </tbody>\n",
       "</table>\n",
       "<p>532 rows × 96 columns</p>\n",
       "</div>"
      ],
      "text/plain": [
       "      TotalCoinsMined  TotalCoinSupply  Algorithm_536  Algorithm_Argon2d  \\\n",
       "42       4.199995e+01     4.200000e+01              0                  0   \n",
       "404      1.055185e+09     5.320000e+08              0                  0   \n",
       "1337     2.927942e+10     3.141593e+11              0                  0   \n",
       "BTC      1.792718e+07     2.100000e+07              0                  0   \n",
       "ETH      1.076842e+08     0.000000e+00              0                  0   \n",
       "...               ...              ...            ...                ...   \n",
       "ZEPH     2.000000e+09     2.000000e+09              0                  0   \n",
       "GAP      1.493105e+07     2.500000e+08              0                  0   \n",
       "BDX      9.802226e+08     1.400223e+09              0                  0   \n",
       "ZEN      7.296538e+06     2.100000e+07              0                  0   \n",
       "XBC      1.283270e+05     1.000000e+06              0                  0   \n",
       "\n",
       "      Algorithm_BLAKE256  Algorithm_Blake  Algorithm_Blake2S  \\\n",
       "42                     0                0                  0   \n",
       "404                    0                0                  0   \n",
       "1337                   0                0                  0   \n",
       "BTC                    0                0                  0   \n",
       "ETH                    0                0                  0   \n",
       "...                  ...              ...                ...   \n",
       "ZEPH                   0                0                  0   \n",
       "GAP                    0                0                  0   \n",
       "BDX                    0                0                  0   \n",
       "ZEN                    0                0                  0   \n",
       "XBC                    0                0                  0   \n",
       "\n",
       "      Algorithm_Blake2b  Algorithm_C11  Algorithm_Cloverhash  ...  \\\n",
       "42                    0              0                     0  ...   \n",
       "404                   0              0                     0  ...   \n",
       "1337                  0              0                     0  ...   \n",
       "BTC                   0              0                     0  ...   \n",
       "ETH                   0              0                     0  ...   \n",
       "...                 ...            ...                   ...  ...   \n",
       "ZEPH                  0              0                     0  ...   \n",
       "GAP                   0              0                     0  ...   \n",
       "BDX                   0              0                     0  ...   \n",
       "ZEN                   0              0                     0  ...   \n",
       "XBC                   0              0                     0  ...   \n",
       "\n",
       "      ProofType_PoW/PoS  ProofType_PoW/PoS   ProofType_PoW/PoW  \\\n",
       "42                    1                   0                  0   \n",
       "404                   1                   0                  0   \n",
       "1337                  1                   0                  0   \n",
       "BTC                   0                   0                  0   \n",
       "ETH                   0                   0                  0   \n",
       "...                 ...                 ...                ...   \n",
       "ZEPH                  0                   0                  0   \n",
       "GAP                   1                   0                  0   \n",
       "BDX                   0                   0                  0   \n",
       "ZEN                   0                   0                  0   \n",
       "XBC                   0                   0                  0   \n",
       "\n",
       "      ProofType_PoW/nPoS  ProofType_Pos  ProofType_Proof of Authority  \\\n",
       "42                     0              0                             0   \n",
       "404                    0              0                             0   \n",
       "1337                   0              0                             0   \n",
       "BTC                    0              0                             0   \n",
       "ETH                    0              0                             0   \n",
       "...                  ...            ...                           ...   \n",
       "ZEPH                   0              0                             0   \n",
       "GAP                    0              0                             0   \n",
       "BDX                    0              0                             0   \n",
       "ZEN                    0              0                             0   \n",
       "XBC                    0              0                             0   \n",
       "\n",
       "      ProofType_Proof of Trust  ProofType_TPoS  \\\n",
       "42                           0               0   \n",
       "404                          0               0   \n",
       "1337                         0               0   \n",
       "BTC                          0               0   \n",
       "ETH                          0               0   \n",
       "...                        ...             ...   \n",
       "ZEPH                         0               0   \n",
       "GAP                          0               0   \n",
       "BDX                          0               0   \n",
       "ZEN                          0               0   \n",
       "XBC                          0               0   \n",
       "\n",
       "      ProofType_Zero-Knowledge Proof  ProofType_dPoW/PoW  \n",
       "42                                 0                   0  \n",
       "404                                0                   0  \n",
       "1337                               0                   0  \n",
       "BTC                                0                   0  \n",
       "ETH                                0                   0  \n",
       "...                              ...                 ...  \n",
       "ZEPH                               0                   0  \n",
       "GAP                                0                   0  \n",
       "BDX                                0                   0  \n",
       "ZEN                                0                   0  \n",
       "XBC                                0                   0  \n",
       "\n",
       "[532 rows x 96 columns]"
      ]
     },
     "execution_count": 289,
     "metadata": {},
     "output_type": "execute_result"
    }
   ],
   "source": [
    "# Create dummies variables for all of the text features, and store the resulting data on a DataFrame named X.\n",
    "# Creating dummy variables for categorical datatypes\n",
    "X = pd.get_dummies(drop6, columns=['Algorithm', 'ProofType'],drop_first = True)\n",
    "X"
   ]
  },
  {
   "cell_type": "code",
   "execution_count": 290,
   "metadata": {},
   "outputs": [
    {
     "data": {
      "text/plain": [
       "array([[-0.11710817, -0.05621025, -0.0433963 , ..., -0.0433963 ,\n",
       "        -0.0433963 , -0.0433963 ],\n",
       "       [-0.09396955, -0.05620339, -0.0433963 , ..., -0.0433963 ,\n",
       "        -0.0433963 , -0.0433963 ],\n",
       "       [ 0.52494561, -0.0521619 , -0.0433963 , ..., -0.0433963 ,\n",
       "        -0.0433963 , -0.0433963 ],\n",
       "       ...,\n",
       "       [-0.09561336, -0.05619221, -0.0433963 , ..., -0.0433963 ,\n",
       "        -0.0433963 , -0.0433963 ],\n",
       "       [-0.11694817, -0.05620998, -0.0433963 , ..., -0.0433963 ,\n",
       "        -0.0433963 , -0.0433963 ],\n",
       "       [-0.11710536, -0.05621024, -0.0433963 , ..., -0.0433963 ,\n",
       "        -0.0433963 , -0.0433963 ]])"
      ]
     },
     "execution_count": 290,
     "metadata": {},
     "output_type": "execute_result"
    }
   ],
   "source": [
    "# standardize all of the data from the X DataFrame.\n",
    "X_scaled = StandardScaler().fit_transform(X)\n",
    "X_scaled\n"
   ]
  },
  {
   "cell_type": "code",
   "execution_count": 291,
   "metadata": {},
   "outputs": [
    {
     "data": {
      "text/html": [
       "<div>\n",
       "<style scoped>\n",
       "    .dataframe tbody tr th:only-of-type {\n",
       "        vertical-align: middle;\n",
       "    }\n",
       "\n",
       "    .dataframe tbody tr th {\n",
       "        vertical-align: top;\n",
       "    }\n",
       "\n",
       "    .dataframe thead th {\n",
       "        text-align: right;\n",
       "    }\n",
       "</style>\n",
       "<table border=\"1\" class=\"dataframe\">\n",
       "  <thead>\n",
       "    <tr style=\"text-align: right;\">\n",
       "      <th></th>\n",
       "      <th>PC 1</th>\n",
       "      <th>PC 2</th>\n",
       "      <th>PC 3</th>\n",
       "    </tr>\n",
       "  </thead>\n",
       "  <tbody>\n",
       "    <tr>\n",
       "      <th>42</th>\n",
       "      <td>-0.263302</td>\n",
       "      <td>1.127869</td>\n",
       "      <td>-0.448401</td>\n",
       "    </tr>\n",
       "    <tr>\n",
       "      <th>404</th>\n",
       "      <td>-0.250825</td>\n",
       "      <td>1.126523</td>\n",
       "      <td>-0.449045</td>\n",
       "    </tr>\n",
       "    <tr>\n",
       "      <th>1337</th>\n",
       "      <td>0.187072</td>\n",
       "      <td>1.847430</td>\n",
       "      <td>-0.565503</td>\n",
       "    </tr>\n",
       "    <tr>\n",
       "      <th>BTC</th>\n",
       "      <td>-0.196846</td>\n",
       "      <td>-1.306302</td>\n",
       "      <td>0.114742</td>\n",
       "    </tr>\n",
       "    <tr>\n",
       "      <th>ETH</th>\n",
       "      <td>-0.230504</td>\n",
       "      <td>-2.090144</td>\n",
       "      <td>0.344843</td>\n",
       "    </tr>\n",
       "    <tr>\n",
       "      <th>...</th>\n",
       "      <td>...</td>\n",
       "      <td>...</td>\n",
       "      <td>...</td>\n",
       "    </tr>\n",
       "    <tr>\n",
       "      <th>ZEPH</th>\n",
       "      <td>3.933674</td>\n",
       "      <td>0.099343</td>\n",
       "      <td>-0.152449</td>\n",
       "    </tr>\n",
       "    <tr>\n",
       "      <th>GAP</th>\n",
       "      <td>-0.263126</td>\n",
       "      <td>1.127850</td>\n",
       "      <td>-0.448411</td>\n",
       "    </tr>\n",
       "    <tr>\n",
       "      <th>BDX</th>\n",
       "      <td>-0.122556</td>\n",
       "      <td>-2.337314</td>\n",
       "      <td>0.281659</td>\n",
       "    </tr>\n",
       "    <tr>\n",
       "      <th>ZEN</th>\n",
       "      <td>-0.226583</td>\n",
       "      <td>-2.063945</td>\n",
       "      <td>0.365965</td>\n",
       "    </tr>\n",
       "    <tr>\n",
       "      <th>XBC</th>\n",
       "      <td>-0.135397</td>\n",
       "      <td>0.877217</td>\n",
       "      <td>-0.159334</td>\n",
       "    </tr>\n",
       "  </tbody>\n",
       "</table>\n",
       "<p>532 rows × 3 columns</p>\n",
       "</div>"
      ],
      "text/plain": [
       "          PC 1      PC 2      PC 3\n",
       "42   -0.263302  1.127869 -0.448401\n",
       "404  -0.250825  1.126523 -0.449045\n",
       "1337  0.187072  1.847430 -0.565503\n",
       "BTC  -0.196846 -1.306302  0.114742\n",
       "ETH  -0.230504 -2.090144  0.344843\n",
       "...        ...       ...       ...\n",
       "ZEPH  3.933674  0.099343 -0.152449\n",
       "GAP  -0.263126  1.127850 -0.448411\n",
       "BDX  -0.122556 -2.337314  0.281659\n",
       "ZEN  -0.226583 -2.063945  0.365965\n",
       "XBC  -0.135397  0.877217 -0.159334\n",
       "\n",
       "[532 rows x 3 columns]"
      ]
     },
     "execution_count": 291,
     "metadata": {},
     "output_type": "execute_result"
    }
   ],
   "source": [
    "# Use PCA to reduce the dimensions of the X DataFrame down to three principal components.\n",
    "pca = PCA(n_components=3)\n",
    "X_pca = pca.fit_transform(X_scaled)\n",
    "\n",
    "# pca dataframe\n",
    "pcs_df = pd.DataFrame(\n",
    "    data = X_pca,\n",
    "    columns = [\"PC 1\", \"PC 2\", \"PC 3\"]).set_index(X.index , drop=False)\n",
    "\n",
    "pcs_df"
   ]
  },
  {
   "cell_type": "code",
   "execution_count": 292,
   "metadata": {},
   "outputs": [
    {
     "data": {},
     "metadata": {},
     "output_type": "display_data"
    },
    {
     "data": {
      "application/vnd.holoviews_exec.v0+json": "",
      "text/html": [
       "<div id='251830'>\n",
       "\n",
       "\n",
       "\n",
       "\n",
       "\n",
       "  <div class=\"bk-root\" id=\"384f18c8-3233-4bf5-87fb-50306a7a0bb7\" data-root-id=\"251830\"></div>\n",
       "</div>\n",
       "<script type=\"application/javascript\">(function(root) {\n",
       "  function embed_document(root) {\n",
       "  var docs_json = {\"328720b4-9b5f-4e23-af3c-ecd353534acf\":{\"roots\":{\"references\":[{\"attributes\":{\"line_alpha\":0.2,\"line_color\":\"#1f77b3\",\"line_width\":2,\"x\":{\"field\":\"k\"},\"y\":{\"field\":\"inertia\"}},\"id\":\"251870\",\"type\":\"Line\"},{\"attributes\":{},\"id\":\"251856\",\"type\":\"ResetTool\"},{\"attributes\":{\"margin\":[5,5,5,5],\"name\":\"HSpacer139523\",\"sizing_mode\":\"stretch_width\"},\"id\":\"251894\",\"type\":\"Spacer\"},{\"attributes\":{\"children\":[{\"id\":\"251831\"},{\"id\":\"251835\"},{\"id\":\"251894\"}],\"margin\":[0,0,0,0],\"name\":\"Row139518\",\"tags\":[\"embedded\"]},\"id\":\"251830\",\"type\":\"Row\"},{\"attributes\":{\"line_alpha\":0.1,\"line_color\":\"#1f77b3\",\"line_width\":2,\"x\":{\"field\":\"k\"},\"y\":{\"field\":\"inertia\"}},\"id\":\"251869\",\"type\":\"Line\"},{\"attributes\":{},\"id\":\"251853\",\"type\":\"PanTool\"},{\"attributes\":{\"source\":{\"id\":\"251865\"}},\"id\":\"251872\",\"type\":\"CDSView\"},{\"attributes\":{\"data_source\":{\"id\":\"251865\"},\"glyph\":{\"id\":\"251868\"},\"hover_glyph\":null,\"muted_glyph\":{\"id\":\"251870\"},\"nonselection_glyph\":{\"id\":\"251869\"},\"selection_glyph\":null,\"view\":{\"id\":\"251872\"}},\"id\":\"251871\",\"type\":\"GlyphRenderer\"},{\"attributes\":{},\"id\":\"251852\",\"type\":\"SaveTool\"},{\"attributes\":{\"align\":null,\"below\":[{\"id\":\"251844\"}],\"center\":[{\"id\":\"251847\"},{\"id\":\"251851\"}],\"left\":[{\"id\":\"251848\"}],\"margin\":null,\"min_border_bottom\":10,\"min_border_left\":10,\"min_border_right\":10,\"min_border_top\":10,\"plot_height\":300,\"plot_width\":700,\"renderers\":[{\"id\":\"251871\"}],\"sizing_mode\":\"fixed\",\"title\":{\"id\":\"251836\"},\"toolbar\":{\"id\":\"251858\"},\"x_range\":{\"id\":\"251832\"},\"x_scale\":{\"id\":\"251840\"},\"y_range\":{\"id\":\"251833\"},\"y_scale\":{\"id\":\"251842\"}},\"id\":\"251835\",\"subtype\":\"Figure\",\"type\":\"Plot\"},{\"attributes\":{\"text\":\"Elbow Curve\",\"text_color\":{\"value\":\"black\"},\"text_font_size\":{\"value\":\"12pt\"}},\"id\":\"251836\",\"type\":\"Title\"},{\"attributes\":{},\"id\":\"251884\",\"type\":\"UnionRenderers\"},{\"attributes\":{\"margin\":[5,5,5,5],\"name\":\"HSpacer139522\",\"sizing_mode\":\"stretch_width\"},\"id\":\"251831\",\"type\":\"Spacer\"},{\"attributes\":{\"ticks\":[1,2,3,4,5,6,7,8,9,10]},\"id\":\"251873\",\"type\":\"FixedTicker\"},{\"attributes\":{\"axis\":{\"id\":\"251844\"},\"grid_line_color\":null,\"ticker\":null},\"id\":\"251847\",\"type\":\"Grid\"},{\"attributes\":{\"active_drag\":\"auto\",\"active_inspect\":\"auto\",\"active_multi\":null,\"active_scroll\":\"auto\",\"active_tap\":\"auto\",\"tools\":[{\"id\":\"251834\"},{\"id\":\"251852\"},{\"id\":\"251853\"},{\"id\":\"251854\"},{\"id\":\"251855\"},{\"id\":\"251856\"}]},\"id\":\"251858\",\"type\":\"Toolbar\"},{\"attributes\":{},\"id\":\"251874\",\"type\":\"BasicTickFormatter\"},{\"attributes\":{},\"id\":\"251878\",\"type\":\"BasicTickFormatter\"},{\"attributes\":{},\"id\":\"251849\",\"type\":\"BasicTicker\"},{\"attributes\":{},\"id\":\"251866\",\"type\":\"Selection\"},{\"attributes\":{},\"id\":\"251840\",\"type\":\"LinearScale\"},{\"attributes\":{\"end\":3716.919575556458,\"reset_end\":3716.919575556458,\"reset_start\":-267.47576880297925,\"start\":-267.47576880297925,\"tags\":[[[\"inertia\",\"inertia\",null]]]},\"id\":\"251833\",\"type\":\"Range1d\"},{\"attributes\":{\"overlay\":{\"id\":\"251857\"}},\"id\":\"251855\",\"type\":\"BoxZoomTool\"},{\"attributes\":{\"data\":{\"inertia\":{\"__ndarray__\":\"o4Zk9MVxqkBPuDJ0y6+iQO9e6dduvJdACEgAPg2dhkDBP9mc/hp2QDEZwzJBC2lAm/5uJP14YEBQYAjRY45ZQAmvhyWQSlRAgCfgx6gjUEA=\",\"dtype\":\"float64\",\"order\":\"little\",\"shape\":[10]},\"k\":[1,2,3,4,5,6,7,8,9,10]},\"selected\":{\"id\":\"251866\"},\"selection_policy\":{\"id\":\"251884\"}},\"id\":\"251865\",\"type\":\"ColumnDataSource\"},{\"attributes\":{\"callback\":null,\"renderers\":[{\"id\":\"251871\"}],\"tags\":[\"hv_created\"],\"tooltips\":[[\"k\",\"@{k}\"],[\"inertia\",\"@{inertia}\"]]},\"id\":\"251834\",\"type\":\"HoverTool\"},{\"attributes\":{\"end\":10.0,\"reset_end\":10.0,\"reset_start\":1.0,\"start\":1.0,\"tags\":[[[\"k\",\"k\",null]]]},\"id\":\"251832\",\"type\":\"Range1d\"},{\"attributes\":{},\"id\":\"251842\",\"type\":\"LinearScale\"},{\"attributes\":{},\"id\":\"251854\",\"type\":\"WheelZoomTool\"},{\"attributes\":{\"bottom_units\":\"screen\",\"fill_alpha\":0.5,\"fill_color\":\"lightgrey\",\"left_units\":\"screen\",\"level\":\"overlay\",\"line_alpha\":1.0,\"line_color\":\"black\",\"line_dash\":[4,4],\"line_width\":2,\"right_units\":\"screen\",\"top_units\":\"screen\"},\"id\":\"251857\",\"type\":\"BoxAnnotation\"},{\"attributes\":{\"line_color\":\"#1f77b3\",\"line_width\":2,\"x\":{\"field\":\"k\"},\"y\":{\"field\":\"inertia\"}},\"id\":\"251868\",\"type\":\"Line\"},{\"attributes\":{\"axis_label\":\"inertia\",\"bounds\":\"auto\",\"formatter\":{\"id\":\"251878\"},\"major_label_orientation\":\"horizontal\",\"ticker\":{\"id\":\"251849\"}},\"id\":\"251848\",\"type\":\"LinearAxis\"},{\"attributes\":{\"axis_label\":\"k\",\"bounds\":\"auto\",\"formatter\":{\"id\":\"251874\"},\"major_label_orientation\":\"horizontal\",\"ticker\":{\"id\":\"251873\"}},\"id\":\"251844\",\"type\":\"LinearAxis\"},{\"attributes\":{\"axis\":{\"id\":\"251848\"},\"dimension\":1,\"grid_line_color\":null,\"ticker\":null},\"id\":\"251851\",\"type\":\"Grid\"}],\"root_ids\":[\"251830\"]},\"title\":\"Bokeh Application\",\"version\":\"2.2.1\"}};\n",
       "  var render_items = [{\"docid\":\"328720b4-9b5f-4e23-af3c-ecd353534acf\",\"root_ids\":[\"251830\"],\"roots\":{\"251830\":\"384f18c8-3233-4bf5-87fb-50306a7a0bb7\"}}];\n",
       "  root.Bokeh.embed.embed_items_notebook(docs_json, render_items);\n",
       "  }\n",
       "if (root.Bokeh !== undefined) {\n",
       "    embed_document(root);\n",
       "  } else {\n",
       "    var attempts = 0;\n",
       "    var timer = setInterval(function(root) {\n",
       "      if (root.Bokeh !== undefined) {\n",
       "        clearInterval(timer);\n",
       "        embed_document(root);\n",
       "      } else if (document.readyState == \"complete\") {\n",
       "        attempts++;\n",
       "        if (attempts > 100) {\n",
       "          clearInterval(timer);\n",
       "          console.log(\"Bokeh: ERROR: Unable to run BokehJS code because BokehJS library is missing\");\n",
       "        }\n",
       "      }\n",
       "    }, 10, root)\n",
       "  }\n",
       "})(window);</script>"
      ],
      "text/plain": [
       ":Curve   [k]   (inertia)"
      ]
     },
     "execution_count": 292,
     "metadata": {
      "application/vnd.holoviews_exec.v0+json": {
       "id": "251830"
      }
     },
     "output_type": "execute_result"
    }
   ],
   "source": [
    "# Create an elbow curve to find the best value for K, and use the pcs_df DataFrame.\n",
    "inertia = []\n",
    "k = list(range(1, 11))\n",
    "\n",
    "# Calculate the inertia for the range of K values\n",
    "for i in k:\n",
    "    km = KMeans(n_clusters=i, random_state=0)\n",
    "    km.fit(pcs_df)\n",
    "    inertia.append(km.inertia_)\n",
    "\n",
    "# Create the elbow curve\n",
    "elbow_data = {\"k\": k, \"inertia\": inertia}\n",
    "df_elbow = pd.DataFrame(elbow_data)\n",
    "df_elbow.hvplot.line(x=\"k\", y=\"inertia\", xticks=k, title=\"Elbow Curve\")\n"
   ]
  },
  {
   "cell_type": "code",
   "execution_count": 301,
   "metadata": {},
   "outputs": [
    {
     "data": {
      "text/html": [
       "<div>\n",
       "<style scoped>\n",
       "    .dataframe tbody tr th:only-of-type {\n",
       "        vertical-align: middle;\n",
       "    }\n",
       "\n",
       "    .dataframe tbody tr th {\n",
       "        vertical-align: top;\n",
       "    }\n",
       "\n",
       "    .dataframe thead th {\n",
       "        text-align: right;\n",
       "    }\n",
       "</style>\n",
       "<table border=\"1\" class=\"dataframe\">\n",
       "  <thead>\n",
       "    <tr style=\"text-align: right;\">\n",
       "      <th></th>\n",
       "      <th>PC 1</th>\n",
       "      <th>PC 2</th>\n",
       "      <th>PC 3</th>\n",
       "      <th>Class</th>\n",
       "    </tr>\n",
       "  </thead>\n",
       "  <tbody>\n",
       "    <tr>\n",
       "      <th>42</th>\n",
       "      <td>-0.263302</td>\n",
       "      <td>1.127869</td>\n",
       "      <td>-0.448401</td>\n",
       "      <td>0</td>\n",
       "    </tr>\n",
       "    <tr>\n",
       "      <th>404</th>\n",
       "      <td>-0.250825</td>\n",
       "      <td>1.126523</td>\n",
       "      <td>-0.449045</td>\n",
       "      <td>0</td>\n",
       "    </tr>\n",
       "    <tr>\n",
       "      <th>1337</th>\n",
       "      <td>0.187072</td>\n",
       "      <td>1.847430</td>\n",
       "      <td>-0.565503</td>\n",
       "      <td>0</td>\n",
       "    </tr>\n",
       "    <tr>\n",
       "      <th>BTC</th>\n",
       "      <td>-0.196846</td>\n",
       "      <td>-1.306302</td>\n",
       "      <td>0.114742</td>\n",
       "      <td>1</td>\n",
       "    </tr>\n",
       "    <tr>\n",
       "      <th>ETH</th>\n",
       "      <td>-0.230504</td>\n",
       "      <td>-2.090144</td>\n",
       "      <td>0.344843</td>\n",
       "      <td>1</td>\n",
       "    </tr>\n",
       "    <tr>\n",
       "      <th>...</th>\n",
       "      <td>...</td>\n",
       "      <td>...</td>\n",
       "      <td>...</td>\n",
       "      <td>...</td>\n",
       "    </tr>\n",
       "    <tr>\n",
       "      <th>ZEPH</th>\n",
       "      <td>3.933674</td>\n",
       "      <td>0.099343</td>\n",
       "      <td>-0.152449</td>\n",
       "      <td>3</td>\n",
       "    </tr>\n",
       "    <tr>\n",
       "      <th>GAP</th>\n",
       "      <td>-0.263126</td>\n",
       "      <td>1.127850</td>\n",
       "      <td>-0.448411</td>\n",
       "      <td>0</td>\n",
       "    </tr>\n",
       "    <tr>\n",
       "      <th>BDX</th>\n",
       "      <td>-0.122556</td>\n",
       "      <td>-2.337314</td>\n",
       "      <td>0.281659</td>\n",
       "      <td>1</td>\n",
       "    </tr>\n",
       "    <tr>\n",
       "      <th>ZEN</th>\n",
       "      <td>-0.226583</td>\n",
       "      <td>-2.063945</td>\n",
       "      <td>0.365965</td>\n",
       "      <td>1</td>\n",
       "    </tr>\n",
       "    <tr>\n",
       "      <th>XBC</th>\n",
       "      <td>-0.135397</td>\n",
       "      <td>0.877217</td>\n",
       "      <td>-0.159334</td>\n",
       "      <td>0</td>\n",
       "    </tr>\n",
       "  </tbody>\n",
       "</table>\n",
       "<p>532 rows × 4 columns</p>\n",
       "</div>"
      ],
      "text/plain": [
       "          PC 1      PC 2      PC 3  Class\n",
       "42   -0.263302  1.127869 -0.448401      0\n",
       "404  -0.250825  1.126523 -0.449045      0\n",
       "1337  0.187072  1.847430 -0.565503      0\n",
       "BTC  -0.196846 -1.306302  0.114742      1\n",
       "ETH  -0.230504 -2.090144  0.344843      1\n",
       "...        ...       ...       ...    ...\n",
       "ZEPH  3.933674  0.099343 -0.152449      3\n",
       "GAP  -0.263126  1.127850 -0.448411      0\n",
       "BDX  -0.122556 -2.337314  0.281659      1\n",
       "ZEN  -0.226583 -2.063945  0.365965      1\n",
       "XBC  -0.135397  0.877217 -0.159334      0\n",
       "\n",
       "[532 rows x 4 columns]"
      ]
     },
     "execution_count": 301,
     "metadata": {},
     "output_type": "execute_result"
    }
   ],
   "source": [
    "# run the K-means algorithm to predict the K clusters for the cryptocurrencies’ data. Use the pcs_df to run the K-means algorithm.\n",
    "# Initialize the K-means model\n",
    "model = KMeans(n_clusters=5, random_state=0)\n",
    "\n",
    "# Fit the model\n",
    "model.fit(pcs_df)\n",
    "\n",
    "# Predict clusters\n",
    "predictions = model.predict(pcs_df)\n",
    "\n",
    "# Add the predicted class columns\n",
    "pcs_df[\"Class\"] = model.labels_\n",
    "pcs_df"
   ]
  },
  {
   "cell_type": "code",
   "execution_count": 302,
   "metadata": {},
   "outputs": [
    {
     "data": {
      "text/html": [
       "<div>\n",
       "<style scoped>\n",
       "    .dataframe tbody tr th:only-of-type {\n",
       "        vertical-align: middle;\n",
       "    }\n",
       "\n",
       "    .dataframe tbody tr th {\n",
       "        vertical-align: top;\n",
       "    }\n",
       "\n",
       "    .dataframe thead th {\n",
       "        text-align: right;\n",
       "    }\n",
       "</style>\n",
       "<table border=\"1\" class=\"dataframe\">\n",
       "  <thead>\n",
       "    <tr style=\"text-align: right;\">\n",
       "      <th></th>\n",
       "      <th>Algorithm</th>\n",
       "      <th>ProofType</th>\n",
       "      <th>TotalCoinsMined</th>\n",
       "      <th>TotalCoinSupply</th>\n",
       "      <th>PC 1</th>\n",
       "      <th>PC 2</th>\n",
       "      <th>PC 3</th>\n",
       "      <th>CoinName</th>\n",
       "      <th>Class</th>\n",
       "    </tr>\n",
       "  </thead>\n",
       "  <tbody>\n",
       "    <tr>\n",
       "      <th>42</th>\n",
       "      <td>Scrypt</td>\n",
       "      <td>PoW/PoS</td>\n",
       "      <td>4.199995e+01</td>\n",
       "      <td>4.200000e+01</td>\n",
       "      <td>-0.263302</td>\n",
       "      <td>1.127869</td>\n",
       "      <td>-0.448401</td>\n",
       "      <td>42 Coin</td>\n",
       "      <td>0</td>\n",
       "    </tr>\n",
       "    <tr>\n",
       "      <th>404</th>\n",
       "      <td>Scrypt</td>\n",
       "      <td>PoW/PoS</td>\n",
       "      <td>1.055185e+09</td>\n",
       "      <td>5.320000e+08</td>\n",
       "      <td>-0.250825</td>\n",
       "      <td>1.126523</td>\n",
       "      <td>-0.449045</td>\n",
       "      <td>404Coin</td>\n",
       "      <td>0</td>\n",
       "    </tr>\n",
       "    <tr>\n",
       "      <th>1337</th>\n",
       "      <td>X13</td>\n",
       "      <td>PoW/PoS</td>\n",
       "      <td>2.927942e+10</td>\n",
       "      <td>3.141593e+11</td>\n",
       "      <td>0.187072</td>\n",
       "      <td>1.847430</td>\n",
       "      <td>-0.565503</td>\n",
       "      <td>EliteCoin</td>\n",
       "      <td>0</td>\n",
       "    </tr>\n",
       "    <tr>\n",
       "      <th>BTC</th>\n",
       "      <td>SHA-256</td>\n",
       "      <td>PoW</td>\n",
       "      <td>1.792718e+07</td>\n",
       "      <td>2.100000e+07</td>\n",
       "      <td>-0.196846</td>\n",
       "      <td>-1.306302</td>\n",
       "      <td>0.114742</td>\n",
       "      <td>Bitcoin</td>\n",
       "      <td>1</td>\n",
       "    </tr>\n",
       "    <tr>\n",
       "      <th>ETH</th>\n",
       "      <td>Ethash</td>\n",
       "      <td>PoW</td>\n",
       "      <td>1.076842e+08</td>\n",
       "      <td>0.000000e+00</td>\n",
       "      <td>-0.230504</td>\n",
       "      <td>-2.090144</td>\n",
       "      <td>0.344843</td>\n",
       "      <td>Ethereum</td>\n",
       "      <td>1</td>\n",
       "    </tr>\n",
       "    <tr>\n",
       "      <th>...</th>\n",
       "      <td>...</td>\n",
       "      <td>...</td>\n",
       "      <td>...</td>\n",
       "      <td>...</td>\n",
       "      <td>...</td>\n",
       "      <td>...</td>\n",
       "      <td>...</td>\n",
       "      <td>...</td>\n",
       "      <td>...</td>\n",
       "    </tr>\n",
       "    <tr>\n",
       "      <th>ZEPH</th>\n",
       "      <td>SHA-256</td>\n",
       "      <td>DPoS</td>\n",
       "      <td>2.000000e+09</td>\n",
       "      <td>2.000000e+09</td>\n",
       "      <td>3.933674</td>\n",
       "      <td>0.099343</td>\n",
       "      <td>-0.152449</td>\n",
       "      <td>ZEPHYR</td>\n",
       "      <td>3</td>\n",
       "    </tr>\n",
       "    <tr>\n",
       "      <th>GAP</th>\n",
       "      <td>Scrypt</td>\n",
       "      <td>PoW/PoS</td>\n",
       "      <td>1.493105e+07</td>\n",
       "      <td>2.500000e+08</td>\n",
       "      <td>-0.263126</td>\n",
       "      <td>1.127850</td>\n",
       "      <td>-0.448411</td>\n",
       "      <td>Gapcoin</td>\n",
       "      <td>0</td>\n",
       "    </tr>\n",
       "    <tr>\n",
       "      <th>BDX</th>\n",
       "      <td>CryptoNight</td>\n",
       "      <td>PoW</td>\n",
       "      <td>9.802226e+08</td>\n",
       "      <td>1.400223e+09</td>\n",
       "      <td>-0.122556</td>\n",
       "      <td>-2.337314</td>\n",
       "      <td>0.281659</td>\n",
       "      <td>Beldex</td>\n",
       "      <td>1</td>\n",
       "    </tr>\n",
       "    <tr>\n",
       "      <th>ZEN</th>\n",
       "      <td>Equihash</td>\n",
       "      <td>PoW</td>\n",
       "      <td>7.296538e+06</td>\n",
       "      <td>2.100000e+07</td>\n",
       "      <td>-0.226583</td>\n",
       "      <td>-2.063945</td>\n",
       "      <td>0.365965</td>\n",
       "      <td>Horizen</td>\n",
       "      <td>1</td>\n",
       "    </tr>\n",
       "    <tr>\n",
       "      <th>XBC</th>\n",
       "      <td>Scrypt</td>\n",
       "      <td>PoS</td>\n",
       "      <td>1.283270e+05</td>\n",
       "      <td>1.000000e+06</td>\n",
       "      <td>-0.135397</td>\n",
       "      <td>0.877217</td>\n",
       "      <td>-0.159334</td>\n",
       "      <td>BitcoinPlus</td>\n",
       "      <td>0</td>\n",
       "    </tr>\n",
       "  </tbody>\n",
       "</table>\n",
       "<p>532 rows × 9 columns</p>\n",
       "</div>"
      ],
      "text/plain": [
       "        Algorithm ProofType  TotalCoinsMined  TotalCoinSupply      PC 1  \\\n",
       "42         Scrypt   PoW/PoS     4.199995e+01     4.200000e+01 -0.263302   \n",
       "404        Scrypt   PoW/PoS     1.055185e+09     5.320000e+08 -0.250825   \n",
       "1337          X13   PoW/PoS     2.927942e+10     3.141593e+11  0.187072   \n",
       "BTC       SHA-256       PoW     1.792718e+07     2.100000e+07 -0.196846   \n",
       "ETH        Ethash       PoW     1.076842e+08     0.000000e+00 -0.230504   \n",
       "...           ...       ...              ...              ...       ...   \n",
       "ZEPH      SHA-256      DPoS     2.000000e+09     2.000000e+09  3.933674   \n",
       "GAP        Scrypt   PoW/PoS     1.493105e+07     2.500000e+08 -0.263126   \n",
       "BDX   CryptoNight       PoW     9.802226e+08     1.400223e+09 -0.122556   \n",
       "ZEN      Equihash       PoW     7.296538e+06     2.100000e+07 -0.226583   \n",
       "XBC        Scrypt       PoS     1.283270e+05     1.000000e+06 -0.135397   \n",
       "\n",
       "          PC 2      PC 3     CoinName  Class  \n",
       "42    1.127869 -0.448401      42 Coin      0  \n",
       "404   1.126523 -0.449045      404Coin      0  \n",
       "1337  1.847430 -0.565503    EliteCoin      0  \n",
       "BTC  -1.306302  0.114742      Bitcoin      1  \n",
       "ETH  -2.090144  0.344843     Ethereum      1  \n",
       "...        ...       ...          ...    ...  \n",
       "ZEPH  0.099343 -0.152449       ZEPHYR      3  \n",
       "GAP   1.127850 -0.448411      Gapcoin      0  \n",
       "BDX  -2.337314  0.281659       Beldex      1  \n",
       "ZEN  -2.063945  0.365965      Horizen      1  \n",
       "XBC   0.877217 -0.159334  BitcoinPlus      0  \n",
       "\n",
       "[532 rows x 9 columns]"
      ]
     },
     "execution_count": 302,
     "metadata": {},
     "output_type": "execute_result"
    }
   ],
   "source": [
    "# Create a new DataFrame named “clustered_df,” that includes the following columns: Algorithm, ProofType, TotalCoinsMined, TotalCoinSupply, PC 1, PC 2, PC 3, CoinName, and Class. \n",
    "# merging 2 at a time\n",
    "clustered_df = drop6.merge(pcs_df, left_index=True, right_index=True)  \n",
    "\n",
    "# adding coins_name column\n",
    "clustered_df['CoinName'] = coins_name\n",
    "\n",
    "# rearrange columns \n",
    "clustered_df = clustered_df[['Algorithm', 'ProofType', 'TotalCoinsMined', 'TotalCoinSupply', 'PC 1',\n",
    "       'PC 2', 'PC 3', 'CoinName', 'Class' ]]\n",
    "\n",
    "clustered_df"
   ]
  },
  {
   "cell_type": "code",
   "execution_count": 303,
   "metadata": {},
   "outputs": [
    {
     "data": {
      "application/vnd.plotly.v1+json": {
       "config": {
        "plotlyServerURL": "https://plot.ly"
       },
       "data": [
        {
         "customdata": [
          [
           "Scrypt"
          ],
          [
           "Scrypt"
          ],
          [
           "X13"
          ],
          [
           "X11"
          ],
          [
           "SHA-512"
          ],
          [
           "SHA-256"
          ],
          [
           "SHA-256"
          ],
          [
           "X15"
          ],
          [
           "Scrypt"
          ],
          [
           "Scrypt"
          ],
          [
           "Scrypt"
          ],
          [
           "Scrypt"
          ],
          [
           "Scrypt"
          ],
          [
           "Scrypt"
          ],
          [
           "Groestl"
          ],
          [
           "PoS"
          ],
          [
           "Scrypt"
          ],
          [
           "Scrypt"
          ],
          [
           "X11"
          ],
          [
           "X11"
          ],
          [
           "SHA3"
          ],
          [
           "Scrypt"
          ],
          [
           "SHA-256"
          ],
          [
           "Scrypt"
          ],
          [
           "X13"
          ],
          [
           "X13"
          ],
          [
           "NeoScrypt"
          ],
          [
           "Scrypt"
          ],
          [
           "Scrypt"
          ],
          [
           "Scrypt"
          ],
          [
           "X11"
          ],
          [
           "X11"
          ],
          [
           "Multiple"
          ],
          [
           "PHI1612"
          ],
          [
           "X11"
          ],
          [
           "Scrypt"
          ],
          [
           "Scrypt"
          ],
          [
           "Scrypt"
          ],
          [
           "X11"
          ],
          [
           "Multiple"
          ],
          [
           "X13"
          ],
          [
           "Scrypt"
          ],
          [
           "Shabal256"
          ],
          [
           "Counterparty"
          ],
          [
           "SHA-256"
          ],
          [
           "Groestl"
          ],
          [
           "Scrypt"
          ],
          [
           "X13"
          ],
          [
           "Scrypt"
          ],
          [
           "Scrypt"
          ],
          [
           "X13"
          ],
          [
           "X11"
          ],
          [
           "Scrypt"
          ],
          [
           "X11"
          ],
          [
           "SHA3"
          ],
          [
           "QUAIT"
          ],
          [
           "X11"
          ],
          [
           "Scrypt"
          ],
          [
           "X13"
          ],
          [
           "SHA-256"
          ],
          [
           "X15"
          ],
          [
           "BLAKE256"
          ],
          [
           "SHA-256"
          ],
          [
           "X11"
          ],
          [
           "SHA-256"
          ],
          [
           "NIST5"
          ],
          [
           "Scrypt"
          ],
          [
           "Scrypt"
          ],
          [
           "X11"
          ],
          [
           "Scrypt"
          ],
          [
           "SHA-256"
          ],
          [
           "Scrypt"
          ],
          [
           "PoS"
          ],
          [
           "X11"
          ],
          [
           "SHA-256"
          ],
          [
           "SHA-256"
          ],
          [
           "NIST5"
          ],
          [
           "X11"
          ],
          [
           "POS 3.0"
          ],
          [
           "Scrypt"
          ],
          [
           "Scrypt"
          ],
          [
           "Scrypt"
          ],
          [
           "X13"
          ],
          [
           "X11"
          ],
          [
           "X11"
          ],
          [
           "Scrypt"
          ],
          [
           "SHA-256"
          ],
          [
           "X11"
          ],
          [
           "Scrypt"
          ],
          [
           "Scrypt"
          ],
          [
           "Scrypt"
          ],
          [
           "Scrypt"
          ],
          [
           "SHA-256D"
          ],
          [
           "PoS"
          ],
          [
           "Scrypt"
          ],
          [
           "X11"
          ],
          [
           "PoS"
          ],
          [
           "X13"
          ],
          [
           "X14"
          ],
          [
           "PoS"
          ],
          [
           "SHA-256D"
          ],
          [
           "X11"
          ],
          [
           "X13"
          ],
          [
           "X11"
          ],
          [
           "PoS"
          ],
          [
           "Scrypt"
          ],
          [
           "Scrypt"
          ],
          [
           "PoS"
          ],
          [
           "X11"
          ],
          [
           "SHA-256"
          ],
          [
           "Scrypt"
          ],
          [
           "X11"
          ],
          [
           "Scrypt"
          ],
          [
           "Scrypt"
          ],
          [
           "X11"
          ],
          [
           "Scrypt"
          ],
          [
           "Scrypt"
          ],
          [
           "Scrypt"
          ],
          [
           "Scrypt"
          ],
          [
           "Quark"
          ],
          [
           "QuBit"
          ],
          [
           "Scrypt"
          ],
          [
           "SHA-256"
          ],
          [
           "X11"
          ],
          [
           "Scrypt"
          ],
          [
           "Scrypt"
          ],
          [
           "Scrypt"
          ],
          [
           "Scrypt"
          ],
          [
           "X13"
          ],
          [
           "Scrypt"
          ],
          [
           "Scrypt"
          ],
          [
           "X11"
          ],
          [
           "Blake2S"
          ],
          [
           "X11"
          ],
          [
           "PoS"
          ],
          [
           "X11"
          ],
          [
           "PoS"
          ],
          [
           "X11"
          ],
          [
           "Scrypt"
          ],
          [
           "Scrypt"
          ],
          [
           "Scrypt"
          ],
          [
           "SHA-256"
          ],
          [
           "X11"
          ],
          [
           "Scrypt"
          ],
          [
           "PoS"
          ],
          [
           "Scrypt"
          ],
          [
           "X15"
          ],
          [
           "SHA-256"
          ],
          [
           "POS 3.0"
          ],
          [
           "536"
          ],
          [
           "NIST5"
          ],
          [
           "NIST5"
          ],
          [
           "Skein"
          ],
          [
           "X13"
          ],
          [
           "Scrypt"
          ],
          [
           "X13"
          ],
          [
           "SkunkHash v2 Raptor"
          ],
          [
           "Skein"
          ],
          [
           "X11"
          ],
          [
           "Scrypt"
          ],
          [
           "PoS"
          ],
          [
           "Scrypt"
          ],
          [
           "Scrypt"
          ],
          [
           "SHA-512"
          ],
          [
           "Ouroboros"
          ],
          [
           "X11"
          ],
          [
           "NeoScrypt"
          ],
          [
           "Scrypt"
          ],
          [
           "Lyra2REv2"
          ],
          [
           "Scrypt"
          ],
          [
           "SHA-256"
          ],
          [
           "NIST5"
          ],
          [
           "PHI1612"
          ],
          [
           "Scrypt"
          ],
          [
           "Quark"
          ],
          [
           "POS 2.0"
          ],
          [
           "Scrypt"
          ],
          [
           "SHA-256"
          ],
          [
           "X11"
          ],
          [
           "NIST5"
          ],
          [
           "X13"
          ],
          [
           "Scrypt"
          ],
          [
           "NIST5"
          ],
          [
           "Quark"
          ],
          [
           "Scrypt"
          ],
          [
           "Scrypt"
          ],
          [
           "X11"
          ],
          [
           "Quark"
          ],
          [
           "Scrypt"
          ],
          [
           "Scrypt"
          ],
          [
           "X11"
          ],
          [
           "POS 3.0"
          ],
          [
           "Scrypt"
          ],
          [
           "Scrypt"
          ],
          [
           "X13"
          ],
          [
           "Proof-of-BibleHash"
          ],
          [
           "SHA-256 + Hive"
          ],
          [
           "C11"
          ],
          [
           "X11"
          ],
          [
           "XEVAN"
          ],
          [
           "Scrypt"
          ],
          [
           "VBFT"
          ],
          [
           "NIST5"
          ],
          [
           "Scrypt"
          ],
          [
           "Scrypt"
          ],
          [
           "Scrypt"
          ],
          [
           "Green Protocol"
          ],
          [
           "PoS"
          ],
          [
           "Scrypt"
          ],
          [
           "Quark"
          ],
          [
           "PoS"
          ],
          [
           "X16R"
          ],
          [
           "Scrypt"
          ],
          [
           "XEVAN"
          ],
          [
           "Scrypt"
          ],
          [
           "Scrypt"
          ],
          [
           "Scrypt"
          ],
          [
           "SHA-256D"
          ],
          [
           "Scrypt"
          ],
          [
           "X15"
          ],
          [
           "Scrypt"
          ],
          [
           "Quark"
          ],
          [
           "SHA-256"
          ],
          [
           "DPoS"
          ],
          [
           "X16R"
          ],
          [
           "Quark"
          ],
          [
           "Quark"
          ],
          [
           "Scrypt"
          ],
          [
           "Lyra2REv2"
          ],
          [
           "Quark"
          ],
          [
           "Scrypt"
          ],
          [
           "X11"
          ],
          [
           "X11"
          ],
          [
           "Scrypt"
          ],
          [
           "PoS"
          ],
          [
           "Keccak"
          ],
          [
           "X11"
          ],
          [
           "Scrypt"
          ],
          [
           "SHA-512"
          ],
          [
           "ECC 256K1"
          ],
          [
           "XEVAN"
          ],
          [
           "XEVAN"
          ],
          [
           "X11"
          ],
          [
           "Quark"
          ],
          [
           "Scrypt"
          ],
          [
           "Quark"
          ],
          [
           "Quark"
          ],
          [
           "Scrypt"
          ],
          [
           "X11"
          ],
          [
           "Scrypt"
          ],
          [
           "XEVAN"
          ],
          [
           "SHA-256D"
          ],
          [
           "X11"
          ],
          [
           "X11"
          ],
          [
           "Scrypt"
          ],
          [
           "X11"
          ],
          [
           "Scrypt"
          ],
          [
           "Scrypt"
          ],
          [
           "SHA-256"
          ],
          [
           "Scrypt"
          ],
          [
           "X11"
          ],
          [
           "Scrypt"
          ],
          [
           "SHA-256"
          ],
          [
           "X11"
          ],
          [
           "Scrypt"
          ],
          [
           "Scrypt"
          ],
          [
           "X11"
          ],
          [
           "Scrypt"
          ],
          [
           "PoS"
          ],
          [
           "X11"
          ],
          [
           "SHA-256"
          ],
          [
           "Scrypt"
          ],
          [
           "Scrypt"
          ],
          [
           "NeoScrypt"
          ],
          [
           "X13"
          ],
          [
           "SHA-256"
          ],
          [
           "PoS"
          ],
          [
           "PoS"
          ],
          [
           "Scrypt"
          ],
          [
           "Scrypt"
          ]
         ],
         "hovertemplate": "<b>%{hovertext}</b><br><br>Class=%{marker.color}<br>PC 1=%{x}<br>PC 2=%{y}<br>PC 3=%{z}<br>Algorithm=%{customdata[0]}<extra></extra>",
         "hovertext": [
          "42 Coin",
          "404Coin",
          "EliteCoin",
          "Dash",
          "Bitshares",
          "BitcoinDark",
          "PayCoin",
          "KoboCoin",
          "Aurora Coin",
          "BlueCoin",
          "EnergyCoin",
          "BitBar",
          "CryptoBullion",
          "CasinoCoin",
          "Diamond",
          "Exclusive Coin",
          "FlutterCoin",
          "HoboNickels",
          "HyperStake",
          "IOCoin",
          "MaxCoin",
          "MintCoin",
          "MazaCoin",
          "Nautilus Coin",
          "NavCoin",
          "OpalCoin",
          "Orbitcoin",
          "PotCoin",
          "PhoenixCoin",
          "Reddcoin",
          "SuperCoin",
          "SyncCoin",
          "TeslaCoin",
          "TittieCoin",
          "TorCoin",
          "UnitaryStatus Dollar",
          "UltraCoin",
          "VeriCoin",
          "X11 Coin",
          "Crypti",
          "StealthCoin",
          "ZCC Coin",
          "BurstCoin",
          "StorjCoin",
          "Neutron",
          "FairCoin",
          "RubyCoin",
          "Kore",
          "Dnotes",
          "8BIT Coin",
          "Sativa Coin",
          "Ucoin",
          "Vtorrent",
          "IslaCoin",
          "Nexus",
          "Droidz",
          "Squall Coin",
          "Diggits",
          "Paycon",
          "Emercoin",
          "EverGreenCoin",
          "Decred",
          "EDRCoin",
          "Hitcoin",
          "DubaiCoin",
          "PWR Coin",
          "BillaryCoin",
          "GPU Coin",
          "EuropeCoin",
          "ZeitCoin",
          "SwingCoin",
          "SafeExchangeCoin",
          "Nebuchadnezzar",
          "Ratecoin",
          "Revenu",
          "Clockcoin",
          "VIP Tokens",
          "BitSend",
          "Let it Ride",
          "PutinCoin",
          "iBankCoin",
          "Frankywillcoin",
          "MudraCoin",
          "Lutetium Coin",
          "GoldBlocks",
          "CarterCoin",
          "BitTokens",
          "MustangCoin",
          "ZoneCoin",
          "RootCoin",
          "BitCurrency",
          "Swiscoin",
          "BuzzCoin",
          "Opair",
          "PesoBit",
          "Halloween Coin",
          "CoffeeCoin",
          "RoyalCoin",
          "GanjaCoin V2",
          "TeamUP",
          "LanaCoin",
          "InsaneCoin",
          "EmberCoin",
          "XenixCoin",
          "FreeCoin",
          "PLNCoin",
          "AquariusCoin",
          "Creatio",
          "Eternity",
          "Eurocoin",
          "BitcoinFast",
          "Stakenet",
          "BitConnect Coin",
          "MoneyCoin",
          "Enigma",
          "Russiacoin",
          "PandaCoin",
          "GameUnits",
          "GAKHcoin",
          "Allsafe",
          "LiteCreed",
          "Klingon Empire Darsek",
          "Internet of People",
          "KushCoin",
          "Printerium",
          "Impeach",
          "Zilbercoin",
          "FirstCoin",
          "FindCoin",
          "OpenChat",
          "RenosCoin",
          "VirtacoinPlus",
          "TajCoin",
          "Impact",
          "Atmos",
          "HappyCoin",
          "MacronCoin",
          "Condensate",
          "Independent Money System",
          "ArgusCoin",
          "LomoCoin",
          "ProCurrency",
          "GoldReserve",
          "GrowthCoin",
          "Phreak",
          "Degas Coin",
          "HTML5 Coin",
          "Ultimate Secure Cash",
          "QTUM",
          "Espers",
          "Denarius",
          "Virta Unique Coin",
          "Bitcoin Planet",
          "BritCoin",
          "Linda",
          "DeepOnion",
          "Signatum",
          "Cream",
          "Monoeci",
          "Draftcoin",
          "Stakecoin",
          "CoinonatX",
          "Ethereum Dark",
          "Obsidian",
          "Cardano",
          "Regalcoin",
          "TrezarCoin",
          "TerraNovaCoin",
          "Rupee",
          "WomenCoin",
          "Theresa May Coin",
          "NamoCoin",
          "LUXCoin",
          "Xios",
          "Bitcloud 2.0",
          "KekCoin",
          "BlackholeCoin",
          "Infinity Economics",
          "Magnet",
          "Electra",
          "Bitcoin Diamond",
          "Cash & Back Coin",
          "Bulwark",
          "Kalkulus",
          "GermanCoin",
          "LiteCoin Ultra",
          "PhantomX",
          "Digiwage",
          "Trollcoin",
          "Litecoin Plus",
          "Monkey Project",
          "TokenPay",
          "My Big Coin",
          "Unified Society USDEX",
          "Tokyo Coin",
          "BiblePay",
          "LitecoinCash",
          "Stipend",
          "Pushi",
          "Ellerium",
          "Velox",
          "Ontology",
          "Bitspace",
          "Briacoin",
          "Ignition",
          "MedicCoin",
          "Bitcoin Green",
          "Deviant Coin",
          "Abjcoin",
          "Carebit",
          "Zealium",
          "Proton",
          "iDealCash",
          "Bitcoin Incognito",
          "HollyWoodCoin",
          "Swisscoin",
          "Xt3ch",
          "TheVig",
          "EmaratCoin",
          "Dekado",
          "Lynx",
          "Poseidon Quark",
          "BitcoinWSpectrum",
          "Muse",
          "Trivechain",
          "Dystem",
          "Giant",
          "Peony Coin",
          "Absolute Coin",
          "Vitae",
          "TPCash",
          "ARENON",
          "EUNO",
          "MMOCoin",
          "Ketan",
          "XDNA",
          "PAXEX",
          "ThunderStake",
          "Kcash",
          "Acute Angle Cloud",
          "Bettex coin",
          "BitMoney",
          "Junson Ming Chan Coin",
          "HerbCoin",
          "Oduwa",
          "Galilel",
          "Crypto Sports",
          "Credit",
          "Dash Platinum",
          "Nasdacoin",
          "Beetle Coin",
          "Titan Coin",
          "Award",
          "Insane Coin",
          "LiteDoge",
          "TruckCoin",
          "OrangeCoin",
          "BitstarCoin",
          "NeosCoin",
          "HyperCoin",
          "PinkCoin",
          "AudioCoin",
          "IncaKoin",
          "Piggy Coin",
          "Genstake",
          "XiaoMiCoin",
          "CapriCoin",
          " ClubCoin",
          "Radium",
          "Creditbit ",
          "OKCash",
          "HiCoin",
          "WhiteCoin",
          "FriendshipCoin",
          "Triangles Coin",
          "TigerCash",
          "Particl",
          "Nxt",
          "Gapcoin",
          "BitcoinPlus"
         ],
         "legendgroup": "0",
         "marker": {
          "color": [
           0,
           0,
           0,
           0,
           0,
           0,
           0,
           0,
           0,
           0,
           0,
           0,
           0,
           0,
           0,
           0,
           0,
           0,
           0,
           0,
           0,
           0,
           0,
           0,
           0,
           0,
           0,
           0,
           0,
           0,
           0,
           0,
           0,
           0,
           0,
           0,
           0,
           0,
           0,
           0,
           0,
           0,
           0,
           0,
           0,
           0,
           0,
           0,
           0,
           0,
           0,
           0,
           0,
           0,
           0,
           0,
           0,
           0,
           0,
           0,
           0,
           0,
           0,
           0,
           0,
           0,
           0,
           0,
           0,
           0,
           0,
           0,
           0,
           0,
           0,
           0,
           0,
           0,
           0,
           0,
           0,
           0,
           0,
           0,
           0,
           0,
           0,
           0,
           0,
           0,
           0,
           0,
           0,
           0,
           0,
           0,
           0,
           0,
           0,
           0,
           0,
           0,
           0,
           0,
           0,
           0,
           0,
           0,
           0,
           0,
           0,
           0,
           0,
           0,
           0,
           0,
           0,
           0,
           0,
           0,
           0,
           0,
           0,
           0,
           0,
           0,
           0,
           0,
           0,
           0,
           0,
           0,
           0,
           0,
           0,
           0,
           0,
           0,
           0,
           0,
           0,
           0,
           0,
           0,
           0,
           0,
           0,
           0,
           0,
           0,
           0,
           0,
           0,
           0,
           0,
           0,
           0,
           0,
           0,
           0,
           0,
           0,
           0,
           0,
           0,
           0,
           0,
           0,
           0,
           0,
           0,
           0,
           0,
           0,
           0,
           0,
           0,
           0,
           0,
           0,
           0,
           0,
           0,
           0,
           0,
           0,
           0,
           0,
           0,
           0,
           0,
           0,
           0,
           0,
           0,
           0,
           0,
           0,
           0,
           0,
           0,
           0,
           0,
           0,
           0,
           0,
           0,
           0,
           0,
           0,
           0,
           0,
           0,
           0,
           0,
           0,
           0,
           0,
           0,
           0,
           0,
           0,
           0,
           0,
           0,
           0,
           0,
           0,
           0,
           0,
           0,
           0,
           0,
           0,
           0,
           0,
           0,
           0,
           0,
           0,
           0,
           0,
           0,
           0,
           0,
           0,
           0,
           0,
           0,
           0,
           0,
           0,
           0,
           0,
           0,
           0,
           0,
           0,
           0,
           0,
           0,
           0,
           0,
           0,
           0,
           0,
           0,
           0,
           0,
           0,
           0,
           0,
           0,
           0,
           0,
           0,
           0,
           0,
           0,
           0
          ],
          "coloraxis": "coloraxis",
          "symbol": "circle"
         },
         "mode": "markers",
         "name": "0",
         "scene": "scene",
         "showlegend": true,
         "type": "scatter3d",
         "x": [
          -0.2633021937842419,
          -0.25082470974347876,
          0.18707180067297835,
          -0.25583248328612096,
          0.1445504724904021,
          -0.17153234217005767,
          -0.04350167205880304,
          -0.07904610655523016,
          -0.2630877481385982,
          -0.2557883490837618,
          -0.2618469848731163,
          -0.2633016907875185,
          -0.26328990680805336,
          0.3999110841726272,
          -0.2889764640103446,
          0.00635827754214573,
          -0.16802965420500385,
          -0.2622466202124537,
          -0.10818682278587204,
          -0.2557305568598043,
          -0.27702576676991203,
          0.11640111921580958,
          -0.15246410795877244,
          -0.13520680038999108,
          -0.1583701352057519,
          -0.15897238771010527,
          -0.25930362146757624,
          -0.2606690560695039,
          -0.26242763199069236,
          0.08335243041087528,
          -0.12743559608766258,
          -0.2559392635530407,
          -0.11778676025966964,
          -0.07934221418188162,
          -0.2559223460504049,
          -0.250307172745153,
          -0.2627081674819642,
          -0.21882816995262627,
          -0.2558570844243377,
          -0.11755334034194655,
          -0.1587602796127974,
          -0.2615522317881296,
          0.08863312245108172,
          -0.09126165988274215,
          -0.17108497201816025,
          -0.2883865258035535,
          -0.1350766728284978,
          -0.15912769534051824,
          -0.13333295507033052,
          -0.2632848371590615,
          -0.15906769124013395,
          -0.12800340419914977,
          -0.2631649694617986,
          -0.2559213780222283,
          -0.28997924190348173,
          -0.2509776113887754,
          -0.15485249182484834,
          -0.13421563550764606,
          -0.15887913406207524,
          -0.17103841560164212,
          -0.07918814346055383,
          -0.12485351576309299,
          -0.17150418901608325,
          -0.1259088737429121,
          -0.17148693248881902,
          -0.10726989415708968,
          -0.2631957852548642,
          -0.1349194919881215,
          -0.2558162168820939,
          0.3017830635013663,
          -0.1714958243987909,
          -0.04769190128664205,
          0.006527613830677712,
          -0.25434817518900926,
          -0.17153344832101516,
          -0.1713505522754471,
          -0.22535366238447377,
          -0.2556508959514895,
          -0.020735298969175586,
          -0.2536874560418494,
          -0.2632486713422635,
          -0.2621197021759732,
          -0.03118842181028251,
          -0.1202662376733145,
          -0.25575523632136216,
          -0.26279176622233336,
          -0.17154054195679788,
          -0.25593150100166745,
          -0.26327166291403875,
          -0.2632792552229749,
          -0.13339263530062895,
          -0.3446425860067579,
          0.015862992442777682,
          0.007166559330428583,
          -0.262905787552334,
          -0.2528094906588608,
          0.008049681343019281,
          -0.031217980269248585,
          -0.24620175824416554,
          0.006501816467059809,
          -0.20284638165511357,
          -0.2557223752975495,
          0.9310223529144941,
          -0.2605915434190651,
          0.006882361462153916,
          -0.26310011137164724,
          -0.2632732287035381,
          0.006527613830677712,
          -0.25586750698210287,
          -0.17140075793064957,
          -0.2630628104551406,
          -0.18096349178882762,
          -0.26317116581989214,
          -0.26317313994928226,
          -0.2559296441017447,
          -0.2632031282475633,
          0.26443964433380684,
          -0.2632611266472642,
          -0.26326298533775355,
          -0.09167488395132589,
          -0.29811646362219674,
          -0.26301881145271494,
          -0.17151771215564152,
          -0.255872359141292,
          -0.2631624033803358,
          -0.2632985503521962,
          -0.13536356856809068,
          -0.21112266270640262,
          -0.031077559454384972,
          -0.25147727323168134,
          -0.1349718348728486,
          -0.25578363006093174,
          -0.25597320708769095,
          -0.25463108186131367,
          0.0076052879169556204,
          -0.2556847904941156,
          0.011037891801311817,
          -0.25450059772338185,
          -0.26323870725338033,
          -0.2632886157749361,
          -0.26329629400589866,
          -0.042455483590176764,
          -0.2557362275128369,
          -0.13190819480908358,
          0.006425803705688428,
          -0.2630496296026083,
          0.40144095882539604,
          -0.043521211759245164,
          -0.02000912836708466,
          0.26972361948665413,
          -0.22629113053986766,
          -0.22559617235970364,
          -0.20997011569445687,
          -0.15890011730417772,
          -0.15634709929028587,
          -0.16119643948658174,
          -0.010250270765220313,
          -0.2094908814163894,
          -0.25579064689651004,
          -0.15639804416911807,
          0.006338414391652959,
          -0.2630711405455114,
          -0.26325252961248785,
          0.11242725637896175,
          0.5496631375610708,
          -0.2558534003808262,
          -0.25718202298354637,
          -0.26328870535847276,
          -0.11635982779761349,
          0.30972752758326094,
          -0.17045908926334516,
          -0.2197118487078038,
          -0.22633194074689578,
          -0.26327677461983,
          -0.21934016280085392,
          -0.06288699350992207,
          -0.26310888857182047,
          0.06278077338404955,
          -0.2554875833927604,
          0.10947723282576746,
          -0.1569813356749862,
          -0.26198990149337154,
          -0.09827974339530683,
          -0.09159875518475287,
          -0.20522464106398533,
          -0.2632026372392646,
          -0.25540509601452327,
          -0.0914764402984335,
          -0.2563134007144401,
          -0.26327257894721573,
          -0.12798309559799617,
          -0.02094984982910074,
          -0.15408959895266386,
          -0.2605251556946173,
          -0.02852428437789964,
          0.2627869878572941,
          0.20438828798220052,
          -0.20964830341420623,
          -0.25591364336503036,
          -0.1960955193806807,
          -0.13509576542604243,
          -0.1546814893836612,
          -0.2261774168806968,
          -0.26329219470677917,
          -0.2632882154556348,
          -0.13223735653055313,
          -0.06792957406910352,
          0.00654980351590487,
          -0.263185358365711,
          -0.21805091343579341,
          0.006422078574638574,
          -0.06968014909701946,
          -0.24669818768031287,
          -0.09488863347011367,
          -0.1349404224916419,
          -0.14268799957891853,
          -0.13530790390818928,
          -0.21524975298132906,
          -0.26304678455531383,
          0.04891403310510476,
          1.517401383217574,
          -0.09176714400175649,
          -0.04295990593555882,
          2.735511513736663,
          -0.1971996774277242,
          -0.09171550716944733,
          -0.21963332488873297,
          -0.1353860116795032,
          -0.24439003589409974,
          -0.09101817425487577,
          -0.2632383068687581,
          -0.12780735080456287,
          -0.2555754115701436,
          -0.13412383023848876,
          0.006401405557916164,
          -0.3361637968208131,
          -0.12798194496636098,
          -0.25076852749064377,
          0.34278581095933025,
          -0.019156903888795027,
          -0.06811614988068178,
          -0.09830947635984628,
          0.0754709883647239,
          -0.21928575881660203,
          -0.2631274510018705,
          -0.21948734009068363,
          -0.09177637817378609,
          0.1012088566373741,
          -0.1280267484176934,
          -0.2630592339806241,
          -0.19374805237222023,
          -0.20504344105257566,
          -0.2557569393474762,
          -0.255658128693194,
          -0.08215780393081938,
          -0.253070854870747,
          -0.2632603701566065,
          -0.26305887882513673,
          -0.043591578036104264,
          -0.26318830598394694,
          -0.2507794310877913,
          -0.25170522561064734,
          0.04058846609470231,
          -0.2500949267819043,
          -0.26259269846931854,
          -0.2585211838260484,
          -0.2535581602779163,
          -0.2620768744635886,
          0.006336301275758921,
          -0.16411543622418973,
          -0.17066454440636017,
          -0.017146023930684474,
          -0.26032224896548506,
          -0.2593284572497691,
          -0.1591499460204168,
          -0.031818594891407974,
          0.006400887786292851,
          0.15205314936736833,
          -0.2631256387048059,
          -0.1353966101665943
         ],
         "y": [
          1.1278688647728767,
          1.1265234972663773,
          1.84742951077917,
          1.2957081679435443,
          1.5730107072773203,
          0.9050132973773354,
          0.6543474552879945,
          1.9631656800144315,
          1.1278457472654355,
          1.127058493227717,
          1.1277119198344243,
          1.127868810839063,
          1.1278675402462015,
          0.451300217373236,
          1.0077443441372251,
          1.555937231285932,
          0.3752670945830841,
          1.1277550962014178,
          1.042926832414047,
          1.2956971751324224,
          2.1765605615521824,
          0.8500600204398843,
          0.902958288244487,
          0.8771960584084282,
          1.884487881483327,
          1.8845528346879736,
          0.5501714395565663,
          1.1275851439837807,
          1.1277746045590291,
          1.0904820069615044,
          1.0450028213097606,
          1.2957196703997558,
          0.09192275410725828,
          1.6667863771589562,
          1.2957178521317514,
          1.1264683527519042,
          1.1278048616970724,
          0.4033050918617299,
          1.2957108108040833,
          0.0918975167344233,
          1.884529958733864,
          1.127680759873737,
          0.830923290459069,
          1.4738373868911623,
          0.9049650772518285,
          1.007680716278832,
          0.8771820139101841,
          1.8845695922375811,
          0.8769942678086257,
          1.1278669928529748,
          1.8845631195096644,
          1.04506407225693,
          1.127854077653532,
          1.2957177414365488,
          2.458269202436101,
          2.013755886113243,
          0.8077939827832029,
          0.8770892135754471,
          1.8845428087045422,
          0.9049606426220493,
          1.9631807950555344,
          0.9807692569166361,
          0.9050102610469615,
          1.2817125418408966,
          0.9050083926858348,
          1.5698592601105477,
          1.1278574149951728,
          0.8771652009923496,
          1.2957066414084688,
          0.8301287939822043,
          0.9050093702464762,
          0.4995505812363466,
          1.555918980876574,
          1.2955481179972848,
          0.9050135429909876,
          0.9049940077892981,
          1.5825947044913746,
          1.2956886572947188,
          1.552876272730215,
          1.1268331695494747,
          1.127863120251938,
          1.1277413954479976,
          1.6339137315960937,
          1.044230016211496,
          1.2956998544436944,
          1.1278138715660577,
          0.9050141810987463,
          1.295718835092332,
          1.127865585219844,
          1.1278663908386466,
          0.8770003897020847,
          0.493894060336811,
          2.0105301349077087,
          1.5558501042976038,
          1.127826112181664,
          1.2953830669177109,
          1.5557548377936035,
          1.6339167952040201,
          2.0083707219283156,
          1.5559219399651352,
          2.034110177317557,
          1.2956962977815787,
          1.7669969444346088,
          1.5387084523815744,
          1.5558807400630523,
          1.127847094346297,
          1.1278657673060954,
          1.555918980876574,
          1.2957119691780974,
          0.9049991046990898,
          1.1278430679393205,
          0.6462232174394263,
          1.1278547509678922,
          1.1278553557139104,
          1.2957186360834223,
          1.127858271128105,
          0.8341144600325209,
          1.1278644438443715,
          1.127864638210777,
          1.5093782905837991,
          0.6832210390435168,
          1.127838616506713,
          0.9050117188943788,
          1.2957124606145005,
          1.1278538009004868,
          1.1278684856295347,
          0.877212990356394,
          0.41432943264833877,
          1.6339930530088227,
          1.1265941710423328,
          0.8771707287536055,
          1.295702948185967,
          2.038935920007147,
          1.2955786516349317,
          1.5558028100584134,
          1.295692288294038,
          1.5554327844912605,
          1.2955648242858568,
          1.1278620310704413,
          1.1278674183761743,
          1.1278688577717566,
          0.6542818124735283,
          1.295697798042181,
          0.8768415507098657,
          1.5559299674374716,
          1.1278416916874934,
          1.9114013490543451,
          0.6543496806988768,
          1.5527979967507142,
          1.91324959596386,
          1.5826957605119958,
          1.582620878180531,
          1.9546039117423104,
          1.8845450591708282,
          1.116365174151331,
          2.0037176100767873,
          1.563019716292351,
          1.9545522261089399,
          1.295703648008442,
          1.9748215165576637,
          1.555939412300092,
          1.1278439759413021,
          1.127863511112512,
          1.5764730023434899,
          1.5121498931716353,
          1.295710427008119,
          0.5499428735463252,
          1.1278674199408998,
          0.6665017433294138,
          1.0660830827894816,
          0.9048975956513615,
          1.5819869308526777,
          1.919495546457205,
          1.1278661365196228,
          1.7600048355013709,
          1.5077515260753405,
          1.1278573228721167,
          0.642890501304666,
          1.2956710471079504,
          1.5465018633360155,
          1.884338230978043,
          1.1277274656079395,
          1.33203201522623,
          1.509370083208398,
          1.1216366391107377,
          1.1278582219483946,
          1.2956620916534352,
          1.509356954421924,
          1.1271156866466714,
          1.1278656733164605,
          1.0450618825944142,
          1.5528994067883877,
          0.3187323753803582,
          1.1275695059563235,
          1.6336267807461635,
          2.8402984496498465,
          2.6817221552460886,
          0.9104974088979483,
          1.2957169229825931,
          1.5092874732250234,
          0.8771841510877457,
          1.6366395991766773,
          1.582683521614194,
          1.1278677882556978,
          1.12786736035025,
          0.8768761070112033,
          1.5674710953007405,
          1.5559166305009007,
          1.1278562828989553,
          1.7598657893749652,
          1.5559304006591712,
          0.65522320223176,
          1.1260813384205037,
          1.0213488066978567,
          0.8771673356114165,
          1.1148669882288664,
          0.8772069799754592,
          2.035443225976428,
          1.1278413716327114,
          1.7125072870282687,
          0.19723232176647032,
          1.509388640472762,
          0.6542890807949874,
          1.0962068844956743,
          0.9058339350986708,
          1.50938267559198,
          1.760036330547928,
          0.8772259987053537,
          0.9171675475468136,
          1.5093075176362627,
          1.127862603832822,
          1.0450429498350056,
          1.295680460263044,
          0.8770794130225262,
          1.5559327120614108,
          0.9070948673625884,
          1.0450618082123941,
          1.1265284304694787,
          1.726751279625234,
          0.24433169754924833,
          1.2586271636151352,
          1.134795747600656,
          1.0231192545189844,
          1.7599988761303627,
          1.1278500318999731,
          1.760020594759242,
          1.5093892357557916,
          1.0886032544189026,
          1.0450665897526572,
          1.1278427143088552,
          1.5090345747365335,
          2.0343455541585924,
          1.2957002709541199,
          1.295689368756277,
          1.1083543857436713,
          1.2954103112270148,
          1.127864479934243,
          1.1278426572875684,
          0.654357157037247,
          1.1278565819221333,
          1.2951634947832713,
          1.1266247340897872,
          0.8821360781072863,
          1.2950899853310127,
          1.1277923548220206,
          1.127353482406227,
          1.295462998228181,
          1.1277368142174318,
          1.5559396070998228,
          0.7225008869111751,
          0.9049197572278078,
          0.8644694386415096,
          1.1275476651658305,
          0.5501741535978342,
          1.8845719845074624,
          0.6530880515644919,
          1.5559326411852537,
          1.564099898720023,
          1.127849980550938,
          0.8772165199259138
         ],
         "z": [
          -0.44840149182925687,
          -0.4490449402219317,
          -0.5655028515233412,
          -0.4882976201174564,
          -0.02711194117668586,
          -0.3460529174793268,
          -0.05699166855007843,
          -0.5286673846055273,
          -0.44841255091157994,
          -0.44878895527075885,
          -0.44847653200845644,
          -0.4484015177924027,
          -0.44840212547750047,
          0.21312339830883067,
          -0.5492209348417634,
          -0.04193973204814215,
          -0.2493046618196143,
          -0.44845593024747515,
          -0.20024784896407113,
          -0.4883028761169471,
          -0.26702370417620047,
          -0.17231814646962967,
          -0.34703632290056546,
          -0.1593435817599882,
          -0.5476736786266063,
          -0.5476426225112229,
          -0.3069329714264949,
          -0.4485372950593362,
          -0.44844659497122685,
          -0.4662772929747094,
          -0.19925525512622552,
          -0.48829211270808165,
          0.06818727538520114,
          -0.1393321602343874,
          -0.4882929855924644,
          -0.44907168191964003,
          -0.4484321288103747,
          -0.08510305407252222,
          -0.48829635068494565,
          0.06817524377615872,
          -0.5476535602051238,
          -0.44849178205383694,
          1.0294615891312617,
          0.0925166897845442,
          -0.34607598916702775,
          -0.5492513557289008,
          -0.1593502911770037,
          -0.5476346144319726,
          -0.15944023409231686,
          -0.44840238685144396,
          -0.5476377085382937,
          -0.1992259762037563,
          -0.4484085690339239,
          -0.48829303500408555,
          0.27967150969937876,
          -0.5823768710543995,
          -0.16967598815477386,
          -0.15939469700913056,
          -0.5476474338165184,
          -0.346078437110652,
          -0.5286600438557983,
          -0.35855094388827546,
          -0.3460543692418212,
          -0.49499868234141486,
          -0.3460552585200519,
          -0.5199241349979669,
          -0.44840698108204385,
          -0.1593584076508442,
          -0.48829847724879993,
          -0.18188267586281984,
          -0.3460548014880594,
          0.23620667993663189,
          -0.04194846515779429,
          -0.48837416352621227,
          -0.3460528706016401,
          -0.34606231723355024,
          -0.5138349608390177,
          -0.488306989883067,
          -0.03468639142030793,
          -0.4488973924472843,
          -0.4484042540443443,
          -0.44846247396678307,
          -0.2585686624910563,
          -0.19962498784449456,
          -0.4883016048986148,
          -0.44842781740107346,
          -0.3460524945935542,
          -0.48829251314832156,
          -0.44840306726573315,
          -0.4484026746929222,
          -0.15943713127048154,
          -0.3227557122785044,
          -0.6654835371958587,
          -0.041981416140314066,
          -0.44842193315177026,
          -0.4884535804075919,
          -0.04202695402049558,
          -0.25856712826228645,
          -0.6719655075031252,
          -0.04194714910250993,
          -0.654204805305313,
          -0.4883032984173562,
          -0.6038499908588102,
          -0.5075617067047952,
          -0.041966759806736455,
          -0.44841191448395057,
          -0.4484029875865245,
          -0.04194846515779429,
          -0.4882958159884039,
          -0.34605970273021,
          -0.4484138376849864,
          -0.4013734598670004,
          -0.4484082499138325,
          -0.448408179640121,
          -0.4882926090036017,
          -0.4484066075931469,
          -0.17995363646014662,
          -0.44840361018016983,
          -0.4484035138435022,
          -0.16237281148652882,
          -0.34993334593997805,
          -0.44841613020838106,
          -0.3460536718488315,
          -0.4882955632148202,
          -0.4484087013580262,
          -0.44840168081915743,
          -0.15933549972315972,
          -0.3321869101692785,
          -0.25858172313107275,
          -0.4490113134350262,
          -0.1593556990571889,
          -0.4883001432614517,
          -0.7762235487274516,
          -0.4883595767624093,
          -0.0420040417202322,
          -0.4883052400820863,
          -0.042181064107724243,
          -0.48836632513186234,
          -0.4484047666879201,
          -0.4484021934490874,
          -0.44840184669104594,
          -0.05704941357191181,
          -0.48830258461198195,
          -0.15951378008349837,
          -0.04194321566187052,
          -0.44841452102214624,
          -0.5534490090254409,
          -0.05699067045155471,
          -0.03472384093786955,
          -0.6362774846646375,
          -0.5137866147410471,
          -0.5138224569424766,
          -0.5515105059609373,
          -0.5476463507694121,
          -0.45391933416559593,
          -0.5570961385228027,
          -0.01390286095955018,
          -0.551535218444369,
          -0.48829977684541104,
          -0.24637731194520865,
          -0.041938710891782145,
          -0.44841340890274184,
          -0.44840405305449677,
          -0.025455278395691623,
          -0.20638794089469192,
          -0.4882965417471029,
          -0.307042395113017,
          -0.44840218817812577,
          -0.03018149936227746,
          -0.4779519533405863,
          -0.3461082654343077,
          -0.5141259462007967,
          -0.42741564114649017,
          -0.44840280367243357,
          -0.45145291128727055,
          -0.1690809512526724,
          -0.4484122086566278,
          -0.06247274818648975,
          -0.48831541160998665,
          -0.5311025668053433,
          -0.5477453049320558,
          -0.4484691729162921,
          -0.22472437283268357,
          -0.16237673744151063,
          -0.45139888540696804,
          -0.44840663321655805,
          -0.48831966044457104,
          -0.16238304986763707,
          -0.4487619257093664,
          -0.44840301916830017,
          -0.1992270234999455,
          -0.03467532733108146,
          0.020845215284773674,
          -0.4485447059942504,
          -0.25870607338469626,
          7.639201354441519,
          7.676323415406393,
          -0.3364755024833709,
          -0.48829343511983414,
          -0.29913909159741475,
          -0.15934931291477203,
          -0.20813110101883317,
          -0.5137924805932977,
          -0.44840200759959753,
          -0.44840221289731946,
          -0.15949673038651094,
          0.06761566789091286,
          -0.04194961284732675,
          -0.44840751815372704,
          -0.4515193934965598,
          -0.041943026101032344,
          0.02782621319795352,
          -0.4492579633345581,
          0.019470841050148603,
          -0.15935731846032614,
          -0.4546216724437337,
          -0.15933836960360667,
          -0.6535648306210516,
          -0.44841466666833296,
          -0.23960248597768466,
          -0.15816096346646658,
          -0.16236808609941877,
          -0.05701961003172583,
          -0.052664231153521326,
          -0.2612613949962219,
          -0.1623707169889768,
          -0.45143778404921553,
          -0.15933519426239726,
          -0.3192427730780323,
          -0.16240668007785275,
          -0.4484048368906862,
          -0.19923608778324567,
          -0.488310877850047,
          -0.15939943919577815,
          -0.041941966645735636,
          -0.418940258635896,
          -0.19922708683390059,
          -0.44904872175932947,
          0.04400968890460028,
          0.18848705086174514,
          -0.010075197244632485,
          0.2282077930887655,
          -0.20971845827314942,
          -0.4514557093238721,
          -0.4484105037840566,
          -0.4514453126922411,
          -0.16236757769179477,
          -0.4672018753485965,
          -0.19922477240653302,
          -0.4484140246937689,
          -0.2992601647723974,
          -0.65409138353766,
          -0.48830153581254326,
          -0.48830661139645265,
          -0.45774426460119705,
          -0.48844002679781895,
          -0.4484036586576824,
          -0.44841404150199016,
          -0.05698703283465859,
          -0.4484073646361617,
          -0.488558213051896,
          -0.44900003969288815,
          -0.3569912753470807,
          -0.48859353592835186,
          -0.4484380788514564,
          -0.44864805252052575,
          -0.48841490864477843,
          -0.44846468548421153,
          -0.041938599262425165,
          -0.28761505983252306,
          -0.34609767106380634,
          -0.16543208079912072,
          -0.4485551726477158,
          -0.30693169358504446,
          -0.5476334664385235,
          -0.05759417514153739,
          -0.04194192975080509,
          -0.018710083668140528,
          -0.4484106088323898,
          -0.15933379314615567
         ]
        },
        {
         "customdata": [
          [
           "SHA-256"
          ],
          [
           "Ethash"
          ],
          [
           "Scrypt"
          ],
          [
           "CryptoNight-V7"
          ],
          [
           "Ethash"
          ],
          [
           "Equihash"
          ],
          [
           "Multiple"
          ],
          [
           "Scrypt"
          ],
          [
           "X11"
          ],
          [
           "Scrypt"
          ],
          [
           "Multiple"
          ],
          [
           "Scrypt"
          ],
          [
           "SHA-256"
          ],
          [
           "Scrypt"
          ],
          [
           "Scrypt"
          ],
          [
           "Quark"
          ],
          [
           "Groestl"
          ],
          [
           "Scrypt"
          ],
          [
           "Scrypt"
          ],
          [
           "Scrypt"
          ],
          [
           "X11"
          ],
          [
           "Multiple"
          ],
          [
           "SHA-256"
          ],
          [
           "Scrypt"
          ],
          [
           "Scrypt"
          ],
          [
           "Scrypt"
          ],
          [
           "Scrypt"
          ],
          [
           "Scrypt"
          ],
          [
           "NeoScrypt"
          ],
          [
           "Scrypt"
          ],
          [
           "Scrypt"
          ],
          [
           "Scrypt"
          ],
          [
           "Scrypt"
          ],
          [
           "SHA-256"
          ],
          [
           "Scrypt"
          ],
          [
           "Scrypt"
          ],
          [
           "Scrypt"
          ],
          [
           "Scrypt"
          ],
          [
           "HybridScryptHash256"
          ],
          [
           "Scrypt"
          ],
          [
           "Scrypt"
          ],
          [
           "SHA-256"
          ],
          [
           "Scrypt"
          ],
          [
           "Scrypt"
          ],
          [
           "Scrypt"
          ],
          [
           "Scrypt"
          ],
          [
           "SHA-256"
          ],
          [
           "SHA-256"
          ],
          [
           "SHA-256"
          ],
          [
           "SHA-256"
          ],
          [
           "SHA-256"
          ],
          [
           "X11"
          ],
          [
           "Scrypt"
          ],
          [
           "Lyra2REv2"
          ],
          [
           "Scrypt"
          ],
          [
           "SHA-256"
          ],
          [
           "CryptoNight"
          ],
          [
           "CryptoNight"
          ],
          [
           "Scrypt"
          ],
          [
           "Scrypt"
          ],
          [
           "Scrypt"
          ],
          [
           "Scrypt"
          ],
          [
           "Scrypt"
          ],
          [
           "Scrypt"
          ],
          [
           "Stanford Folding"
          ],
          [
           "Multiple"
          ],
          [
           "QuBit"
          ],
          [
           "Scrypt"
          ],
          [
           "Scrypt"
          ],
          [
           "M7 POW"
          ],
          [
           "Scrypt"
          ],
          [
           "SHA-256"
          ],
          [
           "Scrypt"
          ],
          [
           "X11"
          ],
          [
           "Lyra2RE"
          ],
          [
           "SHA-256"
          ],
          [
           "X11"
          ],
          [
           "Scrypt"
          ],
          [
           "Scrypt"
          ],
          [
           "Ethash"
          ],
          [
           "Blake2b"
          ],
          [
           "X11"
          ],
          [
           "SHA-256"
          ],
          [
           "Scrypt"
          ],
          [
           "1GB AES Pattern Search"
          ],
          [
           "Scrypt"
          ],
          [
           "SHA-256"
          ],
          [
           "X11"
          ],
          [
           "Dagger"
          ],
          [
           "Scrypt"
          ],
          [
           "X11GOST"
          ],
          [
           "Scrypt"
          ],
          [
           "X11"
          ],
          [
           "Scrypt"
          ],
          [
           "X11"
          ],
          [
           "Equihash"
          ],
          [
           "CryptoNight"
          ],
          [
           "SHA-256"
          ],
          [
           "Multiple"
          ],
          [
           "Scrypt"
          ],
          [
           "SHA-256"
          ],
          [
           "Scrypt"
          ],
          [
           "Lyra2Z"
          ],
          [
           "Ethash"
          ],
          [
           "Equihash"
          ],
          [
           "Scrypt"
          ],
          [
           "X11"
          ],
          [
           "X11"
          ],
          [
           "CryptoNight"
          ],
          [
           "Scrypt"
          ],
          [
           "CryptoNight"
          ],
          [
           "Lyra2RE"
          ],
          [
           "X11"
          ],
          [
           "CryptoNight-V7"
          ],
          [
           "Scrypt"
          ],
          [
           "X11"
          ],
          [
           "Equihash"
          ],
          [
           "Scrypt"
          ],
          [
           "Lyra2RE"
          ],
          [
           "Dagger-Hashimoto"
          ],
          [
           "Scrypt"
          ],
          [
           "NIST5"
          ],
          [
           "Scrypt"
          ],
          [
           "SHA-256"
          ],
          [
           "Scrypt"
          ],
          [
           "CryptoNight-V7"
          ],
          [
           "Argon2d"
          ],
          [
           "Blake2b"
          ],
          [
           "Cloverhash"
          ],
          [
           "CryptoNight"
          ],
          [
           "X11"
          ],
          [
           "Scrypt"
          ],
          [
           "Scrypt"
          ],
          [
           "X11"
          ],
          [
           "X11"
          ],
          [
           "CryptoNight"
          ],
          [
           "Time Travel"
          ],
          [
           "Scrypt"
          ],
          [
           "Keccak"
          ],
          [
           "X11"
          ],
          [
           "SHA-256"
          ],
          [
           "Scrypt"
          ],
          [
           "Scrypt"
          ],
          [
           "Scrypt"
          ],
          [
           "Scrypt"
          ],
          [
           "Scrypt"
          ],
          [
           "Scrypt"
          ],
          [
           "CryptoNight"
          ],
          [
           "Equihash"
          ],
          [
           "X11"
          ],
          [
           "NeoScrypt"
          ],
          [
           "Equihash"
          ],
          [
           "Dagger"
          ],
          [
           "Scrypt"
          ],
          [
           "X11"
          ],
          [
           "NeoScrypt"
          ],
          [
           "Ethash"
          ],
          [
           "NeoScrypt"
          ],
          [
           "Multiple"
          ],
          [
           "CryptoNight"
          ],
          [
           "CryptoNight"
          ],
          [
           "Ethash"
          ],
          [
           "X11"
          ],
          [
           "CryptoNight-V7"
          ],
          [
           "Scrypt"
          ],
          [
           "BLAKE256"
          ],
          [
           "X11"
          ],
          [
           "NeoScrypt"
          ],
          [
           "NeoScrypt"
          ],
          [
           "Scrypt"
          ],
          [
           "X11"
          ],
          [
           "SHA-256"
          ],
          [
           "C11"
          ],
          [
           "Ethash"
          ],
          [
           "CryptoNight"
          ],
          [
           "SkunkHash"
          ],
          [
           "CryptoNight"
          ],
          [
           "Scrypt"
          ],
          [
           "Dagger"
          ],
          [
           "Lyra2REv2"
          ],
          [
           "Scrypt"
          ],
          [
           "Scrypt"
          ],
          [
           "X11"
          ],
          [
           "Ethash"
          ],
          [
           "CryptoNight"
          ],
          [
           "Scrypt"
          ],
          [
           "IMesh"
          ],
          [
           "Equihash"
          ],
          [
           "Lyra2Z"
          ],
          [
           "X11"
          ],
          [
           "CryptoNight"
          ],
          [
           "NIST5"
          ],
          [
           "Lyra2RE"
          ],
          [
           "Tribus"
          ],
          [
           "Lyra2Z"
          ],
          [
           "CryptoNight"
          ],
          [
           "CryptoNight Heavy"
          ],
          [
           "CryptoNight"
          ],
          [
           "Jump Consistent Hash"
          ],
          [
           "CryptoNight"
          ],
          [
           "X16R"
          ],
          [
           "HMQ1725"
          ],
          [
           "X11"
          ],
          [
           "Scrypt"
          ],
          [
           "CryptoNight-V7"
          ],
          [
           "Cryptonight-GPU"
          ],
          [
           "XEVAN"
          ],
          [
           "CryptoNight Heavy"
          ],
          [
           "SHA-256"
          ],
          [
           "X11"
          ],
          [
           "X16R"
          ],
          [
           "Equihash"
          ],
          [
           "Lyra2Z"
          ],
          [
           "SHA-256"
          ],
          [
           "CryptoNight"
          ],
          [
           "Blake"
          ],
          [
           "Blake"
          ],
          [
           "Equihash"
          ],
          [
           "Exosis"
          ],
          [
           "Scrypt"
          ],
          [
           "Equihash"
          ],
          [
           "Equihash"
          ],
          [
           "QuBit"
          ],
          [
           "SHA-256"
          ],
          [
           "X13"
          ],
          [
           "SHA-256"
          ],
          [
           "Scrypt"
          ],
          [
           "NeoScrypt"
          ],
          [
           "Blake"
          ],
          [
           "Scrypt"
          ],
          [
           "SHA-256"
          ],
          [
           "Scrypt"
          ],
          [
           "Groestl"
          ],
          [
           "Scrypt"
          ],
          [
           "Scrypt"
          ],
          [
           "Multiple"
          ],
          [
           "Equihash+Scrypt"
          ],
          [
           "Ethash"
          ],
          [
           "CryptoNight"
          ],
          [
           "Equihash"
          ]
         ],
         "hovertemplate": "<b>%{hovertext}</b><br><br>Class=%{marker.color}<br>PC 1=%{x}<br>PC 2=%{y}<br>PC 3=%{z}<br>Algorithm=%{customdata[0]}<extra></extra>",
         "hovertext": [
          "Bitcoin",
          "Ethereum",
          "Litecoin",
          "Monero",
          "Ethereum Classic",
          "ZCash",
          "DigiByte",
          "ProsperCoin",
          "Spreadcoin",
          "Argentum",
          "MyriadCoin",
          "MoonCoin",
          "ZetaCoin",
          "SexCoin",
          "Quatloo",
          "QuarkCoin",
          "Riecoin",
          "Digitalcoin ",
          "Catcoin",
          "CannaCoin",
          "CryptCoin",
          "Verge",
          "DevCoin",
          "EarthCoin",
          "E-Gulden",
          "Einsteinium",
          "Emerald",
          "Franko",
          "FeatherCoin",
          "GrandCoin",
          "GlobalCoin",
          "GoldCoin",
          "Infinite Coin",
          "IXcoin",
          "KrugerCoin",
          "LuckyCoin",
          "Litebar ",
          "MegaCoin",
          "MediterraneanCoin",
          "MinCoin",
          "NobleCoin",
          "Namecoin",
          "NyanCoin",
          "RonPaulCoin",
          "StableCoin",
          "SmartCoin",
          "SysCoin",
          "TigerCoin",
          "TerraCoin",
          "UnbreakableCoin",
          "Unobtanium",
          "UroCoin",
          "ViaCoin",
          "Vertcoin",
          "WorldCoin",
          "JouleCoin",
          "ByteCoin",
          "DigitalNote ",
          "MonaCoin",
          "Gulden",
          "PesetaCoin",
          "Wild Beast Coin",
          "Flo",
          "ArtByte",
          "Folding Coin",
          "Unitus",
          "CypherPunkCoin",
          "OmniCron",
          "GreenCoin",
          "Cryptonite",
          "MasterCoin",
          "SoonCoin",
          "1Credit",
          "MarsCoin ",
          "Crypto",
          "Anarchists Prime",
          "BowsCoin",
          "Song Coin",
          "BitZeny",
          "Expanse",
          "Siacoin",
          "MindCoin",
          "I0coin",
          "Revolution VR",
          "HOdlcoin",
          "Gamecredits",
          "CarpeDiemCoin",
          "Adzcoin",
          "SoilCoin",
          "YoCoin",
          "SibCoin",
          "Francs",
          "BolivarCoin",
          "Omni",
          "PizzaCoin",
          "Komodo",
          "Karbo",
          "ZayedCoin",
          "Circuits of Value",
          "DopeCoin",
          "DollarCoin",
          "Shilling",
          "ZCoin",
          "Elementrem",
          "ZClassic",
          "KiloCoin",
          "ArtexCoin",
          "Kurrent",
          "Cannabis Industry Coin",
          "OsmiumCoin",
          "Bikercoins",
          "HexxCoin",
          "PacCoin",
          "Citadel",
          "BeaverCoin",
          "VaultCoin",
          "Zero",
          "Canada eCoin",
          "Zoin",
          "DubaiCoin",
          "EB3coin",
          "Coinonat",
          "BenjiRolls",
          "ILCoin",
          "EquiTrader",
          "Quantum Resistant Ledger",
          "Dynamic",
          "Nano",
          "ChanCoin",
          "Dinastycoin",
          "DigitalPrice",
          "Unify",
          "SocialCoin",
          "ArcticCoin",
          "DAS",
          "LeviarCoin",
          "Bitcore",
          "gCn Coin",
          "SmartCash",
          "Onix",
          "Bitcoin Cash",
          "Sojourn Coin",
          "NewYorkCoin",
          "FrazCoin",
          "Kronecoin",
          "AdCoin",
          "Linx",
          "Sumokoin",
          "BitcoinZ",
          "Elements",
          "VIVO Coin",
          "Bitcoin Gold",
          "Pirl",
          "eBoost",
          "Pura",
          "Innova",
          "Ellaism",
          "GoByte",
          "SHIELD",
          "UltraNote",
          "BitCoal",
          "DaxxCoin",
          "AC3",
          "Lethean",
          "PopularCoin",
          "Photon",
          "Sucre",
          "SparksPay",
          "GunCoin",
          "IrishCoin",
          "Pioneer Coin",
          "UnitedBitcoin",
          "Interzone",
          "1717 Masonic Commemorative Token",
          "TurtleCoin",
          "MUNcoin",
          "Niobio Cash",
          "ShareChain",
          "Travelflex",
          "KREDS",
          "BitFlip",
          "LottoCoin",
          "Crypto Improvement Fund",
          "Callisto Network",
          "BitTube",
          "Poseidon",
          "Aidos Kuneen",
          "Bitrolium",
          "Alpenschillling",
          "FuturoCoin",
          "Monero Classic",
          "Jumpcoin",
          "Infinex",
          "KEYCO",
          "GINcoin",
          "PlatinCoin",
          "Loki",
          "Newton Coin",
          "MassGrid",
          "PluraCoin",
          "Motion",
          "PlusOneCoin",
          "Axe",
          "HexCoin",
          "Webchain",
          "Ryo",
          "Urals Coin",
          "Qwertycoin",
          "Project Pai",
          "Azart",
          "Xchange",
          "CrypticCoin",
          "Actinium",
          "Bitcoin SV",
          "FREDEnergy",
          "Universal Molecule",
          "Lithium",
          "PirateCash",
          "Exosis",
          "Block-Logic",
          "Beam",
          "Bithereum",
          "SLICE",
          "BLAST",
          "Bitcoin Rhodium",
          "GlobalToken",
          "SolarCoin",
          "UFO Coin",
          "BlakeCoin",
          "Crypto Escudo",
          "Crown Coin",
          "SmileyCoin",
          "Groestlcoin",
          "Bata",
          "Pakcoin",
          "JoinCoin",
          "Vollar",
          "Reality Clash",
          "Beldex",
          "Horizen"
         ],
         "legendgroup": "1",
         "marker": {
          "color": [
           1,
           1,
           1,
           1,
           1,
           1,
           1,
           1,
           1,
           1,
           1,
           1,
           1,
           1,
           1,
           1,
           1,
           1,
           1,
           1,
           1,
           1,
           1,
           1,
           1,
           1,
           1,
           1,
           1,
           1,
           1,
           1,
           1,
           1,
           1,
           1,
           1,
           1,
           1,
           1,
           1,
           1,
           1,
           1,
           1,
           1,
           1,
           1,
           1,
           1,
           1,
           1,
           1,
           1,
           1,
           1,
           1,
           1,
           1,
           1,
           1,
           1,
           1,
           1,
           1,
           1,
           1,
           1,
           1,
           1,
           1,
           1,
           1,
           1,
           1,
           1,
           1,
           1,
           1,
           1,
           1,
           1,
           1,
           1,
           1,
           1,
           1,
           1,
           1,
           1,
           1,
           1,
           1,
           1,
           1,
           1,
           1,
           1,
           1,
           1,
           1,
           1,
           1,
           1,
           1,
           1,
           1,
           1,
           1,
           1,
           1,
           1,
           1,
           1,
           1,
           1,
           1,
           1,
           1,
           1,
           1,
           1,
           1,
           1,
           1,
           1,
           1,
           1,
           1,
           1,
           1,
           1,
           1,
           1,
           1,
           1,
           1,
           1,
           1,
           1,
           1,
           1,
           1,
           1,
           1,
           1,
           1,
           1,
           1,
           1,
           1,
           1,
           1,
           1,
           1,
           1,
           1,
           1,
           1,
           1,
           1,
           1,
           1,
           1,
           1,
           1,
           1,
           1,
           1,
           1,
           1,
           1,
           1,
           1,
           1,
           1,
           1,
           1,
           1,
           1,
           1,
           1,
           1,
           1,
           1,
           1,
           1,
           1,
           1,
           1,
           1,
           1,
           1,
           1,
           1,
           1,
           1,
           1,
           1,
           1,
           1,
           1,
           1,
           1,
           1,
           1,
           1,
           1,
           1,
           1,
           1,
           1,
           1,
           1,
           1,
           1,
           1,
           1,
           1,
           1,
           1,
           1,
           1,
           1,
           1,
           1,
           1,
           1,
           1,
           1,
           1,
           1,
           1,
           1,
           1,
           1,
           1,
           1,
           1,
           1
          ],
          "coloraxis": "coloraxis",
          "symbol": "diamond"
         },
         "mode": "markers",
         "name": "1",
         "scene": "scene",
         "showlegend": true,
         "type": "scatter3d",
         "x": [
          -0.19684628343625019,
          -0.23050358087573225,
          -0.28806744868025597,
          -0.28800450962123536,
          -0.2304364712601574,
          -0.2265824626114282,
          -0.1372730647046209,
          -0.28874467287509836,
          -0.2813181210734745,
          -0.28866855056371254,
          -0.25218711913663766,
          -0.28881756304291645,
          -0.19504561735172585,
          -0.2872881674078931,
          -0.288725878286678,
          -0.24214476748013689,
          -0.3139403198354177,
          -0.28841742198241604,
          -0.2887275072504169,
          -0.2887572595986585,
          -0.28139087688097775,
          -0.08378515366531321,
          0.024941084758597847,
          -0.1405400295966454,
          -0.2885656177398429,
          -0.28622474059028563,
          -0.288582334693339,
          -0.2887993699053436,
          -0.28238489921509546,
          -0.27835817123412343,
          -0.288036307817838,
          -0.2883202726490258,
          0.7824747442878321,
          -0.19680889093980866,
          -0.2870220273872804,
          -0.2885843503099033,
          -0.288799823719408,
          -0.288361738158862,
          -0.3052168169187746,
          -0.28874424828633677,
          -0.2608344892650382,
          -0.19688401413760437,
          -0.28485497238553337,
          -0.2887998261679619,
          -0.2885265426403299,
          -0.288510238890937,
          -0.19039686466095637,
          -0.1965434516474231,
          -0.19678706181328648,
          -0.19703133283145774,
          -0.19705589506231636,
          -0.28143568932966595,
          -0.2885391250257919,
          -0.26945325594624353,
          -0.2873985416431817,
          -0.1965947843751315,
          2.042428429259054,
          -0.052477468862920144,
          -0.288006486303588,
          -0.28390517232238227,
          -0.2871867474453703,
          -0.2888107313488655,
          -0.28701229400388134,
          -0.27944119461923406,
          -0.2721808552904686,
          -0.2713806281039591,
          -0.32390932293549657,
          -0.28869297719224085,
          -0.23429603411993544,
          -0.4157131815228655,
          -0.288805557221295,
          -0.19691090143430862,
          -0.28881296101634646,
          -0.28106894812096755,
          -0.3840731207429787,
          -0.1968838868277205,
          -0.2812623771264599,
          -0.2884278025644358,
          -0.2879187491331035,
          -0.23165283386451627,
          0.21231777222392442,
          -0.281262331450822,
          -0.19680997732165964,
          -0.28632964907940195,
          -0.1618801716826355,
          -0.2879870763035327,
          0.060015182230837946,
          -0.2809165401441408,
          -0.39208830390358473,
          -0.2888053584249321,
          -0.2646634770912896,
          -0.28873518338168924,
          -0.28128850738059435,
          -0.2888055930508058,
          -0.28143367221807103,
          -0.006565103014468267,
          -0.13405478473862054,
          -0.19698443795532172,
          -0.2603256699423111,
          -0.287431197917451,
          -0.19695058467239526,
          -0.28868139906779394,
          -0.2553495816255522,
          -0.2314670611903662,
          -0.22660338690470383,
          -0.2864917940135938,
          -0.27170622679517875,
          -0.28072433365244576,
          -0.1341357181181504,
          -0.28880231073506263,
          -0.13403663772531307,
          -0.3842134417157698,
          -0.2751014076756814,
          -0.2880782027868055,
          -0.2887760448228223,
          -0.2810906708994544,
          -0.2265879186146497,
          -0.28763224208102645,
          -0.3840163248119849,
          -0.27278085015867004,
          -0.28805499973033305,
          -0.2517314393745522,
          -0.28857311941399577,
          -0.18147602509107072,
          -0.2886511962592941,
          -0.2873915669804314,
          -0.21035952154604234,
          -0.17749172656089168,
          -0.2055050970202968,
          -0.11275048057723577,
          -0.2810344508754529,
          -0.2885984589144341,
          -0.28875177481972986,
          -0.28114201720116344,
          -0.2814189504683904,
          -0.13397982264475403,
          -0.32096521469310196,
          1.639300321691172,
          -0.33523001011825526,
          -0.2800017128530161,
          -0.19684547443761033,
          -0.28880727288863534,
          1.402231440190244,
          -0.28869813309475284,
          -0.28860649410232553,
          -0.2884268383035471,
          -0.2884141880498361,
          -0.13404149187069714,
          -0.16504375316968686,
          -0.2494888997909357,
          -0.2848031312536682,
          -0.22646634998723533,
          -0.39175402666851206,
          -0.2876305086264875,
          -0.27937805412147443,
          -0.2847770067490342,
          -0.23162609984557786,
          -0.28478342696120884,
          -0.2664541648099557,
          0.09385793032677728,
          -0.13409407231426262,
          -0.22561755101213662,
          -0.28050023860927803,
          -0.28299016962370266,
          -0.2419365283367105,
          0.2053204901270967,
          -0.2813999578095792,
          -0.284759598282894,
          -0.2813073085287995,
          -0.28827504925796743,
          -0.2813497129523985,
          -0.196819809469912,
          -0.23515112518922565,
          -0.07834305162044429,
          0.49421552784608613,
          -0.36335362172618324,
          -0.13256354596762737,
          -0.17056367200760325,
          -0.3908866169881008,
          -0.2624455505260649,
          -0.2886657086857599,
          -0.11745782879037937,
          -0.2789513913164143,
          -0.2288490181393271,
          -0.13320072149172515,
          -0.28876475276881935,
          -0.20587590066914657,
          -0.22582599360419417,
          -0.2551157798358628,
          -0.2810739167534845,
          -0.13395788623824945,
          -0.25160200159362867,
          -0.38417534738018244,
          -0.2363165000136717,
          -0.2553564622030902,
          -0.1341462948345599,
          0.19189297369482142,
          0.35415541479312007,
          -0.37931277016902376,
          -0.1275243175567598,
          -0.22305089053431304,
          -0.3384661346024944,
          -0.28139092369117524,
          -0.28879613082305544,
          -0.2880236985092244,
          -0.42284624552718414,
          -0.22143679505572184,
          1.3688731220357184,
          -0.17222593662444252,
          -0.28139065353222614,
          -0.223031641810387,
          -0.17658994835671535,
          -0.2552778456182731,
          -0.1968455107992799,
          -0.11206958363621261,
          -0.22683563639345913,
          -0.22666678519300107,
          -0.07309566104126586,
          -0.34731835662416183,
          -0.28839564453772787,
          -0.22624776716510125,
          -0.22637236049608234,
          -0.3238317466160094,
          -0.19643990048102347,
          -0.18464846032024876,
          -0.19605772861718315,
          -0.28815702517930075,
          -0.23962579704531706,
          -0.22657806416340182,
          -0.2795869552500738,
          -0.19678645243799167,
          0.061015206660243945,
          -0.31365948243527425,
          -0.2887531364242474,
          -0.28798887068512546,
          -0.27211117700127674,
          -0.23954703180803874,
          -0.23148737161450283,
          -0.12255623468540366,
          -0.22658348568987094
         ],
         "y": [
          -1.306302079488879,
          -2.090144407083566,
          -1.0835056346763814,
          -2.234860009628436,
          -2.0901515127344563,
          -2.063944715473647,
          -1.883150312671258,
          -1.0834326353864858,
          -0.9155886920046024,
          -1.08344081815257,
          -1.8707687365522587,
          -1.0831831389769282,
          -1.306496188503529,
          -1.0835895760510388,
          -1.0834346126772154,
          -0.4515811442432232,
          -1.203608738868385,
          -1.0834679124477236,
          -1.0834344867068617,
          -1.0834312828489043,
          -0.9155808465164832,
          -1.88892180524451,
          -1.3302087454041431,
          -1.0994080908755588,
          -1.0834519465637067,
          -1.0837042357796631,
          -1.0834501367105012,
          -1.0834267424315975,
          -1.6613845213794896,
          -1.0845519435162096,
          -1.0835090020425548,
          -1.0834783748940358,
          -1.198907132720832,
          -1.3063061122865163,
          -1.0836182696682868,
          -1.0834499268768563,
          -1.0834266997086155,
          -1.0834739218534664,
          -2.218678386384352,
          -1.083432688100795,
          -1.086433335121527,
          -1.3062980102156991,
          -1.0838519424848678,
          -1.0834266870789364,
          -1.0834560167228175,
          -1.0834579001929379,
          -1.306997106620402,
          -1.3063347236649647,
          -1.3063084533525267,
          -1.3062820846997525,
          -1.3062794858381497,
          -0.9155760248009177,
          -1.0834548025562991,
          -1.2941748492635858,
          -1.0835776624357074,
          -1.3063291886732096,
          -2.570693211583939,
          -2.344866455236623,
          -1.0835121962055794,
          -1.0839535337106632,
          -1.0836005668574882,
          -1.0834255225116152,
          -1.08361938575862,
          -1.0844354036414479,
          -2.2618969495320913,
          -1.868699966525332,
          -1.5280427352761048,
          -1.083438221882823,
          -1.0892986659603336,
          -2.1597686860717618,
          -1.0834260818075587,
          -1.306295110408604,
          -1.0833673887686563,
          -0.9156155572392829,
          -2.2248554291500824,
          -1.3062980033304996,
          -0.9155947033851761,
          -1.0834666909052826,
          -1.0835215675271264,
          -2.090020448990506,
          -2.2983225526790783,
          -0.9155947114577777,
          -1.3063059951197429,
          -1.0836929778574582,
          -1.1630049442401635,
          -1.0835143028735146,
          -1.3339911085468867,
          -0.9156319624145032,
          -2.21729514896424,
          -1.0834259976954295,
          -2.3589797889568485,
          -1.0834336594619294,
          -0.9155918827082933,
          -1.0834260779452367,
          -0.915576226614997,
          -1.4655725068510779,
          -2.3360745915028955,
          -1.3062871865499477,
          -1.8698914936056357,
          -1.0835741816106061,
          -1.3062908370739936,
          -1.0834394538315517,
          -2.2733268836829836,
          -2.0900404788054487,
          -2.0639424587791657,
          -1.0836693296777735,
          -0.9166250370839469,
          -0.9156526013533115,
          -2.3360658558791343,
          -1.0834264306243184,
          -2.3360765392270872,
          -2.224840330577453,
          -0.9161962506711467,
          -2.2348519453680966,
          -1.0834292630084752,
          -0.9156126059017936,
          -2.0639441295584056,
          -1.083552561836016,
          -2.2248615828023475,
          -2.211901882098445,
          -1.0835045129911367,
          -0.6286059628538821,
          -1.0834511283671793,
          -1.3079582087779706,
          -1.0834426847877991,
          -2.234926049693398,
          -2.2761924311868835,
          -2.2562812080119894,
          -2.30294595913029,
          -2.338371018037923,
          -0.9156192356201855,
          -1.0834484057125888,
          -1.083431835456745,
          -0.9156076597150743,
          -0.9155778182010359,
          -2.3360826485097035,
          -2.2637144825218267,
          -1.2912473136730305,
          -1.3070484220502165,
          -0.915729987589742,
          -1.306302166739753,
          -1.0834192895888075,
          -1.265805186248659,
          -1.0834376553521117,
          -1.0834474983841094,
          -1.0834668642744798,
          -1.083468228610057,
          -2.3360759755005063,
          -2.0705684911543663,
          -0.9190203677569564,
          -1.6611239084131946,
          -2.0639572382726175,
          -2.21732138352563,
          -1.083552748789871,
          -0.9157977214351661,
          -1.661126714625552,
          -2.0900231667036473,
          -1.6611260305094329,
          -1.869230872483822,
          -2.360601597191688,
          -2.3360703527468836,
          -2.090665074684734,
          -0.9156765674727047,
          -2.2354001794958687,
          -1.0884777816710425,
          -1.2688290318776165,
          -0.9155798660015044,
          -1.6611286072395137,
          -1.6615006368177805,
          -1.0834832574461482,
          -0.9155852829183116,
          -1.306304935242943,
          -1.3007975941879424,
          -0.12936716214772712,
          -2.4032045421373365,
          -2.157044344971976,
          -2.3362352171285616,
          -1.0961722300035273,
          -2.2174247073904176,
          -1.2949299940973364,
          -1.0834411397534152,
          -1.1018944287328076,
          -0.915843642817524,
          -2.0903187620197,
          -2.336166079610125,
          -1.0834304697608774,
          -2.24893575855086,
          -2.0640262701624503,
          -2.273351923990676,
          -0.9156149792074122,
          -2.3360850367638726,
          -0.6286199399265087,
          -2.224844428823868,
          -2.238436228009716,
          -2.2733261484688785,
          -2.3360643508147065,
          -2.2735988516372276,
          -2.3886124984989427,
          -2.1403626420772244,
          -2.3367782823386736,
          -1.3054235341814426,
          -2.297840871385289,
          -0.9155808395801038,
          -1.08342708492802,
          -2.2348568388360186,
          -2.082719463778131,
          -0.7020248605896598,
          -2.4004207010790393,
          -1.308956086714645,
          -0.915580866199698,
          -1.3054255611278218,
          -2.069331661309606,
          -2.2733345810500523,
          -1.3063021628181306,
          -2.3384406269811264,
          -2.218274467155934,
          -2.2182992770825685,
          -0.10331045776371113,
          -2.1467321133634534,
          -1.0834702159503609,
          -2.063980660365754,
          -2.063967368860508,
          -1.528051038987937,
          -1.3063458810145931,
          -0.32672348419841024,
          -1.306387032976306,
          -1.0834342930596659,
          -1.6659938041354125,
          -2.2183044565132626,
          -1.0844196832915685,
          -1.306308519073927,
          -1.12112294497038,
          -1.2036390140937048,
          -1.0834317326575695,
          -1.0835140476779674,
          -1.8686211747347308,
          -2.270168925682736,
          -2.090038289397901,
          -2.3373138404633904,
          -2.0639446051341754
         ],
         "z": [
          0.11474248259675532,
          0.34484309221302156,
          0.012365610051406493,
          0.3134023121004942,
          0.34483962096580567,
          0.36596463934391527,
          0.2330177507100822,
          0.012400535391844228,
          -0.027493366184521032,
          0.012396607845784608,
          0.2389444400300949,
          0.012384853130941618,
          0.11464962083131564,
          0.012325416759320794,
          0.012399562218986592,
          0.009213088396712182,
          -0.08844359156421316,
          0.012383658799783365,
          0.0123996502189027,
          0.012401184844366383,
          -0.02748961431346902,
          0.23025978592455887,
          0.10330459941087837,
          0.004757443045760433,
          0.012391302126892611,
          0.012270576930523974,
          0.0123921636064525,
          0.012403356426213919,
          0.15374728090629727,
          0.011864867929704035,
          0.012364004931761853,
          0.012378647919581971,
          -0.04284319632072321,
          0.11474055439275964,
          0.012311692041959286,
          0.012392268152513486,
          0.012403380328384723,
          0.012380787686385121,
          0.42283645077342025,
          0.012400514054177343,
          0.010960543662405975,
          0.114744428240825,
          0.0121999407544222,
          0.012403379459763641,
          0.012389275562444674,
          0.0123884448987808,
          0.11440986408718357,
          0.11472686527333856,
          0.11473942767563804,
          0.1147520219781383,
          0.11475329260669252,
          -0.027487302576404256,
          0.012389935886382404,
          0.1415396965114275,
          0.01233110760285809,
          0.11472951242956042,
          0.17000931741563588,
          0.2780453300780278,
          0.01236246535946123,
          0.012150894795841624,
          0.012320191109845892,
          0.012403942733069646,
          0.012311195461931523,
          0.01192073706147551,
          0.3386743872861931,
          0.23993428533451594,
          0.11088675425339398,
          0.012397870513669104,
          0.009592298851299943,
          0.01084988465889025,
          0.012403676022582919,
          0.11474581472736131,
          0.012399399857960637,
          -0.027506215845263055,
          0.20299545740098957,
          0.11474442001723925,
          -0.027496240761098193,
          0.012384185885278358,
          0.01235793371636969,
          0.3449023544288721,
          0.24334458234573275,
          -0.027496242863284368,
          0.11474061041378059,
          0.012275991251077232,
          0.15258890297205335,
          0.012361465521018718,
          0.1014959156663549,
          -0.027514077588936967,
          0.18541964990322965,
          0.012403657279023159,
          0.45340913776955316,
          0.01240004610154179,
          -0.027494893515195976,
          0.012403677870342295,
          -0.027487407857752156,
          0.682764184424943,
          0.28225250087982773,
          0.11474960732619505,
          0.2393641579470996,
          0.012332794888239048,
          0.11474786158173395,
          0.012397272120913893,
          0.38718834452631945,
          0.34489277429244547,
          0.36596571833862573,
          0.01228385684410434,
          -0.027989043216761794,
          -0.027523996315414318,
          0.28225667378229086,
          0.012403508506257755,
          0.2822515643405555,
          0.2030026961014065,
          -0.027819002986062512,
          0.31340610284005854,
          0.012402154029714509,
          -0.027505144634851725,
          0.3659649208939848,
          0.012343167115695785,
          0.20299253089548738,
          0.5214674925860014,
          0.012364769833231667,
          -0.05298470030615682,
          0.01239168822756883,
          0.11394976508480485,
          0.012395712538228318,
          0.31337069941491946,
          0.4043516303715134,
          0.2634457165183866,
          0.19464875953948485,
          0.28115380954537494,
          -0.027507998143231436,
          0.012392995721928273,
          0.012400898880963981,
          -0.027502449288080547,
          -0.02748816669951876,
          0.282248633111613,
          0.39712736005428856,
          -0.08703231907253633,
          0.04050140061914139,
          -0.027561303564393465,
          0.11474244087944213,
          0.012403232907281804,
          -0.07479735628629783,
          0.012398135544129767,
          0.01239340679231399,
          0.012384141743100947,
          0.012383489412498817,
          0.2822518114176287,
          0.3627902350149792,
          -0.029134781102170187,
          0.1538719965608808,
          0.3659586518104004,
          0.18540162249573738,
          0.012343077727334983,
          -0.02759342555348125,
          0.1538706484975948,
          0.34490096252585,
          0.15387098023444265,
          0.23968021094505368,
          0.27049551347385165,
          0.2822545266800409,
          0.34459062995149137,
          -0.027535568438331454,
          0.3131436890199707,
          0.009986546329376603,
          0.0839085948787115,
          -0.027489146131969656,
          0.15386975201727066,
          0.15369170491255837,
          0.01237631632044209,
          -0.02749173725055516,
          0.11474111746648509,
          0.12432963728288467,
          0.17316999964580618,
          0.24980410576594003,
          0.2988161496314372,
          0.2821755862577049,
          0.006305837479854694,
          0.18535767944783701,
          0.1411782815125554,
          0.012396462514920591,
          0.0035669239346017164,
          -0.02761543469921113,
          0.34475744293765676,
          0.282208409616062,
          0.012401570843738377,
          0.27213538472562904,
          0.3659256283265753,
          0.38717627405681854,
          -0.027505963021994147,
          0.2822475037281003,
          -0.05299137359295391,
          0.20300073088169213,
          0.38690013630388465,
          0.38718869988619514,
          0.2822571898726693,
          0.3571690960860769,
          0.2570678442131767,
          0.10883617928283008,
          0.2819156967517859,
          0.19956171337421041,
          0.49811780069396006,
          -0.02748961205151685,
          0.012403188847422655,
          0.3134032130032846,
          0.2495327158049445,
          0.16165771037608526,
          0.2964668966768032,
          0.11347278970360283,
          -0.027489626185217043,
          0.19956071683759075,
          0.36338631151597883,
          0.3871846421747064,
          0.11474244275448972,
          0.28111839017157986,
          0.2911188406180128,
          0.29111066448333933,
          0.19422315124866352,
          -0.028060665070763036,
          0.012382532173979183,
          0.36594736799454064,
          0.3659538045911577,
          0.11088274884315094,
          0.11472152463141336,
          -0.08682854870909887,
          0.11470181206134811,
          0.012365266630882424,
          0.1515421537801967,
          0.29110573630676306,
          0.011928253441958598,
          0.11473939625222454,
          -0.005637923670918006,
          -0.08845807445797638,
          0.012400972638401701,
          0.012361553089414406,
          0.2399719571172088,
          0.29886467003915707,
          0.3448938217189723,
          0.2816594893347285,
          0.3659646921005949
         ]
        },
        {
         "customdata": [
          [
           "DPoS"
          ],
          [
           "VeChainThor Authority"
          ],
          [
           "DPoS"
          ],
          [
           "Semux BFT consensus"
          ],
          [
           "DPoS"
          ],
          [
           "DPoS"
          ],
          [
           "DPoS"
          ],
          [
           "DPoS"
          ],
          [
           "SHA-256"
          ]
         ],
         "hovertemplate": "<b>%{hovertext}</b><br><br>Class=%{marker.color}<br>PC 1=%{x}<br>PC 2=%{y}<br>PC 3=%{z}<br>Algorithm=%{customdata[0]}<extra></extra>",
         "hovertext": [
          "ARK",
          "Vechain",
          "Lamden Tau",
          "Semux",
          "ALAX",
          "Lisk",
          "EOS",
          "Oxycoin",
          "ZEPHYR"
         ],
         "legendgroup": "3",
         "marker": {
          "color": [
           3,
           3,
           3,
           3,
           3,
           3,
           3,
           3,
           3
          ],
          "coloraxis": "coloraxis",
          "symbol": "square"
         },
         "mode": "markers",
         "name": "3",
         "scene": "scene",
         "showlegend": true,
         "type": "scatter3d",
         "x": [
          6.690243732352264,
          5.601964483086798,
          6.692370897088514,
          6.947059726123976,
          6.700789172505609,
          6.690383385050322,
          6.701032122311029,
          6.702236347027945,
          3.9336742175051027
         ],
         "y": [
          0.5436215883532292,
          1.427896617709644,
          0.543392408660289,
          0.6358469037629292,
          0.5424848085001642,
          0.543606548720552,
          0.5424579769612272,
          0.5423281007815315,
          0.09934278253180646
         ],
         "z": [
          -0.1469636509930568,
          6.661253773351669,
          -0.14707336063741266,
          -0.37717942890543754,
          -0.1475074878131316,
          -0.14697085417612782,
          -0.1475199652788625,
          -0.1475820630559341,
          -0.1524485274581832
         ]
        },
        {
         "customdata": [
          [
           "Proof-of-Authority"
          ],
          [
           "Leased POS"
          ]
         ],
         "hovertemplate": "<b>%{hovertext}</b><br><br>Class=%{marker.color}<br>PC 1=%{x}<br>PC 2=%{y}<br>PC 3=%{z}<br>Algorithm=%{customdata[0]}<extra></extra>",
         "hovertext": [
          "Poa Network",
          "Waves"
         ],
         "legendgroup": "2",
         "marker": {
          "color": [
           2,
           2
          ],
          "coloraxis": "coloraxis",
          "symbol": "x"
         },
         "mode": "markers",
         "name": "2",
         "scene": "scene",
         "showlegend": true,
         "type": "scatter3d",
         "x": [
          0.09963441213057575,
          -0.11774799712391232
         ],
         "y": [
          3.005409314934104,
          3.160004731434069
         ],
         "z": [
          20.40119200194258,
          20.858974126964764
         ]
        },
        {
         "customdata": [
          [
           "TRC10"
          ]
         ],
         "hovertemplate": "<b>%{hovertext}</b><br><br>Class=%{marker.color}<br>PC 1=%{x}<br>PC 2=%{y}<br>PC 3=%{z}<br>Algorithm=%{customdata[0]}<extra></extra>",
         "hovertext": [
          "BitTorrent"
         ],
         "legendgroup": "4",
         "marker": {
          "color": [
           4
          ],
          "coloraxis": "coloraxis",
          "symbol": "cross"
         },
         "mode": "markers",
         "name": "4",
         "scene": "scene",
         "showlegend": true,
         "type": "scatter3d",
         "x": [
          28.110461861774414
         ],
         "y": [
          -1.9919817309853252
         ],
         "z": [
          -1.5206954919937261
         ]
        }
       ],
       "layout": {
        "coloraxis": {
         "colorbar": {
          "title": {
           "text": "Class"
          }
         },
         "colorscale": [
          [
           0,
           "#0d0887"
          ],
          [
           0.1111111111111111,
           "#46039f"
          ],
          [
           0.2222222222222222,
           "#7201a8"
          ],
          [
           0.3333333333333333,
           "#9c179e"
          ],
          [
           0.4444444444444444,
           "#bd3786"
          ],
          [
           0.5555555555555556,
           "#d8576b"
          ],
          [
           0.6666666666666666,
           "#ed7953"
          ],
          [
           0.7777777777777778,
           "#fb9f3a"
          ],
          [
           0.8888888888888888,
           "#fdca26"
          ],
          [
           1,
           "#f0f921"
          ]
         ]
        },
        "legend": {
         "title": {
          "text": "Class"
         },
         "tracegroupgap": 0,
         "x": 0,
         "y": 1
        },
        "margin": {
         "t": 60
        },
        "scene": {
         "domain": {
          "x": [
           0,
           1
          ],
          "y": [
           0,
           1
          ]
         },
         "xaxis": {
          "title": {
           "text": "PC 1"
          }
         },
         "yaxis": {
          "title": {
           "text": "PC 2"
          }
         },
         "zaxis": {
          "title": {
           "text": "PC 3"
          }
         }
        },
        "template": {
         "data": {
          "bar": [
           {
            "error_x": {
             "color": "#2a3f5f"
            },
            "error_y": {
             "color": "#2a3f5f"
            },
            "marker": {
             "line": {
              "color": "#E5ECF6",
              "width": 0.5
             }
            },
            "type": "bar"
           }
          ],
          "barpolar": [
           {
            "marker": {
             "line": {
              "color": "#E5ECF6",
              "width": 0.5
             }
            },
            "type": "barpolar"
           }
          ],
          "carpet": [
           {
            "aaxis": {
             "endlinecolor": "#2a3f5f",
             "gridcolor": "white",
             "linecolor": "white",
             "minorgridcolor": "white",
             "startlinecolor": "#2a3f5f"
            },
            "baxis": {
             "endlinecolor": "#2a3f5f",
             "gridcolor": "white",
             "linecolor": "white",
             "minorgridcolor": "white",
             "startlinecolor": "#2a3f5f"
            },
            "type": "carpet"
           }
          ],
          "choropleth": [
           {
            "colorbar": {
             "outlinewidth": 0,
             "ticks": ""
            },
            "type": "choropleth"
           }
          ],
          "contour": [
           {
            "colorbar": {
             "outlinewidth": 0,
             "ticks": ""
            },
            "colorscale": [
             [
              0,
              "#0d0887"
             ],
             [
              0.1111111111111111,
              "#46039f"
             ],
             [
              0.2222222222222222,
              "#7201a8"
             ],
             [
              0.3333333333333333,
              "#9c179e"
             ],
             [
              0.4444444444444444,
              "#bd3786"
             ],
             [
              0.5555555555555556,
              "#d8576b"
             ],
             [
              0.6666666666666666,
              "#ed7953"
             ],
             [
              0.7777777777777778,
              "#fb9f3a"
             ],
             [
              0.8888888888888888,
              "#fdca26"
             ],
             [
              1,
              "#f0f921"
             ]
            ],
            "type": "contour"
           }
          ],
          "contourcarpet": [
           {
            "colorbar": {
             "outlinewidth": 0,
             "ticks": ""
            },
            "type": "contourcarpet"
           }
          ],
          "heatmap": [
           {
            "colorbar": {
             "outlinewidth": 0,
             "ticks": ""
            },
            "colorscale": [
             [
              0,
              "#0d0887"
             ],
             [
              0.1111111111111111,
              "#46039f"
             ],
             [
              0.2222222222222222,
              "#7201a8"
             ],
             [
              0.3333333333333333,
              "#9c179e"
             ],
             [
              0.4444444444444444,
              "#bd3786"
             ],
             [
              0.5555555555555556,
              "#d8576b"
             ],
             [
              0.6666666666666666,
              "#ed7953"
             ],
             [
              0.7777777777777778,
              "#fb9f3a"
             ],
             [
              0.8888888888888888,
              "#fdca26"
             ],
             [
              1,
              "#f0f921"
             ]
            ],
            "type": "heatmap"
           }
          ],
          "heatmapgl": [
           {
            "colorbar": {
             "outlinewidth": 0,
             "ticks": ""
            },
            "colorscale": [
             [
              0,
              "#0d0887"
             ],
             [
              0.1111111111111111,
              "#46039f"
             ],
             [
              0.2222222222222222,
              "#7201a8"
             ],
             [
              0.3333333333333333,
              "#9c179e"
             ],
             [
              0.4444444444444444,
              "#bd3786"
             ],
             [
              0.5555555555555556,
              "#d8576b"
             ],
             [
              0.6666666666666666,
              "#ed7953"
             ],
             [
              0.7777777777777778,
              "#fb9f3a"
             ],
             [
              0.8888888888888888,
              "#fdca26"
             ],
             [
              1,
              "#f0f921"
             ]
            ],
            "type": "heatmapgl"
           }
          ],
          "histogram": [
           {
            "marker": {
             "colorbar": {
              "outlinewidth": 0,
              "ticks": ""
             }
            },
            "type": "histogram"
           }
          ],
          "histogram2d": [
           {
            "colorbar": {
             "outlinewidth": 0,
             "ticks": ""
            },
            "colorscale": [
             [
              0,
              "#0d0887"
             ],
             [
              0.1111111111111111,
              "#46039f"
             ],
             [
              0.2222222222222222,
              "#7201a8"
             ],
             [
              0.3333333333333333,
              "#9c179e"
             ],
             [
              0.4444444444444444,
              "#bd3786"
             ],
             [
              0.5555555555555556,
              "#d8576b"
             ],
             [
              0.6666666666666666,
              "#ed7953"
             ],
             [
              0.7777777777777778,
              "#fb9f3a"
             ],
             [
              0.8888888888888888,
              "#fdca26"
             ],
             [
              1,
              "#f0f921"
             ]
            ],
            "type": "histogram2d"
           }
          ],
          "histogram2dcontour": [
           {
            "colorbar": {
             "outlinewidth": 0,
             "ticks": ""
            },
            "colorscale": [
             [
              0,
              "#0d0887"
             ],
             [
              0.1111111111111111,
              "#46039f"
             ],
             [
              0.2222222222222222,
              "#7201a8"
             ],
             [
              0.3333333333333333,
              "#9c179e"
             ],
             [
              0.4444444444444444,
              "#bd3786"
             ],
             [
              0.5555555555555556,
              "#d8576b"
             ],
             [
              0.6666666666666666,
              "#ed7953"
             ],
             [
              0.7777777777777778,
              "#fb9f3a"
             ],
             [
              0.8888888888888888,
              "#fdca26"
             ],
             [
              1,
              "#f0f921"
             ]
            ],
            "type": "histogram2dcontour"
           }
          ],
          "mesh3d": [
           {
            "colorbar": {
             "outlinewidth": 0,
             "ticks": ""
            },
            "type": "mesh3d"
           }
          ],
          "parcoords": [
           {
            "line": {
             "colorbar": {
              "outlinewidth": 0,
              "ticks": ""
             }
            },
            "type": "parcoords"
           }
          ],
          "pie": [
           {
            "automargin": true,
            "type": "pie"
           }
          ],
          "scatter": [
           {
            "marker": {
             "colorbar": {
              "outlinewidth": 0,
              "ticks": ""
             }
            },
            "type": "scatter"
           }
          ],
          "scatter3d": [
           {
            "line": {
             "colorbar": {
              "outlinewidth": 0,
              "ticks": ""
             }
            },
            "marker": {
             "colorbar": {
              "outlinewidth": 0,
              "ticks": ""
             }
            },
            "type": "scatter3d"
           }
          ],
          "scattercarpet": [
           {
            "marker": {
             "colorbar": {
              "outlinewidth": 0,
              "ticks": ""
             }
            },
            "type": "scattercarpet"
           }
          ],
          "scattergeo": [
           {
            "marker": {
             "colorbar": {
              "outlinewidth": 0,
              "ticks": ""
             }
            },
            "type": "scattergeo"
           }
          ],
          "scattergl": [
           {
            "marker": {
             "colorbar": {
              "outlinewidth": 0,
              "ticks": ""
             }
            },
            "type": "scattergl"
           }
          ],
          "scattermapbox": [
           {
            "marker": {
             "colorbar": {
              "outlinewidth": 0,
              "ticks": ""
             }
            },
            "type": "scattermapbox"
           }
          ],
          "scatterpolar": [
           {
            "marker": {
             "colorbar": {
              "outlinewidth": 0,
              "ticks": ""
             }
            },
            "type": "scatterpolar"
           }
          ],
          "scatterpolargl": [
           {
            "marker": {
             "colorbar": {
              "outlinewidth": 0,
              "ticks": ""
             }
            },
            "type": "scatterpolargl"
           }
          ],
          "scatterternary": [
           {
            "marker": {
             "colorbar": {
              "outlinewidth": 0,
              "ticks": ""
             }
            },
            "type": "scatterternary"
           }
          ],
          "surface": [
           {
            "colorbar": {
             "outlinewidth": 0,
             "ticks": ""
            },
            "colorscale": [
             [
              0,
              "#0d0887"
             ],
             [
              0.1111111111111111,
              "#46039f"
             ],
             [
              0.2222222222222222,
              "#7201a8"
             ],
             [
              0.3333333333333333,
              "#9c179e"
             ],
             [
              0.4444444444444444,
              "#bd3786"
             ],
             [
              0.5555555555555556,
              "#d8576b"
             ],
             [
              0.6666666666666666,
              "#ed7953"
             ],
             [
              0.7777777777777778,
              "#fb9f3a"
             ],
             [
              0.8888888888888888,
              "#fdca26"
             ],
             [
              1,
              "#f0f921"
             ]
            ],
            "type": "surface"
           }
          ],
          "table": [
           {
            "cells": {
             "fill": {
              "color": "#EBF0F8"
             },
             "line": {
              "color": "white"
             }
            },
            "header": {
             "fill": {
              "color": "#C8D4E3"
             },
             "line": {
              "color": "white"
             }
            },
            "type": "table"
           }
          ]
         },
         "layout": {
          "annotationdefaults": {
           "arrowcolor": "#2a3f5f",
           "arrowhead": 0,
           "arrowwidth": 1
          },
          "coloraxis": {
           "colorbar": {
            "outlinewidth": 0,
            "ticks": ""
           }
          },
          "colorscale": {
           "diverging": [
            [
             0,
             "#8e0152"
            ],
            [
             0.1,
             "#c51b7d"
            ],
            [
             0.2,
             "#de77ae"
            ],
            [
             0.3,
             "#f1b6da"
            ],
            [
             0.4,
             "#fde0ef"
            ],
            [
             0.5,
             "#f7f7f7"
            ],
            [
             0.6,
             "#e6f5d0"
            ],
            [
             0.7,
             "#b8e186"
            ],
            [
             0.8,
             "#7fbc41"
            ],
            [
             0.9,
             "#4d9221"
            ],
            [
             1,
             "#276419"
            ]
           ],
           "sequential": [
            [
             0,
             "#0d0887"
            ],
            [
             0.1111111111111111,
             "#46039f"
            ],
            [
             0.2222222222222222,
             "#7201a8"
            ],
            [
             0.3333333333333333,
             "#9c179e"
            ],
            [
             0.4444444444444444,
             "#bd3786"
            ],
            [
             0.5555555555555556,
             "#d8576b"
            ],
            [
             0.6666666666666666,
             "#ed7953"
            ],
            [
             0.7777777777777778,
             "#fb9f3a"
            ],
            [
             0.8888888888888888,
             "#fdca26"
            ],
            [
             1,
             "#f0f921"
            ]
           ],
           "sequentialminus": [
            [
             0,
             "#0d0887"
            ],
            [
             0.1111111111111111,
             "#46039f"
            ],
            [
             0.2222222222222222,
             "#7201a8"
            ],
            [
             0.3333333333333333,
             "#9c179e"
            ],
            [
             0.4444444444444444,
             "#bd3786"
            ],
            [
             0.5555555555555556,
             "#d8576b"
            ],
            [
             0.6666666666666666,
             "#ed7953"
            ],
            [
             0.7777777777777778,
             "#fb9f3a"
            ],
            [
             0.8888888888888888,
             "#fdca26"
            ],
            [
             1,
             "#f0f921"
            ]
           ]
          },
          "colorway": [
           "#636efa",
           "#EF553B",
           "#00cc96",
           "#ab63fa",
           "#FFA15A",
           "#19d3f3",
           "#FF6692",
           "#B6E880",
           "#FF97FF",
           "#FECB52"
          ],
          "font": {
           "color": "#2a3f5f"
          },
          "geo": {
           "bgcolor": "white",
           "lakecolor": "white",
           "landcolor": "#E5ECF6",
           "showlakes": true,
           "showland": true,
           "subunitcolor": "white"
          },
          "hoverlabel": {
           "align": "left"
          },
          "hovermode": "closest",
          "mapbox": {
           "style": "light"
          },
          "paper_bgcolor": "white",
          "plot_bgcolor": "#E5ECF6",
          "polar": {
           "angularaxis": {
            "gridcolor": "white",
            "linecolor": "white",
            "ticks": ""
           },
           "bgcolor": "#E5ECF6",
           "radialaxis": {
            "gridcolor": "white",
            "linecolor": "white",
            "ticks": ""
           }
          },
          "scene": {
           "xaxis": {
            "backgroundcolor": "#E5ECF6",
            "gridcolor": "white",
            "gridwidth": 2,
            "linecolor": "white",
            "showbackground": true,
            "ticks": "",
            "zerolinecolor": "white"
           },
           "yaxis": {
            "backgroundcolor": "#E5ECF6",
            "gridcolor": "white",
            "gridwidth": 2,
            "linecolor": "white",
            "showbackground": true,
            "ticks": "",
            "zerolinecolor": "white"
           },
           "zaxis": {
            "backgroundcolor": "#E5ECF6",
            "gridcolor": "white",
            "gridwidth": 2,
            "linecolor": "white",
            "showbackground": true,
            "ticks": "",
            "zerolinecolor": "white"
           }
          },
          "shapedefaults": {
           "line": {
            "color": "#2a3f5f"
           }
          },
          "ternary": {
           "aaxis": {
            "gridcolor": "white",
            "linecolor": "white",
            "ticks": ""
           },
           "baxis": {
            "gridcolor": "white",
            "linecolor": "white",
            "ticks": ""
           },
           "bgcolor": "#E5ECF6",
           "caxis": {
            "gridcolor": "white",
            "linecolor": "white",
            "ticks": ""
           }
          },
          "title": {
           "x": 0.05
          },
          "xaxis": {
           "automargin": true,
           "gridcolor": "white",
           "linecolor": "white",
           "ticks": "",
           "title": {
            "standoff": 15
           },
           "zerolinecolor": "white",
           "zerolinewidth": 2
          },
          "yaxis": {
           "automargin": true,
           "gridcolor": "white",
           "linecolor": "white",
           "ticks": "",
           "title": {
            "standoff": 15
           },
           "zerolinecolor": "white",
           "zerolinewidth": 2
          }
         }
        },
        "width": 800
       }
      },
      "text/html": [
       "<div>                            <div id=\"ca1da4e4-7756-46f9-981d-17a63d79adda\" class=\"plotly-graph-div\" style=\"height:525px; width:800px;\"></div>            <script type=\"text/javascript\">                require([\"plotly\"], function(Plotly) {                    window.PLOTLYENV=window.PLOTLYENV || {};                                    if (document.getElementById(\"ca1da4e4-7756-46f9-981d-17a63d79adda\")) {                    Plotly.newPlot(                        \"ca1da4e4-7756-46f9-981d-17a63d79adda\",                        [{\"customdata\": [[\"Scrypt\"], [\"Scrypt\"], [\"X13\"], [\"X11\"], [\"SHA-512\"], [\"SHA-256\"], [\"SHA-256\"], [\"X15\"], [\"Scrypt\"], [\"Scrypt\"], [\"Scrypt\"], [\"Scrypt\"], [\"Scrypt\"], [\"Scrypt\"], [\"Groestl\"], [\"PoS\"], [\"Scrypt\"], [\"Scrypt\"], [\"X11\"], [\"X11\"], [\"SHA3\"], [\"Scrypt\"], [\"SHA-256\"], [\"Scrypt\"], [\"X13\"], [\"X13\"], [\"NeoScrypt\"], [\"Scrypt\"], [\"Scrypt\"], [\"Scrypt\"], [\"X11\"], [\"X11\"], [\"Multiple\"], [\"PHI1612\"], [\"X11\"], [\"Scrypt\"], [\"Scrypt\"], [\"Scrypt\"], [\"X11\"], [\"Multiple\"], [\"X13\"], [\"Scrypt\"], [\"Shabal256\"], [\"Counterparty\"], [\"SHA-256\"], [\"Groestl\"], [\"Scrypt\"], [\"X13\"], [\"Scrypt\"], [\"Scrypt\"], [\"X13\"], [\"X11\"], [\"Scrypt\"], [\"X11\"], [\"SHA3\"], [\"QUAIT\"], [\"X11\"], [\"Scrypt\"], [\"X13\"], [\"SHA-256\"], [\"X15\"], [\"BLAKE256\"], [\"SHA-256\"], [\"X11\"], [\"SHA-256\"], [\"NIST5\"], [\"Scrypt\"], [\"Scrypt\"], [\"X11\"], [\"Scrypt\"], [\"SHA-256\"], [\"Scrypt\"], [\"PoS\"], [\"X11\"], [\"SHA-256\"], [\"SHA-256\"], [\"NIST5\"], [\"X11\"], [\"POS 3.0\"], [\"Scrypt\"], [\"Scrypt\"], [\"Scrypt\"], [\"X13\"], [\"X11\"], [\"X11\"], [\"Scrypt\"], [\"SHA-256\"], [\"X11\"], [\"Scrypt\"], [\"Scrypt\"], [\"Scrypt\"], [\"Scrypt\"], [\"SHA-256D\"], [\"PoS\"], [\"Scrypt\"], [\"X11\"], [\"PoS\"], [\"X13\"], [\"X14\"], [\"PoS\"], [\"SHA-256D\"], [\"X11\"], [\"X13\"], [\"X11\"], [\"PoS\"], [\"Scrypt\"], [\"Scrypt\"], [\"PoS\"], [\"X11\"], [\"SHA-256\"], [\"Scrypt\"], [\"X11\"], [\"Scrypt\"], [\"Scrypt\"], [\"X11\"], [\"Scrypt\"], [\"Scrypt\"], [\"Scrypt\"], [\"Scrypt\"], [\"Quark\"], [\"QuBit\"], [\"Scrypt\"], [\"SHA-256\"], [\"X11\"], [\"Scrypt\"], [\"Scrypt\"], [\"Scrypt\"], [\"Scrypt\"], [\"X13\"], [\"Scrypt\"], [\"Scrypt\"], [\"X11\"], [\"Blake2S\"], [\"X11\"], [\"PoS\"], [\"X11\"], [\"PoS\"], [\"X11\"], [\"Scrypt\"], [\"Scrypt\"], [\"Scrypt\"], [\"SHA-256\"], [\"X11\"], [\"Scrypt\"], [\"PoS\"], [\"Scrypt\"], [\"X15\"], [\"SHA-256\"], [\"POS 3.0\"], [\"536\"], [\"NIST5\"], [\"NIST5\"], [\"Skein\"], [\"X13\"], [\"Scrypt\"], [\"X13\"], [\"SkunkHash v2 Raptor\"], [\"Skein\"], [\"X11\"], [\"Scrypt\"], [\"PoS\"], [\"Scrypt\"], [\"Scrypt\"], [\"SHA-512\"], [\"Ouroboros\"], [\"X11\"], [\"NeoScrypt\"], [\"Scrypt\"], [\"Lyra2REv2\"], [\"Scrypt\"], [\"SHA-256\"], [\"NIST5\"], [\"PHI1612\"], [\"Scrypt\"], [\"Quark\"], [\"POS 2.0\"], [\"Scrypt\"], [\"SHA-256\"], [\"X11\"], [\"NIST5\"], [\"X13\"], [\"Scrypt\"], [\"NIST5\"], [\"Quark\"], [\"Scrypt\"], [\"Scrypt\"], [\"X11\"], [\"Quark\"], [\"Scrypt\"], [\"Scrypt\"], [\"X11\"], [\"POS 3.0\"], [\"Scrypt\"], [\"Scrypt\"], [\"X13\"], [\"Proof-of-BibleHash\"], [\"SHA-256 + Hive\"], [\"C11\"], [\"X11\"], [\"XEVAN\"], [\"Scrypt\"], [\"VBFT\"], [\"NIST5\"], [\"Scrypt\"], [\"Scrypt\"], [\"Scrypt\"], [\"Green Protocol\"], [\"PoS\"], [\"Scrypt\"], [\"Quark\"], [\"PoS\"], [\"X16R\"], [\"Scrypt\"], [\"XEVAN\"], [\"Scrypt\"], [\"Scrypt\"], [\"Scrypt\"], [\"SHA-256D\"], [\"Scrypt\"], [\"X15\"], [\"Scrypt\"], [\"Quark\"], [\"SHA-256\"], [\"DPoS\"], [\"X16R\"], [\"Quark\"], [\"Quark\"], [\"Scrypt\"], [\"Lyra2REv2\"], [\"Quark\"], [\"Scrypt\"], [\"X11\"], [\"X11\"], [\"Scrypt\"], [\"PoS\"], [\"Keccak\"], [\"X11\"], [\"Scrypt\"], [\"SHA-512\"], [\"ECC 256K1\"], [\"XEVAN\"], [\"XEVAN\"], [\"X11\"], [\"Quark\"], [\"Scrypt\"], [\"Quark\"], [\"Quark\"], [\"Scrypt\"], [\"X11\"], [\"Scrypt\"], [\"XEVAN\"], [\"SHA-256D\"], [\"X11\"], [\"X11\"], [\"Scrypt\"], [\"X11\"], [\"Scrypt\"], [\"Scrypt\"], [\"SHA-256\"], [\"Scrypt\"], [\"X11\"], [\"Scrypt\"], [\"SHA-256\"], [\"X11\"], [\"Scrypt\"], [\"Scrypt\"], [\"X11\"], [\"Scrypt\"], [\"PoS\"], [\"X11\"], [\"SHA-256\"], [\"Scrypt\"], [\"Scrypt\"], [\"NeoScrypt\"], [\"X13\"], [\"SHA-256\"], [\"PoS\"], [\"PoS\"], [\"Scrypt\"], [\"Scrypt\"]], \"hovertemplate\": \"<b>%{hovertext}</b><br><br>Class=%{marker.color}<br>PC 1=%{x}<br>PC 2=%{y}<br>PC 3=%{z}<br>Algorithm=%{customdata[0]}<extra></extra>\", \"hovertext\": [\"42 Coin\", \"404Coin\", \"EliteCoin\", \"Dash\", \"Bitshares\", \"BitcoinDark\", \"PayCoin\", \"KoboCoin\", \"Aurora Coin\", \"BlueCoin\", \"EnergyCoin\", \"BitBar\", \"CryptoBullion\", \"CasinoCoin\", \"Diamond\", \"Exclusive Coin\", \"FlutterCoin\", \"HoboNickels\", \"HyperStake\", \"IOCoin\", \"MaxCoin\", \"MintCoin\", \"MazaCoin\", \"Nautilus Coin\", \"NavCoin\", \"OpalCoin\", \"Orbitcoin\", \"PotCoin\", \"PhoenixCoin\", \"Reddcoin\", \"SuperCoin\", \"SyncCoin\", \"TeslaCoin\", \"TittieCoin\", \"TorCoin\", \"UnitaryStatus Dollar\", \"UltraCoin\", \"VeriCoin\", \"X11 Coin\", \"Crypti\", \"StealthCoin\", \"ZCC Coin\", \"BurstCoin\", \"StorjCoin\", \"Neutron\", \"FairCoin\", \"RubyCoin\", \"Kore\", \"Dnotes\", \"8BIT Coin\", \"Sativa Coin\", \"Ucoin\", \"Vtorrent\", \"IslaCoin\", \"Nexus\", \"Droidz\", \"Squall Coin\", \"Diggits\", \"Paycon\", \"Emercoin\", \"EverGreenCoin\", \"Decred\", \"EDRCoin\", \"Hitcoin\", \"DubaiCoin\", \"PWR Coin\", \"BillaryCoin\", \"GPU Coin\", \"EuropeCoin\", \"ZeitCoin\", \"SwingCoin\", \"SafeExchangeCoin\", \"Nebuchadnezzar\", \"Ratecoin\", \"Revenu\", \"Clockcoin\", \"VIP Tokens\", \"BitSend\", \"Let it Ride\", \"PutinCoin\", \"iBankCoin\", \"Frankywillcoin\", \"MudraCoin\", \"Lutetium Coin\", \"GoldBlocks\", \"CarterCoin\", \"BitTokens\", \"MustangCoin\", \"ZoneCoin\", \"RootCoin\", \"BitCurrency\", \"Swiscoin\", \"BuzzCoin\", \"Opair\", \"PesoBit\", \"Halloween Coin\", \"CoffeeCoin\", \"RoyalCoin\", \"GanjaCoin V2\", \"TeamUP\", \"LanaCoin\", \"InsaneCoin\", \"EmberCoin\", \"XenixCoin\", \"FreeCoin\", \"PLNCoin\", \"AquariusCoin\", \"Creatio\", \"Eternity\", \"Eurocoin\", \"BitcoinFast\", \"Stakenet\", \"BitConnect Coin\", \"MoneyCoin\", \"Enigma\", \"Russiacoin\", \"PandaCoin\", \"GameUnits\", \"GAKHcoin\", \"Allsafe\", \"LiteCreed\", \"Klingon Empire Darsek\", \"Internet of People\", \"KushCoin\", \"Printerium\", \"Impeach\", \"Zilbercoin\", \"FirstCoin\", \"FindCoin\", \"OpenChat\", \"RenosCoin\", \"VirtacoinPlus\", \"TajCoin\", \"Impact\", \"Atmos\", \"HappyCoin\", \"MacronCoin\", \"Condensate\", \"Independent Money System\", \"ArgusCoin\", \"LomoCoin\", \"ProCurrency\", \"GoldReserve\", \"GrowthCoin\", \"Phreak\", \"Degas Coin\", \"HTML5 Coin\", \"Ultimate Secure Cash\", \"QTUM\", \"Espers\", \"Denarius\", \"Virta Unique Coin\", \"Bitcoin Planet\", \"BritCoin\", \"Linda\", \"DeepOnion\", \"Signatum\", \"Cream\", \"Monoeci\", \"Draftcoin\", \"Stakecoin\", \"CoinonatX\", \"Ethereum Dark\", \"Obsidian\", \"Cardano\", \"Regalcoin\", \"TrezarCoin\", \"TerraNovaCoin\", \"Rupee\", \"WomenCoin\", \"Theresa May Coin\", \"NamoCoin\", \"LUXCoin\", \"Xios\", \"Bitcloud 2.0\", \"KekCoin\", \"BlackholeCoin\", \"Infinity Economics\", \"Magnet\", \"Electra\", \"Bitcoin Diamond\", \"Cash & Back Coin\", \"Bulwark\", \"Kalkulus\", \"GermanCoin\", \"LiteCoin Ultra\", \"PhantomX\", \"Digiwage\", \"Trollcoin\", \"Litecoin Plus\", \"Monkey Project\", \"TokenPay\", \"My Big Coin\", \"Unified Society USDEX\", \"Tokyo Coin\", \"BiblePay\", \"LitecoinCash\", \"Stipend\", \"Pushi\", \"Ellerium\", \"Velox\", \"Ontology\", \"Bitspace\", \"Briacoin\", \"Ignition\", \"MedicCoin\", \"Bitcoin Green\", \"Deviant Coin\", \"Abjcoin\", \"Carebit\", \"Zealium\", \"Proton\", \"iDealCash\", \"Bitcoin Incognito\", \"HollyWoodCoin\", \"Swisscoin\", \"Xt3ch\", \"TheVig\", \"EmaratCoin\", \"Dekado\", \"Lynx\", \"Poseidon Quark\", \"BitcoinWSpectrum\", \"Muse\", \"Trivechain\", \"Dystem\", \"Giant\", \"Peony Coin\", \"Absolute Coin\", \"Vitae\", \"TPCash\", \"ARENON\", \"EUNO\", \"MMOCoin\", \"Ketan\", \"XDNA\", \"PAXEX\", \"ThunderStake\", \"Kcash\", \"Acute Angle Cloud\", \"Bettex coin\", \"BitMoney\", \"Junson Ming Chan Coin\", \"HerbCoin\", \"Oduwa\", \"Galilel\", \"Crypto Sports\", \"Credit\", \"Dash Platinum\", \"Nasdacoin\", \"Beetle Coin\", \"Titan Coin\", \"Award\", \"Insane Coin\", \"LiteDoge\", \"TruckCoin\", \"OrangeCoin\", \"BitstarCoin\", \"NeosCoin\", \"HyperCoin\", \"PinkCoin\", \"AudioCoin\", \"IncaKoin\", \"Piggy Coin\", \"Genstake\", \"XiaoMiCoin\", \"CapriCoin\", \" ClubCoin\", \"Radium\", \"Creditbit \", \"OKCash\", \"HiCoin\", \"WhiteCoin\", \"FriendshipCoin\", \"Triangles Coin\", \"TigerCash\", \"Particl\", \"Nxt\", \"Gapcoin\", \"BitcoinPlus\"], \"legendgroup\": \"0\", \"marker\": {\"color\": [0, 0, 0, 0, 0, 0, 0, 0, 0, 0, 0, 0, 0, 0, 0, 0, 0, 0, 0, 0, 0, 0, 0, 0, 0, 0, 0, 0, 0, 0, 0, 0, 0, 0, 0, 0, 0, 0, 0, 0, 0, 0, 0, 0, 0, 0, 0, 0, 0, 0, 0, 0, 0, 0, 0, 0, 0, 0, 0, 0, 0, 0, 0, 0, 0, 0, 0, 0, 0, 0, 0, 0, 0, 0, 0, 0, 0, 0, 0, 0, 0, 0, 0, 0, 0, 0, 0, 0, 0, 0, 0, 0, 0, 0, 0, 0, 0, 0, 0, 0, 0, 0, 0, 0, 0, 0, 0, 0, 0, 0, 0, 0, 0, 0, 0, 0, 0, 0, 0, 0, 0, 0, 0, 0, 0, 0, 0, 0, 0, 0, 0, 0, 0, 0, 0, 0, 0, 0, 0, 0, 0, 0, 0, 0, 0, 0, 0, 0, 0, 0, 0, 0, 0, 0, 0, 0, 0, 0, 0, 0, 0, 0, 0, 0, 0, 0, 0, 0, 0, 0, 0, 0, 0, 0, 0, 0, 0, 0, 0, 0, 0, 0, 0, 0, 0, 0, 0, 0, 0, 0, 0, 0, 0, 0, 0, 0, 0, 0, 0, 0, 0, 0, 0, 0, 0, 0, 0, 0, 0, 0, 0, 0, 0, 0, 0, 0, 0, 0, 0, 0, 0, 0, 0, 0, 0, 0, 0, 0, 0, 0, 0, 0, 0, 0, 0, 0, 0, 0, 0, 0, 0, 0, 0, 0, 0, 0, 0, 0, 0, 0, 0, 0, 0, 0, 0, 0, 0, 0, 0, 0, 0, 0, 0, 0, 0, 0, 0, 0, 0, 0, 0, 0, 0, 0, 0, 0, 0, 0, 0, 0], \"coloraxis\": \"coloraxis\", \"symbol\": \"circle\"}, \"mode\": \"markers\", \"name\": \"0\", \"scene\": \"scene\", \"showlegend\": true, \"type\": \"scatter3d\", \"x\": [-0.2633021937842419, -0.25082470974347876, 0.18707180067297835, -0.25583248328612096, 0.1445504724904021, -0.17153234217005767, -0.04350167205880304, -0.07904610655523016, -0.2630877481385982, -0.2557883490837618, -0.2618469848731163, -0.2633016907875185, -0.26328990680805336, 0.3999110841726272, -0.2889764640103446, 0.00635827754214573, -0.16802965420500385, -0.2622466202124537, -0.10818682278587204, -0.2557305568598043, -0.27702576676991203, 0.11640111921580958, -0.15246410795877244, -0.13520680038999108, -0.1583701352057519, -0.15897238771010527, -0.25930362146757624, -0.2606690560695039, -0.26242763199069236, 0.08335243041087528, -0.12743559608766258, -0.2559392635530407, -0.11778676025966964, -0.07934221418188162, -0.2559223460504049, -0.250307172745153, -0.2627081674819642, -0.21882816995262627, -0.2558570844243377, -0.11755334034194655, -0.1587602796127974, -0.2615522317881296, 0.08863312245108172, -0.09126165988274215, -0.17108497201816025, -0.2883865258035535, -0.1350766728284978, -0.15912769534051824, -0.13333295507033052, -0.2632848371590615, -0.15906769124013395, -0.12800340419914977, -0.2631649694617986, -0.2559213780222283, -0.28997924190348173, -0.2509776113887754, -0.15485249182484834, -0.13421563550764606, -0.15887913406207524, -0.17103841560164212, -0.07918814346055383, -0.12485351576309299, -0.17150418901608325, -0.1259088737429121, -0.17148693248881902, -0.10726989415708968, -0.2631957852548642, -0.1349194919881215, -0.2558162168820939, 0.3017830635013663, -0.1714958243987909, -0.04769190128664205, 0.006527613830677712, -0.25434817518900926, -0.17153344832101516, -0.1713505522754471, -0.22535366238447377, -0.2556508959514895, -0.020735298969175586, -0.2536874560418494, -0.2632486713422635, -0.2621197021759732, -0.03118842181028251, -0.1202662376733145, -0.25575523632136216, -0.26279176622233336, -0.17154054195679788, -0.25593150100166745, -0.26327166291403875, -0.2632792552229749, -0.13339263530062895, -0.3446425860067579, 0.015862992442777682, 0.007166559330428583, -0.262905787552334, -0.2528094906588608, 0.008049681343019281, -0.031217980269248585, -0.24620175824416554, 0.006501816467059809, -0.20284638165511357, -0.2557223752975495, 0.9310223529144941, -0.2605915434190651, 0.006882361462153916, -0.26310011137164724, -0.2632732287035381, 0.006527613830677712, -0.25586750698210287, -0.17140075793064957, -0.2630628104551406, -0.18096349178882762, -0.26317116581989214, -0.26317313994928226, -0.2559296441017447, -0.2632031282475633, 0.26443964433380684, -0.2632611266472642, -0.26326298533775355, -0.09167488395132589, -0.29811646362219674, -0.26301881145271494, -0.17151771215564152, -0.255872359141292, -0.2631624033803358, -0.2632985503521962, -0.13536356856809068, -0.21112266270640262, -0.031077559454384972, -0.25147727323168134, -0.1349718348728486, -0.25578363006093174, -0.25597320708769095, -0.25463108186131367, 0.0076052879169556204, -0.2556847904941156, 0.011037891801311817, -0.25450059772338185, -0.26323870725338033, -0.2632886157749361, -0.26329629400589866, -0.042455483590176764, -0.2557362275128369, -0.13190819480908358, 0.006425803705688428, -0.2630496296026083, 0.40144095882539604, -0.043521211759245164, -0.02000912836708466, 0.26972361948665413, -0.22629113053986766, -0.22559617235970364, -0.20997011569445687, -0.15890011730417772, -0.15634709929028587, -0.16119643948658174, -0.010250270765220313, -0.2094908814163894, -0.25579064689651004, -0.15639804416911807, 0.006338414391652959, -0.2630711405455114, -0.26325252961248785, 0.11242725637896175, 0.5496631375610708, -0.2558534003808262, -0.25718202298354637, -0.26328870535847276, -0.11635982779761349, 0.30972752758326094, -0.17045908926334516, -0.2197118487078038, -0.22633194074689578, -0.26327677461983, -0.21934016280085392, -0.06288699350992207, -0.26310888857182047, 0.06278077338404955, -0.2554875833927604, 0.10947723282576746, -0.1569813356749862, -0.26198990149337154, -0.09827974339530683, -0.09159875518475287, -0.20522464106398533, -0.2632026372392646, -0.25540509601452327, -0.0914764402984335, -0.2563134007144401, -0.26327257894721573, -0.12798309559799617, -0.02094984982910074, -0.15408959895266386, -0.2605251556946173, -0.02852428437789964, 0.2627869878572941, 0.20438828798220052, -0.20964830341420623, -0.25591364336503036, -0.1960955193806807, -0.13509576542604243, -0.1546814893836612, -0.2261774168806968, -0.26329219470677917, -0.2632882154556348, -0.13223735653055313, -0.06792957406910352, 0.00654980351590487, -0.263185358365711, -0.21805091343579341, 0.006422078574638574, -0.06968014909701946, -0.24669818768031287, -0.09488863347011367, -0.1349404224916419, -0.14268799957891853, -0.13530790390818928, -0.21524975298132906, -0.26304678455531383, 0.04891403310510476, 1.517401383217574, -0.09176714400175649, -0.04295990593555882, 2.735511513736663, -0.1971996774277242, -0.09171550716944733, -0.21963332488873297, -0.1353860116795032, -0.24439003589409974, -0.09101817425487577, -0.2632383068687581, -0.12780735080456287, -0.2555754115701436, -0.13412383023848876, 0.006401405557916164, -0.3361637968208131, -0.12798194496636098, -0.25076852749064377, 0.34278581095933025, -0.019156903888795027, -0.06811614988068178, -0.09830947635984628, 0.0754709883647239, -0.21928575881660203, -0.2631274510018705, -0.21948734009068363, -0.09177637817378609, 0.1012088566373741, -0.1280267484176934, -0.2630592339806241, -0.19374805237222023, -0.20504344105257566, -0.2557569393474762, -0.255658128693194, -0.08215780393081938, -0.253070854870747, -0.2632603701566065, -0.26305887882513673, -0.043591578036104264, -0.26318830598394694, -0.2507794310877913, -0.25170522561064734, 0.04058846609470231, -0.2500949267819043, -0.26259269846931854, -0.2585211838260484, -0.2535581602779163, -0.2620768744635886, 0.006336301275758921, -0.16411543622418973, -0.17066454440636017, -0.017146023930684474, -0.26032224896548506, -0.2593284572497691, -0.1591499460204168, -0.031818594891407974, 0.006400887786292851, 0.15205314936736833, -0.2631256387048059, -0.1353966101665943], \"y\": [1.1278688647728767, 1.1265234972663773, 1.84742951077917, 1.2957081679435443, 1.5730107072773203, 0.9050132973773354, 0.6543474552879945, 1.9631656800144315, 1.1278457472654355, 1.127058493227717, 1.1277119198344243, 1.127868810839063, 1.1278675402462015, 0.451300217373236, 1.0077443441372251, 1.555937231285932, 0.3752670945830841, 1.1277550962014178, 1.042926832414047, 1.2956971751324224, 2.1765605615521824, 0.8500600204398843, 0.902958288244487, 0.8771960584084282, 1.884487881483327, 1.8845528346879736, 0.5501714395565663, 1.1275851439837807, 1.1277746045590291, 1.0904820069615044, 1.0450028213097606, 1.2957196703997558, 0.09192275410725828, 1.6667863771589562, 1.2957178521317514, 1.1264683527519042, 1.1278048616970724, 0.4033050918617299, 1.2957108108040833, 0.0918975167344233, 1.884529958733864, 1.127680759873737, 0.830923290459069, 1.4738373868911623, 0.9049650772518285, 1.007680716278832, 0.8771820139101841, 1.8845695922375811, 0.8769942678086257, 1.1278669928529748, 1.8845631195096644, 1.04506407225693, 1.127854077653532, 1.2957177414365488, 2.458269202436101, 2.013755886113243, 0.8077939827832029, 0.8770892135754471, 1.8845428087045422, 0.9049606426220493, 1.9631807950555344, 0.9807692569166361, 0.9050102610469615, 1.2817125418408966, 0.9050083926858348, 1.5698592601105477, 1.1278574149951728, 0.8771652009923496, 1.2957066414084688, 0.8301287939822043, 0.9050093702464762, 0.4995505812363466, 1.555918980876574, 1.2955481179972848, 0.9050135429909876, 0.9049940077892981, 1.5825947044913746, 1.2956886572947188, 1.552876272730215, 1.1268331695494747, 1.127863120251938, 1.1277413954479976, 1.6339137315960937, 1.044230016211496, 1.2956998544436944, 1.1278138715660577, 0.9050141810987463, 1.295718835092332, 1.127865585219844, 1.1278663908386466, 0.8770003897020847, 0.493894060336811, 2.0105301349077087, 1.5558501042976038, 1.127826112181664, 1.2953830669177109, 1.5557548377936035, 1.6339167952040201, 2.0083707219283156, 1.5559219399651352, 2.034110177317557, 1.2956962977815787, 1.7669969444346088, 1.5387084523815744, 1.5558807400630523, 1.127847094346297, 1.1278657673060954, 1.555918980876574, 1.2957119691780974, 0.9049991046990898, 1.1278430679393205, 0.6462232174394263, 1.1278547509678922, 1.1278553557139104, 1.2957186360834223, 1.127858271128105, 0.8341144600325209, 1.1278644438443715, 1.127864638210777, 1.5093782905837991, 0.6832210390435168, 1.127838616506713, 0.9050117188943788, 1.2957124606145005, 1.1278538009004868, 1.1278684856295347, 0.877212990356394, 0.41432943264833877, 1.6339930530088227, 1.1265941710423328, 0.8771707287536055, 1.295702948185967, 2.038935920007147, 1.2955786516349317, 1.5558028100584134, 1.295692288294038, 1.5554327844912605, 1.2955648242858568, 1.1278620310704413, 1.1278674183761743, 1.1278688577717566, 0.6542818124735283, 1.295697798042181, 0.8768415507098657, 1.5559299674374716, 1.1278416916874934, 1.9114013490543451, 0.6543496806988768, 1.5527979967507142, 1.91324959596386, 1.5826957605119958, 1.582620878180531, 1.9546039117423104, 1.8845450591708282, 1.116365174151331, 2.0037176100767873, 1.563019716292351, 1.9545522261089399, 1.295703648008442, 1.9748215165576637, 1.555939412300092, 1.1278439759413021, 1.127863511112512, 1.5764730023434899, 1.5121498931716353, 1.295710427008119, 0.5499428735463252, 1.1278674199408998, 0.6665017433294138, 1.0660830827894816, 0.9048975956513615, 1.5819869308526777, 1.919495546457205, 1.1278661365196228, 1.7600048355013709, 1.5077515260753405, 1.1278573228721167, 0.642890501304666, 1.2956710471079504, 1.5465018633360155, 1.884338230978043, 1.1277274656079395, 1.33203201522623, 1.509370083208398, 1.1216366391107377, 1.1278582219483946, 1.2956620916534352, 1.509356954421924, 1.1271156866466714, 1.1278656733164605, 1.0450618825944142, 1.5528994067883877, 0.3187323753803582, 1.1275695059563235, 1.6336267807461635, 2.8402984496498465, 2.6817221552460886, 0.9104974088979483, 1.2957169229825931, 1.5092874732250234, 0.8771841510877457, 1.6366395991766773, 1.582683521614194, 1.1278677882556978, 1.12786736035025, 0.8768761070112033, 1.5674710953007405, 1.5559166305009007, 1.1278562828989553, 1.7598657893749652, 1.5559304006591712, 0.65522320223176, 1.1260813384205037, 1.0213488066978567, 0.8771673356114165, 1.1148669882288664, 0.8772069799754592, 2.035443225976428, 1.1278413716327114, 1.7125072870282687, 0.19723232176647032, 1.509388640472762, 0.6542890807949874, 1.0962068844956743, 0.9058339350986708, 1.50938267559198, 1.760036330547928, 0.8772259987053537, 0.9171675475468136, 1.5093075176362627, 1.127862603832822, 1.0450429498350056, 1.295680460263044, 0.8770794130225262, 1.5559327120614108, 0.9070948673625884, 1.0450618082123941, 1.1265284304694787, 1.726751279625234, 0.24433169754924833, 1.2586271636151352, 1.134795747600656, 1.0231192545189844, 1.7599988761303627, 1.1278500318999731, 1.760020594759242, 1.5093892357557916, 1.0886032544189026, 1.0450665897526572, 1.1278427143088552, 1.5090345747365335, 2.0343455541585924, 1.2957002709541199, 1.295689368756277, 1.1083543857436713, 1.2954103112270148, 1.127864479934243, 1.1278426572875684, 0.654357157037247, 1.1278565819221333, 1.2951634947832713, 1.1266247340897872, 0.8821360781072863, 1.2950899853310127, 1.1277923548220206, 1.127353482406227, 1.295462998228181, 1.1277368142174318, 1.5559396070998228, 0.7225008869111751, 0.9049197572278078, 0.8644694386415096, 1.1275476651658305, 0.5501741535978342, 1.8845719845074624, 0.6530880515644919, 1.5559326411852537, 1.564099898720023, 1.127849980550938, 0.8772165199259138], \"z\": [-0.44840149182925687, -0.4490449402219317, -0.5655028515233412, -0.4882976201174564, -0.02711194117668586, -0.3460529174793268, -0.05699166855007843, -0.5286673846055273, -0.44841255091157994, -0.44878895527075885, -0.44847653200845644, -0.4484015177924027, -0.44840212547750047, 0.21312339830883067, -0.5492209348417634, -0.04193973204814215, -0.2493046618196143, -0.44845593024747515, -0.20024784896407113, -0.4883028761169471, -0.26702370417620047, -0.17231814646962967, -0.34703632290056546, -0.1593435817599882, -0.5476736786266063, -0.5476426225112229, -0.3069329714264949, -0.4485372950593362, -0.44844659497122685, -0.4662772929747094, -0.19925525512622552, -0.48829211270808165, 0.06818727538520114, -0.1393321602343874, -0.4882929855924644, -0.44907168191964003, -0.4484321288103747, -0.08510305407252222, -0.48829635068494565, 0.06817524377615872, -0.5476535602051238, -0.44849178205383694, 1.0294615891312617, 0.0925166897845442, -0.34607598916702775, -0.5492513557289008, -0.1593502911770037, -0.5476346144319726, -0.15944023409231686, -0.44840238685144396, -0.5476377085382937, -0.1992259762037563, -0.4484085690339239, -0.48829303500408555, 0.27967150969937876, -0.5823768710543995, -0.16967598815477386, -0.15939469700913056, -0.5476474338165184, -0.346078437110652, -0.5286600438557983, -0.35855094388827546, -0.3460543692418212, -0.49499868234141486, -0.3460552585200519, -0.5199241349979669, -0.44840698108204385, -0.1593584076508442, -0.48829847724879993, -0.18188267586281984, -0.3460548014880594, 0.23620667993663189, -0.04194846515779429, -0.48837416352621227, -0.3460528706016401, -0.34606231723355024, -0.5138349608390177, -0.488306989883067, -0.03468639142030793, -0.4488973924472843, -0.4484042540443443, -0.44846247396678307, -0.2585686624910563, -0.19962498784449456, -0.4883016048986148, -0.44842781740107346, -0.3460524945935542, -0.48829251314832156, -0.44840306726573315, -0.4484026746929222, -0.15943713127048154, -0.3227557122785044, -0.6654835371958587, -0.041981416140314066, -0.44842193315177026, -0.4884535804075919, -0.04202695402049558, -0.25856712826228645, -0.6719655075031252, -0.04194714910250993, -0.654204805305313, -0.4883032984173562, -0.6038499908588102, -0.5075617067047952, -0.041966759806736455, -0.44841191448395057, -0.4484029875865245, -0.04194846515779429, -0.4882958159884039, -0.34605970273021, -0.4484138376849864, -0.4013734598670004, -0.4484082499138325, -0.448408179640121, -0.4882926090036017, -0.4484066075931469, -0.17995363646014662, -0.44840361018016983, -0.4484035138435022, -0.16237281148652882, -0.34993334593997805, -0.44841613020838106, -0.3460536718488315, -0.4882955632148202, -0.4484087013580262, -0.44840168081915743, -0.15933549972315972, -0.3321869101692785, -0.25858172313107275, -0.4490113134350262, -0.1593556990571889, -0.4883001432614517, -0.7762235487274516, -0.4883595767624093, -0.0420040417202322, -0.4883052400820863, -0.042181064107724243, -0.48836632513186234, -0.4484047666879201, -0.4484021934490874, -0.44840184669104594, -0.05704941357191181, -0.48830258461198195, -0.15951378008349837, -0.04194321566187052, -0.44841452102214624, -0.5534490090254409, -0.05699067045155471, -0.03472384093786955, -0.6362774846646375, -0.5137866147410471, -0.5138224569424766, -0.5515105059609373, -0.5476463507694121, -0.45391933416559593, -0.5570961385228027, -0.01390286095955018, -0.551535218444369, -0.48829977684541104, -0.24637731194520865, -0.041938710891782145, -0.44841340890274184, -0.44840405305449677, -0.025455278395691623, -0.20638794089469192, -0.4882965417471029, -0.307042395113017, -0.44840218817812577, -0.03018149936227746, -0.4779519533405863, -0.3461082654343077, -0.5141259462007967, -0.42741564114649017, -0.44840280367243357, -0.45145291128727055, -0.1690809512526724, -0.4484122086566278, -0.06247274818648975, -0.48831541160998665, -0.5311025668053433, -0.5477453049320558, -0.4484691729162921, -0.22472437283268357, -0.16237673744151063, -0.45139888540696804, -0.44840663321655805, -0.48831966044457104, -0.16238304986763707, -0.4487619257093664, -0.44840301916830017, -0.1992270234999455, -0.03467532733108146, 0.020845215284773674, -0.4485447059942504, -0.25870607338469626, 7.639201354441519, 7.676323415406393, -0.3364755024833709, -0.48829343511983414, -0.29913909159741475, -0.15934931291477203, -0.20813110101883317, -0.5137924805932977, -0.44840200759959753, -0.44840221289731946, -0.15949673038651094, 0.06761566789091286, -0.04194961284732675, -0.44840751815372704, -0.4515193934965598, -0.041943026101032344, 0.02782621319795352, -0.4492579633345581, 0.019470841050148603, -0.15935731846032614, -0.4546216724437337, -0.15933836960360667, -0.6535648306210516, -0.44841466666833296, -0.23960248597768466, -0.15816096346646658, -0.16236808609941877, -0.05701961003172583, -0.052664231153521326, -0.2612613949962219, -0.1623707169889768, -0.45143778404921553, -0.15933519426239726, -0.3192427730780323, -0.16240668007785275, -0.4484048368906862, -0.19923608778324567, -0.488310877850047, -0.15939943919577815, -0.041941966645735636, -0.418940258635896, -0.19922708683390059, -0.44904872175932947, 0.04400968890460028, 0.18848705086174514, -0.010075197244632485, 0.2282077930887655, -0.20971845827314942, -0.4514557093238721, -0.4484105037840566, -0.4514453126922411, -0.16236757769179477, -0.4672018753485965, -0.19922477240653302, -0.4484140246937689, -0.2992601647723974, -0.65409138353766, -0.48830153581254326, -0.48830661139645265, -0.45774426460119705, -0.48844002679781895, -0.4484036586576824, -0.44841404150199016, -0.05698703283465859, -0.4484073646361617, -0.488558213051896, -0.44900003969288815, -0.3569912753470807, -0.48859353592835186, -0.4484380788514564, -0.44864805252052575, -0.48841490864477843, -0.44846468548421153, -0.041938599262425165, -0.28761505983252306, -0.34609767106380634, -0.16543208079912072, -0.4485551726477158, -0.30693169358504446, -0.5476334664385235, -0.05759417514153739, -0.04194192975080509, -0.018710083668140528, -0.4484106088323898, -0.15933379314615567]}, {\"customdata\": [[\"SHA-256\"], [\"Ethash\"], [\"Scrypt\"], [\"CryptoNight-V7\"], [\"Ethash\"], [\"Equihash\"], [\"Multiple\"], [\"Scrypt\"], [\"X11\"], [\"Scrypt\"], [\"Multiple\"], [\"Scrypt\"], [\"SHA-256\"], [\"Scrypt\"], [\"Scrypt\"], [\"Quark\"], [\"Groestl\"], [\"Scrypt\"], [\"Scrypt\"], [\"Scrypt\"], [\"X11\"], [\"Multiple\"], [\"SHA-256\"], [\"Scrypt\"], [\"Scrypt\"], [\"Scrypt\"], [\"Scrypt\"], [\"Scrypt\"], [\"NeoScrypt\"], [\"Scrypt\"], [\"Scrypt\"], [\"Scrypt\"], [\"Scrypt\"], [\"SHA-256\"], [\"Scrypt\"], [\"Scrypt\"], [\"Scrypt\"], [\"Scrypt\"], [\"HybridScryptHash256\"], [\"Scrypt\"], [\"Scrypt\"], [\"SHA-256\"], [\"Scrypt\"], [\"Scrypt\"], [\"Scrypt\"], [\"Scrypt\"], [\"SHA-256\"], [\"SHA-256\"], [\"SHA-256\"], [\"SHA-256\"], [\"SHA-256\"], [\"X11\"], [\"Scrypt\"], [\"Lyra2REv2\"], [\"Scrypt\"], [\"SHA-256\"], [\"CryptoNight\"], [\"CryptoNight\"], [\"Scrypt\"], [\"Scrypt\"], [\"Scrypt\"], [\"Scrypt\"], [\"Scrypt\"], [\"Scrypt\"], [\"Stanford Folding\"], [\"Multiple\"], [\"QuBit\"], [\"Scrypt\"], [\"Scrypt\"], [\"M7 POW\"], [\"Scrypt\"], [\"SHA-256\"], [\"Scrypt\"], [\"X11\"], [\"Lyra2RE\"], [\"SHA-256\"], [\"X11\"], [\"Scrypt\"], [\"Scrypt\"], [\"Ethash\"], [\"Blake2b\"], [\"X11\"], [\"SHA-256\"], [\"Scrypt\"], [\"1GB AES Pattern Search\"], [\"Scrypt\"], [\"SHA-256\"], [\"X11\"], [\"Dagger\"], [\"Scrypt\"], [\"X11GOST\"], [\"Scrypt\"], [\"X11\"], [\"Scrypt\"], [\"X11\"], [\"Equihash\"], [\"CryptoNight\"], [\"SHA-256\"], [\"Multiple\"], [\"Scrypt\"], [\"SHA-256\"], [\"Scrypt\"], [\"Lyra2Z\"], [\"Ethash\"], [\"Equihash\"], [\"Scrypt\"], [\"X11\"], [\"X11\"], [\"CryptoNight\"], [\"Scrypt\"], [\"CryptoNight\"], [\"Lyra2RE\"], [\"X11\"], [\"CryptoNight-V7\"], [\"Scrypt\"], [\"X11\"], [\"Equihash\"], [\"Scrypt\"], [\"Lyra2RE\"], [\"Dagger-Hashimoto\"], [\"Scrypt\"], [\"NIST5\"], [\"Scrypt\"], [\"SHA-256\"], [\"Scrypt\"], [\"CryptoNight-V7\"], [\"Argon2d\"], [\"Blake2b\"], [\"Cloverhash\"], [\"CryptoNight\"], [\"X11\"], [\"Scrypt\"], [\"Scrypt\"], [\"X11\"], [\"X11\"], [\"CryptoNight\"], [\"Time Travel\"], [\"Scrypt\"], [\"Keccak\"], [\"X11\"], [\"SHA-256\"], [\"Scrypt\"], [\"Scrypt\"], [\"Scrypt\"], [\"Scrypt\"], [\"Scrypt\"], [\"Scrypt\"], [\"CryptoNight\"], [\"Equihash\"], [\"X11\"], [\"NeoScrypt\"], [\"Equihash\"], [\"Dagger\"], [\"Scrypt\"], [\"X11\"], [\"NeoScrypt\"], [\"Ethash\"], [\"NeoScrypt\"], [\"Multiple\"], [\"CryptoNight\"], [\"CryptoNight\"], [\"Ethash\"], [\"X11\"], [\"CryptoNight-V7\"], [\"Scrypt\"], [\"BLAKE256\"], [\"X11\"], [\"NeoScrypt\"], [\"NeoScrypt\"], [\"Scrypt\"], [\"X11\"], [\"SHA-256\"], [\"C11\"], [\"Ethash\"], [\"CryptoNight\"], [\"SkunkHash\"], [\"CryptoNight\"], [\"Scrypt\"], [\"Dagger\"], [\"Lyra2REv2\"], [\"Scrypt\"], [\"Scrypt\"], [\"X11\"], [\"Ethash\"], [\"CryptoNight\"], [\"Scrypt\"], [\"IMesh\"], [\"Equihash\"], [\"Lyra2Z\"], [\"X11\"], [\"CryptoNight\"], [\"NIST5\"], [\"Lyra2RE\"], [\"Tribus\"], [\"Lyra2Z\"], [\"CryptoNight\"], [\"CryptoNight Heavy\"], [\"CryptoNight\"], [\"Jump Consistent Hash\"], [\"CryptoNight\"], [\"X16R\"], [\"HMQ1725\"], [\"X11\"], [\"Scrypt\"], [\"CryptoNight-V7\"], [\"Cryptonight-GPU\"], [\"XEVAN\"], [\"CryptoNight Heavy\"], [\"SHA-256\"], [\"X11\"], [\"X16R\"], [\"Equihash\"], [\"Lyra2Z\"], [\"SHA-256\"], [\"CryptoNight\"], [\"Blake\"], [\"Blake\"], [\"Equihash\"], [\"Exosis\"], [\"Scrypt\"], [\"Equihash\"], [\"Equihash\"], [\"QuBit\"], [\"SHA-256\"], [\"X13\"], [\"SHA-256\"], [\"Scrypt\"], [\"NeoScrypt\"], [\"Blake\"], [\"Scrypt\"], [\"SHA-256\"], [\"Scrypt\"], [\"Groestl\"], [\"Scrypt\"], [\"Scrypt\"], [\"Multiple\"], [\"Equihash+Scrypt\"], [\"Ethash\"], [\"CryptoNight\"], [\"Equihash\"]], \"hovertemplate\": \"<b>%{hovertext}</b><br><br>Class=%{marker.color}<br>PC 1=%{x}<br>PC 2=%{y}<br>PC 3=%{z}<br>Algorithm=%{customdata[0]}<extra></extra>\", \"hovertext\": [\"Bitcoin\", \"Ethereum\", \"Litecoin\", \"Monero\", \"Ethereum Classic\", \"ZCash\", \"DigiByte\", \"ProsperCoin\", \"Spreadcoin\", \"Argentum\", \"MyriadCoin\", \"MoonCoin\", \"ZetaCoin\", \"SexCoin\", \"Quatloo\", \"QuarkCoin\", \"Riecoin\", \"Digitalcoin \", \"Catcoin\", \"CannaCoin\", \"CryptCoin\", \"Verge\", \"DevCoin\", \"EarthCoin\", \"E-Gulden\", \"Einsteinium\", \"Emerald\", \"Franko\", \"FeatherCoin\", \"GrandCoin\", \"GlobalCoin\", \"GoldCoin\", \"Infinite Coin\", \"IXcoin\", \"KrugerCoin\", \"LuckyCoin\", \"Litebar \", \"MegaCoin\", \"MediterraneanCoin\", \"MinCoin\", \"NobleCoin\", \"Namecoin\", \"NyanCoin\", \"RonPaulCoin\", \"StableCoin\", \"SmartCoin\", \"SysCoin\", \"TigerCoin\", \"TerraCoin\", \"UnbreakableCoin\", \"Unobtanium\", \"UroCoin\", \"ViaCoin\", \"Vertcoin\", \"WorldCoin\", \"JouleCoin\", \"ByteCoin\", \"DigitalNote \", \"MonaCoin\", \"Gulden\", \"PesetaCoin\", \"Wild Beast Coin\", \"Flo\", \"ArtByte\", \"Folding Coin\", \"Unitus\", \"CypherPunkCoin\", \"OmniCron\", \"GreenCoin\", \"Cryptonite\", \"MasterCoin\", \"SoonCoin\", \"1Credit\", \"MarsCoin \", \"Crypto\", \"Anarchists Prime\", \"BowsCoin\", \"Song Coin\", \"BitZeny\", \"Expanse\", \"Siacoin\", \"MindCoin\", \"I0coin\", \"Revolution VR\", \"HOdlcoin\", \"Gamecredits\", \"CarpeDiemCoin\", \"Adzcoin\", \"SoilCoin\", \"YoCoin\", \"SibCoin\", \"Francs\", \"BolivarCoin\", \"Omni\", \"PizzaCoin\", \"Komodo\", \"Karbo\", \"ZayedCoin\", \"Circuits of Value\", \"DopeCoin\", \"DollarCoin\", \"Shilling\", \"ZCoin\", \"Elementrem\", \"ZClassic\", \"KiloCoin\", \"ArtexCoin\", \"Kurrent\", \"Cannabis Industry Coin\", \"OsmiumCoin\", \"Bikercoins\", \"HexxCoin\", \"PacCoin\", \"Citadel\", \"BeaverCoin\", \"VaultCoin\", \"Zero\", \"Canada eCoin\", \"Zoin\", \"DubaiCoin\", \"EB3coin\", \"Coinonat\", \"BenjiRolls\", \"ILCoin\", \"EquiTrader\", \"Quantum Resistant Ledger\", \"Dynamic\", \"Nano\", \"ChanCoin\", \"Dinastycoin\", \"DigitalPrice\", \"Unify\", \"SocialCoin\", \"ArcticCoin\", \"DAS\", \"LeviarCoin\", \"Bitcore\", \"gCn Coin\", \"SmartCash\", \"Onix\", \"Bitcoin Cash\", \"Sojourn Coin\", \"NewYorkCoin\", \"FrazCoin\", \"Kronecoin\", \"AdCoin\", \"Linx\", \"Sumokoin\", \"BitcoinZ\", \"Elements\", \"VIVO Coin\", \"Bitcoin Gold\", \"Pirl\", \"eBoost\", \"Pura\", \"Innova\", \"Ellaism\", \"GoByte\", \"SHIELD\", \"UltraNote\", \"BitCoal\", \"DaxxCoin\", \"AC3\", \"Lethean\", \"PopularCoin\", \"Photon\", \"Sucre\", \"SparksPay\", \"GunCoin\", \"IrishCoin\", \"Pioneer Coin\", \"UnitedBitcoin\", \"Interzone\", \"1717 Masonic Commemorative Token\", \"TurtleCoin\", \"MUNcoin\", \"Niobio Cash\", \"ShareChain\", \"Travelflex\", \"KREDS\", \"BitFlip\", \"LottoCoin\", \"Crypto Improvement Fund\", \"Callisto Network\", \"BitTube\", \"Poseidon\", \"Aidos Kuneen\", \"Bitrolium\", \"Alpenschillling\", \"FuturoCoin\", \"Monero Classic\", \"Jumpcoin\", \"Infinex\", \"KEYCO\", \"GINcoin\", \"PlatinCoin\", \"Loki\", \"Newton Coin\", \"MassGrid\", \"PluraCoin\", \"Motion\", \"PlusOneCoin\", \"Axe\", \"HexCoin\", \"Webchain\", \"Ryo\", \"Urals Coin\", \"Qwertycoin\", \"Project Pai\", \"Azart\", \"Xchange\", \"CrypticCoin\", \"Actinium\", \"Bitcoin SV\", \"FREDEnergy\", \"Universal Molecule\", \"Lithium\", \"PirateCash\", \"Exosis\", \"Block-Logic\", \"Beam\", \"Bithereum\", \"SLICE\", \"BLAST\", \"Bitcoin Rhodium\", \"GlobalToken\", \"SolarCoin\", \"UFO Coin\", \"BlakeCoin\", \"Crypto Escudo\", \"Crown Coin\", \"SmileyCoin\", \"Groestlcoin\", \"Bata\", \"Pakcoin\", \"JoinCoin\", \"Vollar\", \"Reality Clash\", \"Beldex\", \"Horizen\"], \"legendgroup\": \"1\", \"marker\": {\"color\": [1, 1, 1, 1, 1, 1, 1, 1, 1, 1, 1, 1, 1, 1, 1, 1, 1, 1, 1, 1, 1, 1, 1, 1, 1, 1, 1, 1, 1, 1, 1, 1, 1, 1, 1, 1, 1, 1, 1, 1, 1, 1, 1, 1, 1, 1, 1, 1, 1, 1, 1, 1, 1, 1, 1, 1, 1, 1, 1, 1, 1, 1, 1, 1, 1, 1, 1, 1, 1, 1, 1, 1, 1, 1, 1, 1, 1, 1, 1, 1, 1, 1, 1, 1, 1, 1, 1, 1, 1, 1, 1, 1, 1, 1, 1, 1, 1, 1, 1, 1, 1, 1, 1, 1, 1, 1, 1, 1, 1, 1, 1, 1, 1, 1, 1, 1, 1, 1, 1, 1, 1, 1, 1, 1, 1, 1, 1, 1, 1, 1, 1, 1, 1, 1, 1, 1, 1, 1, 1, 1, 1, 1, 1, 1, 1, 1, 1, 1, 1, 1, 1, 1, 1, 1, 1, 1, 1, 1, 1, 1, 1, 1, 1, 1, 1, 1, 1, 1, 1, 1, 1, 1, 1, 1, 1, 1, 1, 1, 1, 1, 1, 1, 1, 1, 1, 1, 1, 1, 1, 1, 1, 1, 1, 1, 1, 1, 1, 1, 1, 1, 1, 1, 1, 1, 1, 1, 1, 1, 1, 1, 1, 1, 1, 1, 1, 1, 1, 1, 1, 1, 1, 1, 1, 1, 1, 1, 1, 1, 1, 1, 1, 1, 1, 1, 1, 1, 1, 1, 1, 1], \"coloraxis\": \"coloraxis\", \"symbol\": \"diamond\"}, \"mode\": \"markers\", \"name\": \"1\", \"scene\": \"scene\", \"showlegend\": true, \"type\": \"scatter3d\", \"x\": [-0.19684628343625019, -0.23050358087573225, -0.28806744868025597, -0.28800450962123536, -0.2304364712601574, -0.2265824626114282, -0.1372730647046209, -0.28874467287509836, -0.2813181210734745, -0.28866855056371254, -0.25218711913663766, -0.28881756304291645, -0.19504561735172585, -0.2872881674078931, -0.288725878286678, -0.24214476748013689, -0.3139403198354177, -0.28841742198241604, -0.2887275072504169, -0.2887572595986585, -0.28139087688097775, -0.08378515366531321, 0.024941084758597847, -0.1405400295966454, -0.2885656177398429, -0.28622474059028563, -0.288582334693339, -0.2887993699053436, -0.28238489921509546, -0.27835817123412343, -0.288036307817838, -0.2883202726490258, 0.7824747442878321, -0.19680889093980866, -0.2870220273872804, -0.2885843503099033, -0.288799823719408, -0.288361738158862, -0.3052168169187746, -0.28874424828633677, -0.2608344892650382, -0.19688401413760437, -0.28485497238553337, -0.2887998261679619, -0.2885265426403299, -0.288510238890937, -0.19039686466095637, -0.1965434516474231, -0.19678706181328648, -0.19703133283145774, -0.19705589506231636, -0.28143568932966595, -0.2885391250257919, -0.26945325594624353, -0.2873985416431817, -0.1965947843751315, 2.042428429259054, -0.052477468862920144, -0.288006486303588, -0.28390517232238227, -0.2871867474453703, -0.2888107313488655, -0.28701229400388134, -0.27944119461923406, -0.2721808552904686, -0.2713806281039591, -0.32390932293549657, -0.28869297719224085, -0.23429603411993544, -0.4157131815228655, -0.288805557221295, -0.19691090143430862, -0.28881296101634646, -0.28106894812096755, -0.3840731207429787, -0.1968838868277205, -0.2812623771264599, -0.2884278025644358, -0.2879187491331035, -0.23165283386451627, 0.21231777222392442, -0.281262331450822, -0.19680997732165964, -0.28632964907940195, -0.1618801716826355, -0.2879870763035327, 0.060015182230837946, -0.2809165401441408, -0.39208830390358473, -0.2888053584249321, -0.2646634770912896, -0.28873518338168924, -0.28128850738059435, -0.2888055930508058, -0.28143367221807103, -0.006565103014468267, -0.13405478473862054, -0.19698443795532172, -0.2603256699423111, -0.287431197917451, -0.19695058467239526, -0.28868139906779394, -0.2553495816255522, -0.2314670611903662, -0.22660338690470383, -0.2864917940135938, -0.27170622679517875, -0.28072433365244576, -0.1341357181181504, -0.28880231073506263, -0.13403663772531307, -0.3842134417157698, -0.2751014076756814, -0.2880782027868055, -0.2887760448228223, -0.2810906708994544, -0.2265879186146497, -0.28763224208102645, -0.3840163248119849, -0.27278085015867004, -0.28805499973033305, -0.2517314393745522, -0.28857311941399577, -0.18147602509107072, -0.2886511962592941, -0.2873915669804314, -0.21035952154604234, -0.17749172656089168, -0.2055050970202968, -0.11275048057723577, -0.2810344508754529, -0.2885984589144341, -0.28875177481972986, -0.28114201720116344, -0.2814189504683904, -0.13397982264475403, -0.32096521469310196, 1.639300321691172, -0.33523001011825526, -0.2800017128530161, -0.19684547443761033, -0.28880727288863534, 1.402231440190244, -0.28869813309475284, -0.28860649410232553, -0.2884268383035471, -0.2884141880498361, -0.13404149187069714, -0.16504375316968686, -0.2494888997909357, -0.2848031312536682, -0.22646634998723533, -0.39175402666851206, -0.2876305086264875, -0.27937805412147443, -0.2847770067490342, -0.23162609984557786, -0.28478342696120884, -0.2664541648099557, 0.09385793032677728, -0.13409407231426262, -0.22561755101213662, -0.28050023860927803, -0.28299016962370266, -0.2419365283367105, 0.2053204901270967, -0.2813999578095792, -0.284759598282894, -0.2813073085287995, -0.28827504925796743, -0.2813497129523985, -0.196819809469912, -0.23515112518922565, -0.07834305162044429, 0.49421552784608613, -0.36335362172618324, -0.13256354596762737, -0.17056367200760325, -0.3908866169881008, -0.2624455505260649, -0.2886657086857599, -0.11745782879037937, -0.2789513913164143, -0.2288490181393271, -0.13320072149172515, -0.28876475276881935, -0.20587590066914657, -0.22582599360419417, -0.2551157798358628, -0.2810739167534845, -0.13395788623824945, -0.25160200159362867, -0.38417534738018244, -0.2363165000136717, -0.2553564622030902, -0.1341462948345599, 0.19189297369482142, 0.35415541479312007, -0.37931277016902376, -0.1275243175567598, -0.22305089053431304, -0.3384661346024944, -0.28139092369117524, -0.28879613082305544, -0.2880236985092244, -0.42284624552718414, -0.22143679505572184, 1.3688731220357184, -0.17222593662444252, -0.28139065353222614, -0.223031641810387, -0.17658994835671535, -0.2552778456182731, -0.1968455107992799, -0.11206958363621261, -0.22683563639345913, -0.22666678519300107, -0.07309566104126586, -0.34731835662416183, -0.28839564453772787, -0.22624776716510125, -0.22637236049608234, -0.3238317466160094, -0.19643990048102347, -0.18464846032024876, -0.19605772861718315, -0.28815702517930075, -0.23962579704531706, -0.22657806416340182, -0.2795869552500738, -0.19678645243799167, 0.061015206660243945, -0.31365948243527425, -0.2887531364242474, -0.28798887068512546, -0.27211117700127674, -0.23954703180803874, -0.23148737161450283, -0.12255623468540366, -0.22658348568987094], \"y\": [-1.306302079488879, -2.090144407083566, -1.0835056346763814, -2.234860009628436, -2.0901515127344563, -2.063944715473647, -1.883150312671258, -1.0834326353864858, -0.9155886920046024, -1.08344081815257, -1.8707687365522587, -1.0831831389769282, -1.306496188503529, -1.0835895760510388, -1.0834346126772154, -0.4515811442432232, -1.203608738868385, -1.0834679124477236, -1.0834344867068617, -1.0834312828489043, -0.9155808465164832, -1.88892180524451, -1.3302087454041431, -1.0994080908755588, -1.0834519465637067, -1.0837042357796631, -1.0834501367105012, -1.0834267424315975, -1.6613845213794896, -1.0845519435162096, -1.0835090020425548, -1.0834783748940358, -1.198907132720832, -1.3063061122865163, -1.0836182696682868, -1.0834499268768563, -1.0834266997086155, -1.0834739218534664, -2.218678386384352, -1.083432688100795, -1.086433335121527, -1.3062980102156991, -1.0838519424848678, -1.0834266870789364, -1.0834560167228175, -1.0834579001929379, -1.306997106620402, -1.3063347236649647, -1.3063084533525267, -1.3062820846997525, -1.3062794858381497, -0.9155760248009177, -1.0834548025562991, -1.2941748492635858, -1.0835776624357074, -1.3063291886732096, -2.570693211583939, -2.344866455236623, -1.0835121962055794, -1.0839535337106632, -1.0836005668574882, -1.0834255225116152, -1.08361938575862, -1.0844354036414479, -2.2618969495320913, -1.868699966525332, -1.5280427352761048, -1.083438221882823, -1.0892986659603336, -2.1597686860717618, -1.0834260818075587, -1.306295110408604, -1.0833673887686563, -0.9156155572392829, -2.2248554291500824, -1.3062980033304996, -0.9155947033851761, -1.0834666909052826, -1.0835215675271264, -2.090020448990506, -2.2983225526790783, -0.9155947114577777, -1.3063059951197429, -1.0836929778574582, -1.1630049442401635, -1.0835143028735146, -1.3339911085468867, -0.9156319624145032, -2.21729514896424, -1.0834259976954295, -2.3589797889568485, -1.0834336594619294, -0.9155918827082933, -1.0834260779452367, -0.915576226614997, -1.4655725068510779, -2.3360745915028955, -1.3062871865499477, -1.8698914936056357, -1.0835741816106061, -1.3062908370739936, -1.0834394538315517, -2.2733268836829836, -2.0900404788054487, -2.0639424587791657, -1.0836693296777735, -0.9166250370839469, -0.9156526013533115, -2.3360658558791343, -1.0834264306243184, -2.3360765392270872, -2.224840330577453, -0.9161962506711467, -2.2348519453680966, -1.0834292630084752, -0.9156126059017936, -2.0639441295584056, -1.083552561836016, -2.2248615828023475, -2.211901882098445, -1.0835045129911367, -0.6286059628538821, -1.0834511283671793, -1.3079582087779706, -1.0834426847877991, -2.234926049693398, -2.2761924311868835, -2.2562812080119894, -2.30294595913029, -2.338371018037923, -0.9156192356201855, -1.0834484057125888, -1.083431835456745, -0.9156076597150743, -0.9155778182010359, -2.3360826485097035, -2.2637144825218267, -1.2912473136730305, -1.3070484220502165, -0.915729987589742, -1.306302166739753, -1.0834192895888075, -1.265805186248659, -1.0834376553521117, -1.0834474983841094, -1.0834668642744798, -1.083468228610057, -2.3360759755005063, -2.0705684911543663, -0.9190203677569564, -1.6611239084131946, -2.0639572382726175, -2.21732138352563, -1.083552748789871, -0.9157977214351661, -1.661126714625552, -2.0900231667036473, -1.6611260305094329, -1.869230872483822, -2.360601597191688, -2.3360703527468836, -2.090665074684734, -0.9156765674727047, -2.2354001794958687, -1.0884777816710425, -1.2688290318776165, -0.9155798660015044, -1.6611286072395137, -1.6615006368177805, -1.0834832574461482, -0.9155852829183116, -1.306304935242943, -1.3007975941879424, -0.12936716214772712, -2.4032045421373365, -2.157044344971976, -2.3362352171285616, -1.0961722300035273, -2.2174247073904176, -1.2949299940973364, -1.0834411397534152, -1.1018944287328076, -0.915843642817524, -2.0903187620197, -2.336166079610125, -1.0834304697608774, -2.24893575855086, -2.0640262701624503, -2.273351923990676, -0.9156149792074122, -2.3360850367638726, -0.6286199399265087, -2.224844428823868, -2.238436228009716, -2.2733261484688785, -2.3360643508147065, -2.2735988516372276, -2.3886124984989427, -2.1403626420772244, -2.3367782823386736, -1.3054235341814426, -2.297840871385289, -0.9155808395801038, -1.08342708492802, -2.2348568388360186, -2.082719463778131, -0.7020248605896598, -2.4004207010790393, -1.308956086714645, -0.915580866199698, -1.3054255611278218, -2.069331661309606, -2.2733345810500523, -1.3063021628181306, -2.3384406269811264, -2.218274467155934, -2.2182992770825685, -0.10331045776371113, -2.1467321133634534, -1.0834702159503609, -2.063980660365754, -2.063967368860508, -1.528051038987937, -1.3063458810145931, -0.32672348419841024, -1.306387032976306, -1.0834342930596659, -1.6659938041354125, -2.2183044565132626, -1.0844196832915685, -1.306308519073927, -1.12112294497038, -1.2036390140937048, -1.0834317326575695, -1.0835140476779674, -1.8686211747347308, -2.270168925682736, -2.090038289397901, -2.3373138404633904, -2.0639446051341754], \"z\": [0.11474248259675532, 0.34484309221302156, 0.012365610051406493, 0.3134023121004942, 0.34483962096580567, 0.36596463934391527, 0.2330177507100822, 0.012400535391844228, -0.027493366184521032, 0.012396607845784608, 0.2389444400300949, 0.012384853130941618, 0.11464962083131564, 0.012325416759320794, 0.012399562218986592, 0.009213088396712182, -0.08844359156421316, 0.012383658799783365, 0.0123996502189027, 0.012401184844366383, -0.02748961431346902, 0.23025978592455887, 0.10330459941087837, 0.004757443045760433, 0.012391302126892611, 0.012270576930523974, 0.0123921636064525, 0.012403356426213919, 0.15374728090629727, 0.011864867929704035, 0.012364004931761853, 0.012378647919581971, -0.04284319632072321, 0.11474055439275964, 0.012311692041959286, 0.012392268152513486, 0.012403380328384723, 0.012380787686385121, 0.42283645077342025, 0.012400514054177343, 0.010960543662405975, 0.114744428240825, 0.0121999407544222, 0.012403379459763641, 0.012389275562444674, 0.0123884448987808, 0.11440986408718357, 0.11472686527333856, 0.11473942767563804, 0.1147520219781383, 0.11475329260669252, -0.027487302576404256, 0.012389935886382404, 0.1415396965114275, 0.01233110760285809, 0.11472951242956042, 0.17000931741563588, 0.2780453300780278, 0.01236246535946123, 0.012150894795841624, 0.012320191109845892, 0.012403942733069646, 0.012311195461931523, 0.01192073706147551, 0.3386743872861931, 0.23993428533451594, 0.11088675425339398, 0.012397870513669104, 0.009592298851299943, 0.01084988465889025, 0.012403676022582919, 0.11474581472736131, 0.012399399857960637, -0.027506215845263055, 0.20299545740098957, 0.11474442001723925, -0.027496240761098193, 0.012384185885278358, 0.01235793371636969, 0.3449023544288721, 0.24334458234573275, -0.027496242863284368, 0.11474061041378059, 0.012275991251077232, 0.15258890297205335, 0.012361465521018718, 0.1014959156663549, -0.027514077588936967, 0.18541964990322965, 0.012403657279023159, 0.45340913776955316, 0.01240004610154179, -0.027494893515195976, 0.012403677870342295, -0.027487407857752156, 0.682764184424943, 0.28225250087982773, 0.11474960732619505, 0.2393641579470996, 0.012332794888239048, 0.11474786158173395, 0.012397272120913893, 0.38718834452631945, 0.34489277429244547, 0.36596571833862573, 0.01228385684410434, -0.027989043216761794, -0.027523996315414318, 0.28225667378229086, 0.012403508506257755, 0.2822515643405555, 0.2030026961014065, -0.027819002986062512, 0.31340610284005854, 0.012402154029714509, -0.027505144634851725, 0.3659649208939848, 0.012343167115695785, 0.20299253089548738, 0.5214674925860014, 0.012364769833231667, -0.05298470030615682, 0.01239168822756883, 0.11394976508480485, 0.012395712538228318, 0.31337069941491946, 0.4043516303715134, 0.2634457165183866, 0.19464875953948485, 0.28115380954537494, -0.027507998143231436, 0.012392995721928273, 0.012400898880963981, -0.027502449288080547, -0.02748816669951876, 0.282248633111613, 0.39712736005428856, -0.08703231907253633, 0.04050140061914139, -0.027561303564393465, 0.11474244087944213, 0.012403232907281804, -0.07479735628629783, 0.012398135544129767, 0.01239340679231399, 0.012384141743100947, 0.012383489412498817, 0.2822518114176287, 0.3627902350149792, -0.029134781102170187, 0.1538719965608808, 0.3659586518104004, 0.18540162249573738, 0.012343077727334983, -0.02759342555348125, 0.1538706484975948, 0.34490096252585, 0.15387098023444265, 0.23968021094505368, 0.27049551347385165, 0.2822545266800409, 0.34459062995149137, -0.027535568438331454, 0.3131436890199707, 0.009986546329376603, 0.0839085948787115, -0.027489146131969656, 0.15386975201727066, 0.15369170491255837, 0.01237631632044209, -0.02749173725055516, 0.11474111746648509, 0.12432963728288467, 0.17316999964580618, 0.24980410576594003, 0.2988161496314372, 0.2821755862577049, 0.006305837479854694, 0.18535767944783701, 0.1411782815125554, 0.012396462514920591, 0.0035669239346017164, -0.02761543469921113, 0.34475744293765676, 0.282208409616062, 0.012401570843738377, 0.27213538472562904, 0.3659256283265753, 0.38717627405681854, -0.027505963021994147, 0.2822475037281003, -0.05299137359295391, 0.20300073088169213, 0.38690013630388465, 0.38718869988619514, 0.2822571898726693, 0.3571690960860769, 0.2570678442131767, 0.10883617928283008, 0.2819156967517859, 0.19956171337421041, 0.49811780069396006, -0.02748961205151685, 0.012403188847422655, 0.3134032130032846, 0.2495327158049445, 0.16165771037608526, 0.2964668966768032, 0.11347278970360283, -0.027489626185217043, 0.19956071683759075, 0.36338631151597883, 0.3871846421747064, 0.11474244275448972, 0.28111839017157986, 0.2911188406180128, 0.29111066448333933, 0.19422315124866352, -0.028060665070763036, 0.012382532173979183, 0.36594736799454064, 0.3659538045911577, 0.11088274884315094, 0.11472152463141336, -0.08682854870909887, 0.11470181206134811, 0.012365266630882424, 0.1515421537801967, 0.29110573630676306, 0.011928253441958598, 0.11473939625222454, -0.005637923670918006, -0.08845807445797638, 0.012400972638401701, 0.012361553089414406, 0.2399719571172088, 0.29886467003915707, 0.3448938217189723, 0.2816594893347285, 0.3659646921005949]}, {\"customdata\": [[\"DPoS\"], [\"VeChainThor Authority\"], [\"DPoS\"], [\"Semux BFT consensus\"], [\"DPoS\"], [\"DPoS\"], [\"DPoS\"], [\"DPoS\"], [\"SHA-256\"]], \"hovertemplate\": \"<b>%{hovertext}</b><br><br>Class=%{marker.color}<br>PC 1=%{x}<br>PC 2=%{y}<br>PC 3=%{z}<br>Algorithm=%{customdata[0]}<extra></extra>\", \"hovertext\": [\"ARK\", \"Vechain\", \"Lamden Tau\", \"Semux\", \"ALAX\", \"Lisk\", \"EOS\", \"Oxycoin\", \"ZEPHYR\"], \"legendgroup\": \"3\", \"marker\": {\"color\": [3, 3, 3, 3, 3, 3, 3, 3, 3], \"coloraxis\": \"coloraxis\", \"symbol\": \"square\"}, \"mode\": \"markers\", \"name\": \"3\", \"scene\": \"scene\", \"showlegend\": true, \"type\": \"scatter3d\", \"x\": [6.690243732352264, 5.601964483086798, 6.692370897088514, 6.947059726123976, 6.700789172505609, 6.690383385050322, 6.701032122311029, 6.702236347027945, 3.9336742175051027], \"y\": [0.5436215883532292, 1.427896617709644, 0.543392408660289, 0.6358469037629292, 0.5424848085001642, 0.543606548720552, 0.5424579769612272, 0.5423281007815315, 0.09934278253180646], \"z\": [-0.1469636509930568, 6.661253773351669, -0.14707336063741266, -0.37717942890543754, -0.1475074878131316, -0.14697085417612782, -0.1475199652788625, -0.1475820630559341, -0.1524485274581832]}, {\"customdata\": [[\"Proof-of-Authority\"], [\"Leased POS\"]], \"hovertemplate\": \"<b>%{hovertext}</b><br><br>Class=%{marker.color}<br>PC 1=%{x}<br>PC 2=%{y}<br>PC 3=%{z}<br>Algorithm=%{customdata[0]}<extra></extra>\", \"hovertext\": [\"Poa Network\", \"Waves\"], \"legendgroup\": \"2\", \"marker\": {\"color\": [2, 2], \"coloraxis\": \"coloraxis\", \"symbol\": \"x\"}, \"mode\": \"markers\", \"name\": \"2\", \"scene\": \"scene\", \"showlegend\": true, \"type\": \"scatter3d\", \"x\": [0.09963441213057575, -0.11774799712391232], \"y\": [3.005409314934104, 3.160004731434069], \"z\": [20.40119200194258, 20.858974126964764]}, {\"customdata\": [[\"TRC10\"]], \"hovertemplate\": \"<b>%{hovertext}</b><br><br>Class=%{marker.color}<br>PC 1=%{x}<br>PC 2=%{y}<br>PC 3=%{z}<br>Algorithm=%{customdata[0]}<extra></extra>\", \"hovertext\": [\"BitTorrent\"], \"legendgroup\": \"4\", \"marker\": {\"color\": [4], \"coloraxis\": \"coloraxis\", \"symbol\": \"cross\"}, \"mode\": \"markers\", \"name\": \"4\", \"scene\": \"scene\", \"showlegend\": true, \"type\": \"scatter3d\", \"x\": [28.110461861774414], \"y\": [-1.9919817309853252], \"z\": [-1.5206954919937261]}],                        {\"coloraxis\": {\"colorbar\": {\"title\": {\"text\": \"Class\"}}, \"colorscale\": [[0.0, \"#0d0887\"], [0.1111111111111111, \"#46039f\"], [0.2222222222222222, \"#7201a8\"], [0.3333333333333333, \"#9c179e\"], [0.4444444444444444, \"#bd3786\"], [0.5555555555555556, \"#d8576b\"], [0.6666666666666666, \"#ed7953\"], [0.7777777777777778, \"#fb9f3a\"], [0.8888888888888888, \"#fdca26\"], [1.0, \"#f0f921\"]]}, \"legend\": {\"title\": {\"text\": \"Class\"}, \"tracegroupgap\": 0, \"x\": 0, \"y\": 1}, \"margin\": {\"t\": 60}, \"scene\": {\"domain\": {\"x\": [0.0, 1.0], \"y\": [0.0, 1.0]}, \"xaxis\": {\"title\": {\"text\": \"PC 1\"}}, \"yaxis\": {\"title\": {\"text\": \"PC 2\"}}, \"zaxis\": {\"title\": {\"text\": \"PC 3\"}}}, \"template\": {\"data\": {\"bar\": [{\"error_x\": {\"color\": \"#2a3f5f\"}, \"error_y\": {\"color\": \"#2a3f5f\"}, \"marker\": {\"line\": {\"color\": \"#E5ECF6\", \"width\": 0.5}}, \"type\": \"bar\"}], \"barpolar\": [{\"marker\": {\"line\": {\"color\": \"#E5ECF6\", \"width\": 0.5}}, \"type\": \"barpolar\"}], \"carpet\": [{\"aaxis\": {\"endlinecolor\": \"#2a3f5f\", \"gridcolor\": \"white\", \"linecolor\": \"white\", \"minorgridcolor\": \"white\", \"startlinecolor\": \"#2a3f5f\"}, \"baxis\": {\"endlinecolor\": \"#2a3f5f\", \"gridcolor\": \"white\", \"linecolor\": \"white\", \"minorgridcolor\": \"white\", \"startlinecolor\": \"#2a3f5f\"}, \"type\": \"carpet\"}], \"choropleth\": [{\"colorbar\": {\"outlinewidth\": 0, \"ticks\": \"\"}, \"type\": \"choropleth\"}], \"contour\": [{\"colorbar\": {\"outlinewidth\": 0, \"ticks\": \"\"}, \"colorscale\": [[0.0, \"#0d0887\"], [0.1111111111111111, \"#46039f\"], [0.2222222222222222, \"#7201a8\"], [0.3333333333333333, \"#9c179e\"], [0.4444444444444444, \"#bd3786\"], [0.5555555555555556, \"#d8576b\"], [0.6666666666666666, \"#ed7953\"], [0.7777777777777778, \"#fb9f3a\"], [0.8888888888888888, \"#fdca26\"], [1.0, \"#f0f921\"]], \"type\": \"contour\"}], \"contourcarpet\": [{\"colorbar\": {\"outlinewidth\": 0, \"ticks\": \"\"}, \"type\": \"contourcarpet\"}], \"heatmap\": [{\"colorbar\": {\"outlinewidth\": 0, \"ticks\": \"\"}, \"colorscale\": [[0.0, \"#0d0887\"], [0.1111111111111111, \"#46039f\"], [0.2222222222222222, \"#7201a8\"], [0.3333333333333333, \"#9c179e\"], [0.4444444444444444, \"#bd3786\"], [0.5555555555555556, \"#d8576b\"], [0.6666666666666666, \"#ed7953\"], [0.7777777777777778, \"#fb9f3a\"], [0.8888888888888888, \"#fdca26\"], [1.0, \"#f0f921\"]], \"type\": \"heatmap\"}], \"heatmapgl\": [{\"colorbar\": {\"outlinewidth\": 0, \"ticks\": \"\"}, \"colorscale\": [[0.0, \"#0d0887\"], [0.1111111111111111, \"#46039f\"], [0.2222222222222222, \"#7201a8\"], [0.3333333333333333, \"#9c179e\"], [0.4444444444444444, \"#bd3786\"], [0.5555555555555556, \"#d8576b\"], [0.6666666666666666, \"#ed7953\"], [0.7777777777777778, \"#fb9f3a\"], [0.8888888888888888, \"#fdca26\"], [1.0, \"#f0f921\"]], \"type\": \"heatmapgl\"}], \"histogram\": [{\"marker\": {\"colorbar\": {\"outlinewidth\": 0, \"ticks\": \"\"}}, \"type\": \"histogram\"}], \"histogram2d\": [{\"colorbar\": {\"outlinewidth\": 0, \"ticks\": \"\"}, \"colorscale\": [[0.0, \"#0d0887\"], [0.1111111111111111, \"#46039f\"], [0.2222222222222222, \"#7201a8\"], [0.3333333333333333, \"#9c179e\"], [0.4444444444444444, \"#bd3786\"], [0.5555555555555556, \"#d8576b\"], [0.6666666666666666, \"#ed7953\"], [0.7777777777777778, \"#fb9f3a\"], [0.8888888888888888, \"#fdca26\"], [1.0, \"#f0f921\"]], \"type\": \"histogram2d\"}], \"histogram2dcontour\": [{\"colorbar\": {\"outlinewidth\": 0, \"ticks\": \"\"}, \"colorscale\": [[0.0, \"#0d0887\"], [0.1111111111111111, \"#46039f\"], [0.2222222222222222, \"#7201a8\"], [0.3333333333333333, \"#9c179e\"], [0.4444444444444444, \"#bd3786\"], [0.5555555555555556, \"#d8576b\"], [0.6666666666666666, \"#ed7953\"], [0.7777777777777778, \"#fb9f3a\"], [0.8888888888888888, \"#fdca26\"], [1.0, \"#f0f921\"]], \"type\": \"histogram2dcontour\"}], \"mesh3d\": [{\"colorbar\": {\"outlinewidth\": 0, \"ticks\": \"\"}, \"type\": \"mesh3d\"}], \"parcoords\": [{\"line\": {\"colorbar\": {\"outlinewidth\": 0, \"ticks\": \"\"}}, \"type\": \"parcoords\"}], \"pie\": [{\"automargin\": true, \"type\": \"pie\"}], \"scatter\": [{\"marker\": {\"colorbar\": {\"outlinewidth\": 0, \"ticks\": \"\"}}, \"type\": \"scatter\"}], \"scatter3d\": [{\"line\": {\"colorbar\": {\"outlinewidth\": 0, \"ticks\": \"\"}}, \"marker\": {\"colorbar\": {\"outlinewidth\": 0, \"ticks\": \"\"}}, \"type\": \"scatter3d\"}], \"scattercarpet\": [{\"marker\": {\"colorbar\": {\"outlinewidth\": 0, \"ticks\": \"\"}}, \"type\": \"scattercarpet\"}], \"scattergeo\": [{\"marker\": {\"colorbar\": {\"outlinewidth\": 0, \"ticks\": \"\"}}, \"type\": \"scattergeo\"}], \"scattergl\": [{\"marker\": {\"colorbar\": {\"outlinewidth\": 0, \"ticks\": \"\"}}, \"type\": \"scattergl\"}], \"scattermapbox\": [{\"marker\": {\"colorbar\": {\"outlinewidth\": 0, \"ticks\": \"\"}}, \"type\": \"scattermapbox\"}], \"scatterpolar\": [{\"marker\": {\"colorbar\": {\"outlinewidth\": 0, \"ticks\": \"\"}}, \"type\": \"scatterpolar\"}], \"scatterpolargl\": [{\"marker\": {\"colorbar\": {\"outlinewidth\": 0, \"ticks\": \"\"}}, \"type\": \"scatterpolargl\"}], \"scatterternary\": [{\"marker\": {\"colorbar\": {\"outlinewidth\": 0, \"ticks\": \"\"}}, \"type\": \"scatterternary\"}], \"surface\": [{\"colorbar\": {\"outlinewidth\": 0, \"ticks\": \"\"}, \"colorscale\": [[0.0, \"#0d0887\"], [0.1111111111111111, \"#46039f\"], [0.2222222222222222, \"#7201a8\"], [0.3333333333333333, \"#9c179e\"], [0.4444444444444444, \"#bd3786\"], [0.5555555555555556, \"#d8576b\"], [0.6666666666666666, \"#ed7953\"], [0.7777777777777778, \"#fb9f3a\"], [0.8888888888888888, \"#fdca26\"], [1.0, \"#f0f921\"]], \"type\": \"surface\"}], \"table\": [{\"cells\": {\"fill\": {\"color\": \"#EBF0F8\"}, \"line\": {\"color\": \"white\"}}, \"header\": {\"fill\": {\"color\": \"#C8D4E3\"}, \"line\": {\"color\": \"white\"}}, \"type\": \"table\"}]}, \"layout\": {\"annotationdefaults\": {\"arrowcolor\": \"#2a3f5f\", \"arrowhead\": 0, \"arrowwidth\": 1}, \"coloraxis\": {\"colorbar\": {\"outlinewidth\": 0, \"ticks\": \"\"}}, \"colorscale\": {\"diverging\": [[0, \"#8e0152\"], [0.1, \"#c51b7d\"], [0.2, \"#de77ae\"], [0.3, \"#f1b6da\"], [0.4, \"#fde0ef\"], [0.5, \"#f7f7f7\"], [0.6, \"#e6f5d0\"], [0.7, \"#b8e186\"], [0.8, \"#7fbc41\"], [0.9, \"#4d9221\"], [1, \"#276419\"]], \"sequential\": [[0.0, \"#0d0887\"], [0.1111111111111111, \"#46039f\"], [0.2222222222222222, \"#7201a8\"], [0.3333333333333333, \"#9c179e\"], [0.4444444444444444, \"#bd3786\"], [0.5555555555555556, \"#d8576b\"], [0.6666666666666666, \"#ed7953\"], [0.7777777777777778, \"#fb9f3a\"], [0.8888888888888888, \"#fdca26\"], [1.0, \"#f0f921\"]], \"sequentialminus\": [[0.0, \"#0d0887\"], [0.1111111111111111, \"#46039f\"], [0.2222222222222222, \"#7201a8\"], [0.3333333333333333, \"#9c179e\"], [0.4444444444444444, \"#bd3786\"], [0.5555555555555556, \"#d8576b\"], [0.6666666666666666, \"#ed7953\"], [0.7777777777777778, \"#fb9f3a\"], [0.8888888888888888, \"#fdca26\"], [1.0, \"#f0f921\"]]}, \"colorway\": [\"#636efa\", \"#EF553B\", \"#00cc96\", \"#ab63fa\", \"#FFA15A\", \"#19d3f3\", \"#FF6692\", \"#B6E880\", \"#FF97FF\", \"#FECB52\"], \"font\": {\"color\": \"#2a3f5f\"}, \"geo\": {\"bgcolor\": \"white\", \"lakecolor\": \"white\", \"landcolor\": \"#E5ECF6\", \"showlakes\": true, \"showland\": true, \"subunitcolor\": \"white\"}, \"hoverlabel\": {\"align\": \"left\"}, \"hovermode\": \"closest\", \"mapbox\": {\"style\": \"light\"}, \"paper_bgcolor\": \"white\", \"plot_bgcolor\": \"#E5ECF6\", \"polar\": {\"angularaxis\": {\"gridcolor\": \"white\", \"linecolor\": \"white\", \"ticks\": \"\"}, \"bgcolor\": \"#E5ECF6\", \"radialaxis\": {\"gridcolor\": \"white\", \"linecolor\": \"white\", \"ticks\": \"\"}}, \"scene\": {\"xaxis\": {\"backgroundcolor\": \"#E5ECF6\", \"gridcolor\": \"white\", \"gridwidth\": 2, \"linecolor\": \"white\", \"showbackground\": true, \"ticks\": \"\", \"zerolinecolor\": \"white\"}, \"yaxis\": {\"backgroundcolor\": \"#E5ECF6\", \"gridcolor\": \"white\", \"gridwidth\": 2, \"linecolor\": \"white\", \"showbackground\": true, \"ticks\": \"\", \"zerolinecolor\": \"white\"}, \"zaxis\": {\"backgroundcolor\": \"#E5ECF6\", \"gridcolor\": \"white\", \"gridwidth\": 2, \"linecolor\": \"white\", \"showbackground\": true, \"ticks\": \"\", \"zerolinecolor\": \"white\"}}, \"shapedefaults\": {\"line\": {\"color\": \"#2a3f5f\"}}, \"ternary\": {\"aaxis\": {\"gridcolor\": \"white\", \"linecolor\": \"white\", \"ticks\": \"\"}, \"baxis\": {\"gridcolor\": \"white\", \"linecolor\": \"white\", \"ticks\": \"\"}, \"bgcolor\": \"#E5ECF6\", \"caxis\": {\"gridcolor\": \"white\", \"linecolor\": \"white\", \"ticks\": \"\"}}, \"title\": {\"x\": 0.05}, \"xaxis\": {\"automargin\": true, \"gridcolor\": \"white\", \"linecolor\": \"white\", \"ticks\": \"\", \"title\": {\"standoff\": 15}, \"zerolinecolor\": \"white\", \"zerolinewidth\": 2}, \"yaxis\": {\"automargin\": true, \"gridcolor\": \"white\", \"linecolor\": \"white\", \"ticks\": \"\", \"title\": {\"standoff\": 15}, \"zerolinecolor\": \"white\", \"zerolinewidth\": 2}}}, \"width\": 800},                        {\"responsive\": true}                    ).then(function(){\n",
       "                            \n",
       "var gd = document.getElementById('ca1da4e4-7756-46f9-981d-17a63d79adda');\n",
       "var x = new MutationObserver(function (mutations, observer) {{\n",
       "        var display = window.getComputedStyle(gd).display;\n",
       "        if (!display || display === 'none') {{\n",
       "            console.log([gd, 'removed!']);\n",
       "            Plotly.purge(gd);\n",
       "            observer.disconnect();\n",
       "        }}\n",
       "}});\n",
       "\n",
       "// Listen for the removal of the full notebook cells\n",
       "var notebookContainer = gd.closest('#notebook-container');\n",
       "if (notebookContainer) {{\n",
       "    x.observe(notebookContainer, {childList: true});\n",
       "}}\n",
       "\n",
       "// Listen for the clearing of the current output cell\n",
       "var outputEl = gd.closest('.output');\n",
       "if (outputEl) {{\n",
       "    x.observe(outputEl, {childList: true});\n",
       "}}\n",
       "\n",
       "                        })                };                });            </script>        </div>"
      ]
     },
     "metadata": {},
     "output_type": "display_data"
    }
   ],
   "source": [
    "# Create a 3D scatter plot \n",
    "\n",
    "fig = px.scatter_3d(\n",
    "    clustered_df,\n",
    "    x=\"PC 1\",\n",
    "    y=\"PC 2\",\n",
    "    z=\"PC 3\",\n",
    "    color=\"Class\",\n",
    "    symbol=\"Class\",\n",
    "    width=800,\n",
    "    hover_name=\"CoinName\",\n",
    "    hover_data=[\"Algorithm\"]\n",
    ")\n",
    "fig.update_layout(legend=dict(x=0, y=1))\n",
    "fig.show()"
   ]
  },
  {
   "cell_type": "code",
   "execution_count": 304,
   "metadata": {},
   "outputs": [
    {
     "data": {},
     "metadata": {},
     "output_type": "display_data"
    },
    {
     "data": {
      "application/vnd.holoviews_exec.v0+json": "",
      "text/html": [
       "<div id='252625'>\n",
       "\n",
       "\n",
       "\n",
       "\n",
       "\n",
       "  <div class=\"bk-root\" id=\"f3dd516b-c5c2-4e3a-b276-a4365913534a\" data-root-id=\"252625\"></div>\n",
       "</div>\n",
       "<script type=\"application/javascript\">(function(root) {\n",
       "  function embed_document(root) {\n",
       "  var docs_json = {\"e87adac9-9fd6-4320-9412-f8144d3c54dd\":{\"roots\":{\"references\":[{\"attributes\":{\"editor\":{\"id\":\"252650\"},\"field\":\"TotalCoinsMined\",\"formatter\":{\"id\":\"252649\"},\"title\":\"TotalCoinsMined\"},\"id\":\"252651\",\"type\":\"TableColumn\"},{\"attributes\":{\"children\":[{\"id\":\"252626\"},{\"id\":\"252659\"},{\"id\":\"252665\"}],\"margin\":[0,0,0,0],\"name\":\"Row141384\",\"tags\":[\"embedded\"]},\"id\":\"252625\",\"type\":\"Row\"},{\"attributes\":{},\"id\":\"252630\",\"type\":\"StringEditor\"},{\"attributes\":{\"columns\":[{\"id\":\"252631\"},{\"id\":\"252636\"},{\"id\":\"252641\"},{\"id\":\"252646\"},{\"id\":\"252651\"},{\"id\":\"252656\"}],\"height\":600,\"reorderable\":false,\"source\":{\"id\":\"252627\"},\"view\":{\"id\":\"252660\"},\"width\":1000},\"id\":\"252659\",\"type\":\"DataTable\"},{\"attributes\":{\"margin\":[5,5,5,5],\"name\":\"HSpacer141389\",\"sizing_mode\":\"stretch_width\"},\"id\":\"252665\",\"type\":\"Spacer\"},{\"attributes\":{\"margin\":[5,5,5,5],\"name\":\"HSpacer141388\",\"sizing_mode\":\"stretch_width\"},\"id\":\"252626\",\"type\":\"Spacer\"},{\"attributes\":{\"data\":{\"Algorithm\":[\"Scrypt\",\"Scrypt\",\"X13\",\"SHA-256\",\"Ethash\",\"Scrypt\",\"X11\",\"CryptoNight-V7\",\"Ethash\",\"Equihash\",\"SHA-512\",\"Multiple\",\"SHA-256\",\"SHA-256\",\"Scrypt\",\"X15\",\"X11\",\"Scrypt\",\"Scrypt\",\"Scrypt\",\"Multiple\",\"Scrypt\",\"SHA-256\",\"Scrypt\",\"Scrypt\",\"Scrypt\",\"Quark\",\"Groestl\",\"Scrypt\",\"Scrypt\",\"Scrypt\",\"Scrypt\",\"Scrypt\",\"X11\",\"Scrypt\",\"Groestl\",\"Multiple\",\"SHA-256\",\"Scrypt\",\"Scrypt\",\"Scrypt\",\"Scrypt\",\"PoS\",\"Scrypt\",\"Scrypt\",\"NeoScrypt\",\"Scrypt\",\"Scrypt\",\"Scrypt\",\"Scrypt\",\"X11\",\"Scrypt\",\"X11\",\"SHA-256\",\"Scrypt\",\"Scrypt\",\"Scrypt\",\"SHA3\",\"Scrypt\",\"HybridScryptHash256\",\"Scrypt\",\"Scrypt\",\"SHA-256\",\"Scrypt\",\"X13\",\"Scrypt\",\"SHA-256\",\"Scrypt\",\"X13\",\"NeoScrypt\",\"Scrypt\",\"Scrypt\",\"Scrypt\",\"Scrypt\",\"Scrypt\",\"Scrypt\",\"X11\",\"X11\",\"SHA-256\",\"Multiple\",\"SHA-256\",\"PHI1612\",\"X11\",\"SHA-256\",\"SHA-256\",\"SHA-256\",\"X11\",\"Scrypt\",\"Scrypt\",\"Scrypt\",\"Scrypt\",\"Lyra2REv2\",\"Scrypt\",\"X11\",\"Multiple\",\"SHA-256\",\"X13\",\"Scrypt\",\"CryptoNight\",\"CryptoNight\",\"Shabal256\",\"Counterparty\",\"Scrypt\",\"SHA-256\",\"Groestl\",\"Scrypt\",\"Scrypt\",\"Scrypt\",\"X13\",\"Scrypt\",\"Scrypt\",\"Scrypt\",\"Scrypt\",\"X13\",\"Scrypt\",\"Stanford Folding\",\"X11\",\"Multiple\",\"QuBit\",\"Scrypt\",\"Scrypt\",\"Scrypt\",\"M7 POW\",\"Scrypt\",\"SHA-256\",\"Scrypt\",\"X11\",\"SHA3\",\"X11\",\"Lyra2RE\",\"SHA-256\",\"QUAIT\",\"X11\",\"X11\",\"Scrypt\",\"Scrypt\",\"Scrypt\",\"Ethash\",\"X13\",\"Blake2b\",\"SHA-256\",\"X15\",\"X11\",\"SHA-256\",\"BLAKE256\",\"Scrypt\",\"1GB AES Pattern Search\",\"SHA-256\",\"X11\",\"Scrypt\",\"SHA-256\",\"SHA-256\",\"NIST5\",\"Scrypt\",\"Scrypt\",\"X11\",\"Dagger\",\"Scrypt\",\"X11GOST\",\"X11\",\"Scrypt\",\"SHA-256\",\"Scrypt\",\"PoS\",\"Scrypt\",\"X11\",\"X11\",\"SHA-256\",\"SHA-256\",\"NIST5\",\"X11\",\"Scrypt\",\"POS 3.0\",\"Scrypt\",\"Scrypt\",\"Scrypt\",\"X13\",\"X11\",\"X11\",\"Equihash\",\"X11\",\"Scrypt\",\"CryptoNight\",\"SHA-256\",\"SHA-256\",\"X11\",\"Scrypt\",\"Multiple\",\"Scrypt\",\"Scrypt\",\"Scrypt\",\"SHA-256\",\"Scrypt\",\"Scrypt\",\"SHA-256D\",\"PoS\",\"Scrypt\",\"X11\",\"Lyra2Z\",\"PoS\",\"X13\",\"X14\",\"PoS\",\"SHA-256D\",\"Ethash\",\"Equihash\",\"DPoS\",\"X11\",\"Scrypt\",\"X11\",\"X13\",\"X11\",\"PoS\",\"Scrypt\",\"Scrypt\",\"X11\",\"PoS\",\"X11\",\"SHA-256\",\"Scrypt\",\"X11\",\"Scrypt\",\"Scrypt\",\"X11\",\"CryptoNight\",\"Scrypt\",\"Scrypt\",\"Scrypt\",\"Scrypt\",\"Quark\",\"QuBit\",\"Scrypt\",\"CryptoNight\",\"Lyra2RE\",\"Scrypt\",\"SHA-256\",\"X11\",\"Scrypt\",\"X11\",\"Scrypt\",\"CryptoNight-V7\",\"Scrypt\",\"Scrypt\",\"Scrypt\",\"X13\",\"X11\",\"Equihash\",\"Scrypt\",\"Scrypt\",\"Lyra2RE\",\"Scrypt\",\"Dagger-Hashimoto\",\"X11\",\"Blake2S\",\"X11\",\"Scrypt\",\"PoS\",\"X11\",\"NIST5\",\"PoS\",\"X11\",\"Scrypt\",\"Scrypt\",\"Scrypt\",\"SHA-256\",\"X11\",\"Scrypt\",\"Scrypt\",\"SHA-256\",\"PoS\",\"Scrypt\",\"X15\",\"SHA-256\",\"Scrypt\",\"POS 3.0\",\"CryptoNight-V7\",\"536\",\"Argon2d\",\"Blake2b\",\"Cloverhash\",\"CryptoNight\",\"NIST5\",\"X11\",\"NIST5\",\"Skein\",\"Scrypt\",\"X13\",\"Scrypt\",\"X11\",\"X11\",\"Scrypt\",\"CryptoNight\",\"X13\",\"Time Travel\",\"Scrypt\",\"Keccak\",\"SkunkHash v2 Raptor\",\"X11\",\"Skein\",\"SHA-256\",\"X11\",\"Scrypt\",\"VeChainThor Authority\",\"Scrypt\",\"PoS\",\"Scrypt\",\"Scrypt\",\"Scrypt\",\"Scrypt\",\"Scrypt\",\"Scrypt\",\"Scrypt\",\"CryptoNight\",\"SHA-512\",\"Ouroboros\",\"X11\",\"Equihash\",\"NeoScrypt\",\"X11\",\"Scrypt\",\"NeoScrypt\",\"Lyra2REv2\",\"Equihash\",\"Scrypt\",\"SHA-256\",\"NIST5\",\"PHI1612\",\"Dagger\",\"Scrypt\",\"Quark\",\"Scrypt\",\"POS 2.0\",\"Scrypt\",\"SHA-256\",\"X11\",\"NeoScrypt\",\"Ethash\",\"NeoScrypt\",\"X11\",\"DPoS\",\"NIST5\",\"X13\",\"Multiple\",\"Scrypt\",\"CryptoNight\",\"CryptoNight\",\"Ethash\",\"NIST5\",\"Quark\",\"X11\",\"CryptoNight-V7\",\"Scrypt\",\"Scrypt\",\"Scrypt\",\"X11\",\"BLAKE256\",\"X11\",\"NeoScrypt\",\"Quark\",\"NeoScrypt\",\"Scrypt\",\"Scrypt\",\"Scrypt\",\"X11\",\"X11\",\"SHA-256\",\"C11\",\"POS 3.0\",\"Ethash\",\"Scrypt\",\"CryptoNight\",\"SkunkHash\",\"Scrypt\",\"CryptoNight\",\"Scrypt\",\"Dagger\",\"Lyra2REv2\",\"X13\",\"Proof-of-BibleHash\",\"SHA-256 + Hive\",\"Scrypt\",\"Scrypt\",\"X11\",\"C11\",\"Proof-of-Authority\",\"X11\",\"XEVAN\",\"Scrypt\",\"VBFT\",\"Ethash\",\"CryptoNight\",\"Scrypt\",\"IMesh\",\"NIST5\",\"Scrypt\",\"Scrypt\",\"Equihash\",\"Scrypt\",\"Lyra2Z\",\"Green Protocol\",\"PoS\",\"Scrypt\",\"Semux BFT consensus\",\"X11\",\"Quark\",\"PoS\",\"CryptoNight\",\"X16R\",\"Scrypt\",\"NIST5\",\"Lyra2RE\",\"XEVAN\",\"Tribus\",\"Scrypt\",\"Lyra2Z\",\"CryptoNight\",\"CryptoNight Heavy\",\"CryptoNight\",\"Scrypt\",\"Scrypt\",\"Jump Consistent Hash\",\"SHA-256D\",\"CryptoNight\",\"Scrypt\",\"X15\",\"Scrypt\",\"Quark\",\"SHA-256\",\"DPoS\",\"X16R\",\"HMQ1725\",\"X11\",\"X16R\",\"Quark\",\"Quark\",\"Scrypt\",\"Lyra2REv2\",\"Quark\",\"Scrypt\",\"Scrypt\",\"CryptoNight-V7\",\"Cryptonight-GPU\",\"XEVAN\",\"CryptoNight Heavy\",\"X11\",\"X11\",\"Scrypt\",\"PoS\",\"SHA-256\",\"Keccak\",\"X11\",\"X11\",\"Scrypt\",\"SHA-512\",\"X16R\",\"ECC 256K1\",\"Equihash\",\"XEVAN\",\"Lyra2Z\",\"SHA-256\",\"XEVAN\",\"X11\",\"CryptoNight\",\"Quark\",\"Blake\",\"Blake\",\"Equihash\",\"Exosis\",\"Scrypt\",\"Scrypt\",\"Equihash\",\"Quark\",\"Equihash\",\"Quark\",\"Scrypt\",\"QuBit\",\"X11\",\"Scrypt\",\"XEVAN\",\"SHA-256D\",\"X11\",\"SHA-256\",\"X13\",\"SHA-256\",\"X11\",\"DPoS\",\"Scrypt\",\"Scrypt\",\"X11\",\"NeoScrypt\",\"Scrypt\",\"Blake\",\"Scrypt\",\"SHA-256\",\"Scrypt\",\"X11\",\"Scrypt\",\"Scrypt\",\"SHA-256\",\"X11\",\"SHA-256\",\"Scrypt\",\"Scrypt\",\"Scrypt\",\"Groestl\",\"X11\",\"Scrypt\",\"PoS\",\"Scrypt\",\"Scrypt\",\"X11\",\"SHA-256\",\"DPoS\",\"Scrypt\",\"Scrypt\",\"NeoScrypt\",\"Multiple\",\"X13\",\"Equihash+Scrypt\",\"DPoS\",\"Ethash\",\"DPoS\",\"SHA-256\",\"Leased POS\",\"PoS\",\"TRC10\",\"PoS\",\"SHA-256\",\"Scrypt\",\"CryptoNight\",\"Equihash\",\"Scrypt\"],\"Class\":{\"__ndarray__\":\"AAAAAAAAAAAAAAAAAQAAAAEAAAABAAAAAAAAAAEAAAABAAAAAQAAAAAAAAABAAAAAAAAAAAAAAABAAAAAAAAAAEAAAABAAAAAAAAAAAAAAABAAAAAQAAAAEAAAABAAAAAQAAAAAAAAABAAAAAQAAAAEAAAAAAAAAAQAAAAAAAAABAAAAAQAAAAAAAAAAAAAAAQAAAAEAAAABAAAAAQAAAAEAAAABAAAAAAAAAAAAAAABAAAAAQAAAAEAAAABAAAAAQAAAAAAAAAAAAAAAQAAAAAAAAABAAAAAQAAAAEAAAABAAAAAAAAAAEAAAABAAAAAAAAAAEAAAAAAAAAAAAAAAAAAAABAAAAAQAAAAEAAAAAAAAAAAAAAAAAAAAAAAAAAAAAAAEAAAABAAAAAQAAAAAAAAAAAAAAAQAAAAAAAAABAAAAAAAAAAAAAAABAAAAAQAAAAEAAAABAAAAAAAAAAAAAAABAAAAAAAAAAEAAAABAAAAAAAAAAAAAAABAAAAAAAAAAAAAAABAAAAAQAAAAAAAAAAAAAAAQAAAAAAAAAAAAAAAQAAAAAAAAABAAAAAAAAAAEAAAAAAAAAAQAAAAAAAAAAAAAAAQAAAAEAAAAAAAAAAQAAAAEAAAABAAAAAAAAAAEAAAABAAAAAQAAAAEAAAABAAAAAAAAAAAAAAABAAAAAQAAAAEAAAAAAAAAAQAAAAAAAAABAAAAAQAAAAAAAAABAAAAAAAAAAEAAAAAAAAAAAAAAAEAAAABAAAAAAAAAAEAAAABAAAAAAAAAAAAAAABAAAAAAAAAAEAAAAAAAAAAAAAAAAAAAABAAAAAQAAAAEAAAABAAAAAAAAAAAAAAAAAAAAAAAAAAAAAAABAAAAAQAAAAAAAAAAAAAAAAAAAAAAAAAAAAAAAQAAAAAAAAAAAAAAAAAAAAAAAAAAAAAAAQAAAAAAAAABAAAAAAAAAAAAAAABAAAAAAAAAAEAAAAAAAAAAAAAAAEAAAAAAAAAAQAAAAAAAAABAAAAAAAAAAEAAAAAAAAAAAAAAAAAAAAAAAAAAQAAAAAAAAAAAAAAAAAAAAAAAAAAAAAAAQAAAAEAAAADAAAAAAAAAAEAAAABAAAAAAAAAAAAAAAAAAAAAAAAAAAAAAABAAAAAAAAAAAAAAAAAAAAAAAAAAAAAAAAAAAAAAAAAAAAAAABAAAAAAAAAAAAAAAAAAAAAAAAAAAAAAAAAAAAAQAAAAEAAAABAAAAAAAAAAAAAAAAAAAAAAAAAAEAAAAAAAAAAQAAAAAAAAAAAAAAAQAAAAAAAAABAAAAAQAAAAAAAAABAAAAAQAAAAAAAAABAAAAAAAAAAAAAAAAAAAAAQAAAAAAAAAAAAAAAQAAAAAAAAAAAAAAAAAAAAAAAAAAAAAAAAAAAAAAAAABAAAAAAAAAAEAAAAAAAAAAAAAAAAAAAAAAAAAAQAAAAAAAAABAAAAAAAAAAEAAAABAAAAAQAAAAEAAAAAAAAAAQAAAAAAAAAAAAAAAQAAAAAAAAABAAAAAQAAAAEAAAAAAAAAAQAAAAAAAAABAAAAAQAAAAEAAAAAAAAAAQAAAAAAAAABAAAAAAAAAAAAAAADAAAAAQAAAAAAAAABAAAAAQAAAAEAAAABAAAAAQAAAAAAAAAAAAAAAQAAAAAAAAAAAAAAAAAAAAEAAAAAAAAAAQAAAAAAAAABAAAAAAAAAAEAAAAAAAAAAAAAAAAAAAAAAAAAAQAAAAAAAAAAAAAAAQAAAAAAAAAAAAAAAAAAAAEAAAABAAAAAQAAAAEAAAAAAAAAAwAAAAAAAAAAAAAAAQAAAAAAAAABAAAAAQAAAAEAAAAAAAAAAAAAAAEAAAABAAAAAAAAAAAAAAABAAAAAAAAAAEAAAABAAAAAQAAAAAAAAABAAAAAQAAAAAAAAAAAAAAAAAAAAEAAAABAAAAAQAAAAAAAAABAAAAAAAAAAEAAAABAAAAAAAAAAEAAAABAAAAAQAAAAEAAAAAAAAAAAAAAAAAAAABAAAAAQAAAAEAAAAAAAAAAgAAAAAAAAAAAAAAAAAAAAAAAAABAAAAAQAAAAEAAAABAAAAAAAAAAAAAAAAAAAAAQAAAAAAAAABAAAAAAAAAAAAAAAAAAAAAwAAAAEAAAAAAAAAAAAAAAEAAAAAAAAAAAAAAAEAAAABAAAAAAAAAAEAAAAAAAAAAQAAAAEAAAABAAAAAQAAAAAAAAAAAAAAAQAAAAAAAAABAAAAAAAAAAAAAAAAAAAAAAAAAAAAAAAAAAAAAQAAAAEAAAABAAAAAAAAAAAAAAAAAAAAAAAAAAAAAAAAAAAAAQAAAAAAAAABAAAAAQAAAAEAAAABAAAAAAAAAAAAAAAAAAAAAAAAAAEAAAAAAAAAAAAAAAEAAAAAAAAAAAAAAAEAAAAAAAAAAQAAAAAAAAABAAAAAQAAAAAAAAAAAAAAAQAAAAAAAAABAAAAAQAAAAEAAAABAAAAAQAAAAAAAAABAAAAAAAAAAEAAAAAAAAAAAAAAAEAAAAAAAAAAAAAAAAAAAAAAAAAAAAAAAEAAAABAAAAAQAAAAAAAAADAAAAAAAAAAEAAAAAAAAAAQAAAAAAAAABAAAAAAAAAAAAAAAAAAAAAAAAAAEAAAAAAAAAAAAAAAAAAAABAAAAAAAAAAEAAAAAAAAAAQAAAAAAAAAAAAAAAAAAAAEAAAABAAAAAAAAAAAAAAADAAAAAAAAAAAAAAAAAAAAAQAAAAAAAAABAAAAAwAAAAEAAAADAAAAAAAAAAIAAAAAAAAABAAAAAAAAAADAAAAAAAAAAEAAAABAAAAAAAAAA==\",\"dtype\":\"int32\",\"order\":\"little\",\"shape\":[532]},\"CoinName\":[\"42 Coin\",\"404Coin\",\"EliteCoin\",\"Bitcoin\",\"Ethereum\",\"Litecoin\",\"Dash\",\"Monero\",\"Ethereum Classic\",\"ZCash\",\"Bitshares\",\"DigiByte\",\"BitcoinDark\",\"PayCoin\",\"ProsperCoin\",\"KoboCoin\",\"Spreadcoin\",\"Argentum\",\"Aurora Coin\",\"BlueCoin\",\"MyriadCoin\",\"MoonCoin\",\"ZetaCoin\",\"SexCoin\",\"Quatloo\",\"EnergyCoin\",\"QuarkCoin\",\"Riecoin\",\"Digitalcoin \",\"BitBar\",\"Catcoin\",\"CryptoBullion\",\"CannaCoin\",\"CryptCoin\",\"CasinoCoin\",\"Diamond\",\"Verge\",\"DevCoin\",\"EarthCoin\",\"E-Gulden\",\"Einsteinium\",\"Emerald\",\"Exclusive Coin\",\"FlutterCoin\",\"Franko\",\"FeatherCoin\",\"GrandCoin\",\"GlobalCoin\",\"GoldCoin\",\"HoboNickels\",\"HyperStake\",\"Infinite Coin\",\"IOCoin\",\"IXcoin\",\"KrugerCoin\",\"LuckyCoin\",\"Litebar \",\"MaxCoin\",\"MegaCoin\",\"MediterraneanCoin\",\"MintCoin\",\"MinCoin\",\"MazaCoin\",\"Nautilus Coin\",\"NavCoin\",\"NobleCoin\",\"Namecoin\",\"NyanCoin\",\"OpalCoin\",\"Orbitcoin\",\"PotCoin\",\"PhoenixCoin\",\"Reddcoin\",\"RonPaulCoin\",\"StableCoin\",\"SmartCoin\",\"SuperCoin\",\"SyncCoin\",\"SysCoin\",\"TeslaCoin\",\"TigerCoin\",\"TittieCoin\",\"TorCoin\",\"TerraCoin\",\"UnbreakableCoin\",\"Unobtanium\",\"UroCoin\",\"UnitaryStatus Dollar\",\"UltraCoin\",\"ViaCoin\",\"VeriCoin\",\"Vertcoin\",\"WorldCoin\",\"X11 Coin\",\"Crypti\",\"JouleCoin\",\"StealthCoin\",\"ZCC Coin\",\"ByteCoin\",\"DigitalNote \",\"BurstCoin\",\"StorjCoin\",\"MonaCoin\",\"Neutron\",\"FairCoin\",\"Gulden\",\"RubyCoin\",\"PesetaCoin\",\"Kore\",\"Wild Beast Coin\",\"Dnotes\",\"Flo\",\"8BIT Coin\",\"Sativa Coin\",\"ArtByte\",\"Folding Coin\",\"Ucoin\",\"Unitus\",\"CypherPunkCoin\",\"OmniCron\",\"Vtorrent\",\"GreenCoin\",\"Cryptonite\",\"MasterCoin\",\"SoonCoin\",\"1Credit\",\"IslaCoin\",\"Nexus\",\"MarsCoin \",\"Crypto\",\"Anarchists Prime\",\"Droidz\",\"BowsCoin\",\"Squall Coin\",\"Song Coin\",\"BitZeny\",\"Diggits\",\"Expanse\",\"Paycon\",\"Siacoin\",\"Emercoin\",\"EverGreenCoin\",\"MindCoin\",\"I0coin\",\"Decred\",\"Revolution VR\",\"HOdlcoin\",\"EDRCoin\",\"Hitcoin\",\"Gamecredits\",\"DubaiCoin\",\"CarpeDiemCoin\",\"PWR Coin\",\"BillaryCoin\",\"GPU Coin\",\"Adzcoin\",\"SoilCoin\",\"YoCoin\",\"SibCoin\",\"EuropeCoin\",\"ZeitCoin\",\"SwingCoin\",\"SafeExchangeCoin\",\"Nebuchadnezzar\",\"Francs\",\"BolivarCoin\",\"Ratecoin\",\"Revenu\",\"Clockcoin\",\"VIP Tokens\",\"BitSend\",\"Omni\",\"Let it Ride\",\"PutinCoin\",\"iBankCoin\",\"Frankywillcoin\",\"MudraCoin\",\"PizzaCoin\",\"Lutetium Coin\",\"Komodo\",\"GoldBlocks\",\"CarterCoin\",\"Karbo\",\"BitTokens\",\"ZayedCoin\",\"MustangCoin\",\"ZoneCoin\",\"Circuits of Value\",\"RootCoin\",\"DopeCoin\",\"BitCurrency\",\"DollarCoin\",\"Swiscoin\",\"Shilling\",\"BuzzCoin\",\"Opair\",\"PesoBit\",\"Halloween Coin\",\"ZCoin\",\"CoffeeCoin\",\"RoyalCoin\",\"GanjaCoin V2\",\"TeamUP\",\"LanaCoin\",\"Elementrem\",\"ZClassic\",\"ARK\",\"InsaneCoin\",\"KiloCoin\",\"ArtexCoin\",\"EmberCoin\",\"XenixCoin\",\"FreeCoin\",\"PLNCoin\",\"AquariusCoin\",\"Kurrent\",\"Creatio\",\"Eternity\",\"Eurocoin\",\"BitcoinFast\",\"Stakenet\",\"BitConnect Coin\",\"MoneyCoin\",\"Enigma\",\"Cannabis Industry Coin\",\"Russiacoin\",\"PandaCoin\",\"GameUnits\",\"GAKHcoin\",\"Allsafe\",\"LiteCreed\",\"OsmiumCoin\",\"Bikercoins\",\"HexxCoin\",\"Klingon Empire Darsek\",\"Internet of People\",\"KushCoin\",\"Printerium\",\"PacCoin\",\"Impeach\",\"Citadel\",\"Zilbercoin\",\"FirstCoin\",\"BeaverCoin\",\"FindCoin\",\"VaultCoin\",\"Zero\",\"OpenChat\",\"Canada eCoin\",\"Zoin\",\"RenosCoin\",\"DubaiCoin\",\"VirtacoinPlus\",\"TajCoin\",\"Impact\",\"EB3coin\",\"Atmos\",\"HappyCoin\",\"Coinonat\",\"MacronCoin\",\"Condensate\",\"Independent Money System\",\"ArgusCoin\",\"LomoCoin\",\"ProCurrency\",\"GoldReserve\",\"BenjiRolls\",\"GrowthCoin\",\"ILCoin\",\"Phreak\",\"Degas Coin\",\"HTML5 Coin\",\"Ultimate Secure Cash\",\"EquiTrader\",\"QTUM\",\"Quantum Resistant Ledger\",\"Espers\",\"Dynamic\",\"Nano\",\"ChanCoin\",\"Dinastycoin\",\"Denarius\",\"DigitalPrice\",\"Virta Unique Coin\",\"Bitcoin Planet\",\"Unify\",\"BritCoin\",\"SocialCoin\",\"ArcticCoin\",\"DAS\",\"Linda\",\"LeviarCoin\",\"DeepOnion\",\"Bitcore\",\"gCn Coin\",\"SmartCash\",\"Signatum\",\"Onix\",\"Cream\",\"Bitcoin Cash\",\"Monoeci\",\"Draftcoin\",\"Vechain\",\"Sojourn Coin\",\"Stakecoin\",\"NewYorkCoin\",\"FrazCoin\",\"Kronecoin\",\"AdCoin\",\"Linx\",\"CoinonatX\",\"Ethereum Dark\",\"Sumokoin\",\"Obsidian\",\"Cardano\",\"Regalcoin\",\"BitcoinZ\",\"TrezarCoin\",\"Elements\",\"TerraNovaCoin\",\"VIVO Coin\",\"Rupee\",\"Bitcoin Gold\",\"WomenCoin\",\"Theresa May Coin\",\"NamoCoin\",\"LUXCoin\",\"Pirl\",\"Xios\",\"Bitcloud 2.0\",\"eBoost\",\"KekCoin\",\"BlackholeCoin\",\"Infinity Economics\",\"Pura\",\"Innova\",\"Ellaism\",\"GoByte\",\"Magnet\",\"Lamden Tau\",\"Electra\",\"Bitcoin Diamond\",\"SHIELD\",\"Cash & Back Coin\",\"UltraNote\",\"BitCoal\",\"DaxxCoin\",\"Bulwark\",\"Kalkulus\",\"AC3\",\"Lethean\",\"GermanCoin\",\"LiteCoin Ultra\",\"PopularCoin\",\"PhantomX\",\"Photon\",\"Sucre\",\"SparksPay\",\"Digiwage\",\"GunCoin\",\"IrishCoin\",\"Trollcoin\",\"Litecoin Plus\",\"Monkey Project\",\"Pioneer Coin\",\"UnitedBitcoin\",\"Interzone\",\"TokenPay\",\"1717 Masonic Commemorative Token\",\"My Big Coin\",\"TurtleCoin\",\"MUNcoin\",\"Unified Society USDEX\",\"Niobio Cash\",\"ShareChain\",\"Travelflex\",\"KREDS\",\"Tokyo Coin\",\"BiblePay\",\"LitecoinCash\",\"BitFlip\",\"LottoCoin\",\"Crypto Improvement Fund\",\"Stipend\",\"Poa Network\",\"Pushi\",\"Ellerium\",\"Velox\",\"Ontology\",\"Callisto Network\",\"BitTube\",\"Poseidon\",\"Aidos Kuneen\",\"Bitspace\",\"Briacoin\",\"Ignition\",\"Bitrolium\",\"MedicCoin\",\"Alpenschillling\",\"Bitcoin Green\",\"Deviant Coin\",\"Abjcoin\",\"Semux\",\"FuturoCoin\",\"Carebit\",\"Zealium\",\"Monero Classic\",\"Proton\",\"iDealCash\",\"Jumpcoin\",\"Infinex\",\"Bitcoin Incognito\",\"KEYCO\",\"HollyWoodCoin\",\"GINcoin\",\"PlatinCoin\",\"Loki\",\"Newton Coin\",\"Swisscoin\",\"Xt3ch\",\"MassGrid\",\"TheVig\",\"PluraCoin\",\"EmaratCoin\",\"Dekado\",\"Lynx\",\"Poseidon Quark\",\"BitcoinWSpectrum\",\"Muse\",\"Motion\",\"PlusOneCoin\",\"Axe\",\"Trivechain\",\"Dystem\",\"Giant\",\"Peony Coin\",\"Absolute Coin\",\"Vitae\",\"HexCoin\",\"TPCash\",\"Webchain\",\"Ryo\",\"Urals Coin\",\"Qwertycoin\",\"ARENON\",\"EUNO\",\"MMOCoin\",\"Ketan\",\"Project Pai\",\"XDNA\",\"PAXEX\",\"Azart\",\"ThunderStake\",\"Kcash\",\"Xchange\",\"Acute Angle Cloud\",\"CrypticCoin\",\"Bettex coin\",\"Actinium\",\"Bitcoin SV\",\"BitMoney\",\"Junson Ming Chan Coin\",\"FREDEnergy\",\"HerbCoin\",\"Universal Molecule\",\"Lithium\",\"PirateCash\",\"Exosis\",\"Block-Logic\",\"Oduwa\",\"Beam\",\"Galilel\",\"Bithereum\",\"Crypto Sports\",\"Credit\",\"SLICE\",\"Dash Platinum\",\"Nasdacoin\",\"Beetle Coin\",\"Titan Coin\",\"Award\",\"BLAST\",\"Bitcoin Rhodium\",\"GlobalToken\",\"Insane Coin\",\"ALAX\",\"LiteDoge\",\"SolarCoin\",\"TruckCoin\",\"UFO Coin\",\"OrangeCoin\",\"BlakeCoin\",\"BitstarCoin\",\"NeosCoin\",\"HyperCoin\",\"PinkCoin\",\"Crypto Escudo\",\"AudioCoin\",\"IncaKoin\",\"Piggy Coin\",\"Crown Coin\",\"Genstake\",\"SmileyCoin\",\"XiaoMiCoin\",\"Groestlcoin\",\"CapriCoin\",\" ClubCoin\",\"Radium\",\"Bata\",\"Pakcoin\",\"Creditbit \",\"OKCash\",\"Lisk\",\"HiCoin\",\"WhiteCoin\",\"FriendshipCoin\",\"JoinCoin\",\"Triangles Coin\",\"Vollar\",\"EOS\",\"Reality Clash\",\"Oxycoin\",\"TigerCash\",\"Waves\",\"Particl\",\"BitTorrent\",\"Nxt\",\"ZEPHYR\",\"Gapcoin\",\"Beldex\",\"Horizen\",\"BitcoinPlus\"],\"ProofType\":[\"PoW/PoS\",\"PoW/PoS\",\"PoW/PoS\",\"PoW\",\"PoW\",\"PoW\",\"PoW/PoS\",\"PoW\",\"PoW\",\"PoW\",\"PoS\",\"PoW\",\"PoW/PoS\",\"PoS\",\"PoW\",\"PoW/PoS\",\"PoW\",\"PoW\",\"PoW/PoS\",\"PoW/PoS\",\"PoW\",\"PoW\",\"PoW\",\"PoW\",\"PoW\",\"PoW/PoS\",\"PoW\",\"PoW\",\"PoW\",\"PoW/PoS\",\"PoW\",\"PoW/PoS\",\"PoW\",\"PoW\",\"PoC\",\"PoW/PoS\",\"PoW\",\"PoW\",\"PoW\",\"PoW\",\"PoW\",\"PoW\",\"PoS\",\"PoS/PoW/PoT\",\"PoW\",\"PoW\",\"PoW\",\"PoW\",\"PoW\",\"PoW/PoS\",\"PoS\",\"PoW\",\"PoW/PoS\",\"PoW\",\"PoW\",\"PoW\",\"PoW\",\"PoW/PoS\",\"PoW\",\"PoW\",\"PoS\",\"PoW\",\"PoW/PoS\",\"PoS\",\"PoW/PoS\",\"PoW\",\"PoW\",\"PoW\",\"PoW/PoS\",\"PoW/PoS\",\"PoW/PoS\",\"PoW/PoS\",\"PoW/PoS\",\"PoW\",\"PoW\",\"PoW\",\"PoS\",\"PoW/PoS\",\"PoW\",\"PoS\",\"PoW\",\"PoS\",\"PoW/PoS\",\"PoW\",\"PoW\",\"PoW\",\"PoW\",\"PoW/PoS\",\"PoW/PoS\",\"PoW\",\"PoST\",\"PoW\",\"PoW\",\"PoW/PoS\",\"PoS\",\"PoW\",\"PoW/PoS\",\"PoW/PoS\",\"PoW\",\"PoW\",\"PoC\",\"PoS\",\"PoW\",\"PoW/PoS\",\"PoW/PoS\",\"PoW\",\"PoS\",\"PoW\",\"PoW/PoS\",\"PoW\",\"PoS\",\"PoW\",\"PoW/PoS\",\"PoW/PoS\",\"PoW\",\"PoW\",\"PoS\",\"PoW\",\"PoW\",\"PoW\",\"PoW/PoS\",\"PoW\",\"PoW\",\"PoW\",\"PoW\",\"PoW\",\"PoW/PoS\",\"PoW/nPoS\",\"PoW\",\"PoW\",\"PoW\",\"PoW/PoS\",\"PoW\",\"PoS/PoW\",\"PoW\",\"PoW\",\"PoS\",\"PoW\",\"PoW/PoS\",\"PoW\",\"PoW/PoS\",\"PoW/PoS\",\"PoW\",\"PoW\",\"PoW/PoS\",\"PoW\",\"PoW\",\"PoW/PoS\",\"PoW/PoS\",\"PoW\",\"PoW/PoS\",\"PoW\",\"PoW/PoS\",\"PoW/PoS\",\"PoS\",\"PoW\",\"PoW\",\"PoW\",\"PoW\",\"PoW/PoS\",\"PoS\",\"PoW/PoS\",\"PoC\",\"PoS\",\"PoW\",\"PoW\",\"PoW/PoS\",\"PoW/PoS\",\"PoW/PoS\",\"PoW/PoS\",\"PoW/PoS\",\"PoW\",\"PoS\",\"PoW/PoS\",\"PoW/PoS\",\"PoW/PoS\",\"PoS\",\"PoW\",\"PoS\",\"dPoW/PoW\",\"PoW/PoS\",\"PoW/PoS\",\"PoW\",\"PoW/PoS\",\"PoW\",\"PoW/PoS\",\"PoW/PoS\",\"PoW\",\"PoW/PoS\",\"PoW\",\"PoS\",\"PoW\",\"PoW/PoW\",\"PoW\",\"PoW/PoS\",\"PoS\",\"PoW/PoS\",\"PoW/PoS\",\"PoW\",\"PoS\",\"PoS\",\"PoW/PoS\",\"PoS\",\"PoW/PoS\",\"PoW\",\"PoW\",\"DPoS\",\"PoW/PoS\",\"PoW\",\"PoW\",\"PoW/PoS\",\"PoW/PoS\",\"PoS\",\"PoW/PoS\",\"PoW/PoS\",\"PoW\",\"PoS\",\"PoW/PoS\",\"PoW/PoS\",\"PoW/PoS\",\"TPoS\",\"PoW/PoS\",\"PoW/PoS\",\"PoW/PoS\",\"PoW\",\"PoW/PoS\",\"PoS\",\"PoW/PoS\",\"PoW/PoS\",\"PoS\",\"PoW/PoS\",\"PoW\",\"PoW\",\"PoW\",\"PoW/PoS\",\"PoW/PoS\",\"PoW/PoS\",\"PoW/PoS\",\"PoW\",\"PoW/PoS\",\"PoW\",\"PoS\",\"PoW/PoS \",\"PoW\",\"PoS\",\"PoW\",\"PoW\",\"PoW/PoS\",\"PoW\",\"PoW\",\"PoS\",\"PoW\",\"PoW/PoS\",\"PoW/PoS\",\"PoW/PoS\",\"PoW\",\"PoS\",\"PoW/PoS\",\"PoW\",\"PoS\",\"PoW/PoS\",\"PoW/PoS\",\"PoW/PoS\",\"PoW/PoS\",\"PoS\",\"PoW/PoS\",\"PoW\",\"PoS\",\"PoW\",\"PoS\",\"PoW/PoS\",\"PoW/PoS\",\"PoS\",\"PoW\",\"PoS\",\"PoW\",\"PoW/PoS\",\"PoW\",\"PoW\",\"PoW\",\"PoW\",\"PoW/PoS\",\"PoW\",\"PoW/PoS\",\"PoW/PoS\",\"PoW\",\"PoW/PoS\",\"PoW\",\"PoW\",\"PoW\",\"PoW/PoS\",\"PoW\",\"PoW/PoS\",\"PoW\",\"PoW\",\"PoW\",\"PoS\",\"PoW\",\"PoW/PoS\",\"PoW\",\"PoW/PoS\",\"PoS\",\"Proof of Authority\",\"PoW\",\"PoS\",\"PoW\",\"PoW\",\"PoW\",\"PoW\",\"PoW\",\"PoW/PoS\",\"PoW/PoS\",\"PoW\",\"PoS\",\"PoS\",\"PoW/PoS\",\"PoW\",\"PoW/PoS\",\"PoW\",\"PoW/PoS\",\"PoW\",\"PoS\",\"PoW\",\"PoW/PoS\",\"PoW/PoS\",\"PoW/PoS\",\"PoW/PoS\",\"PoW\",\"PoW/PoS\",\"PoW/PoS\",\"PoW\",\"PoS\",\"PoW/PoS\",\"PoS\",\"PoW\",\"PoW\",\"PoW\",\"PoW\",\"PoW/PoS\",\"DPoS\",\"PoW/PoS\",\"PoW/PoS\",\"PoW\",\"PoW/PoS\",\"PoW\",\"PoW\",\"PoW\",\"PoS\",\"PoS\",\"PoW\",\"PoW\",\"PoW/PoS\",\"PoW/PoS\",\"PoW\",\"PoW/PoS\",\"PoW\",\"PoW\",\"PoW\",\"PoS\",\"PoW\",\"PoW\",\"PoW/PoS\",\"PoW/PoS\",\"PoS\",\"PoW\",\"PoW\",\"PoW\",\"PoS\",\"PoS\",\"PoW and PoS\",\"PoW\",\"PoW\",\"PoW/PoS\",\"PoW\",\"PoW\",\"PoW\",\"PoW\",\"PoS\",\"POBh\",\"PoW + Hive\",\"PoW\",\"PoW\",\"PoW\",\"PoW/PoS\",\"PoA\",\"PoW/PoS\",\"PoW/PoS\",\"PoS\",\"PoS\",\"PoW\",\"PoW\",\"PoW\",\"PoW\",\"PoW/PoS\",\"PoW/PoS\",\"PoW/PoS\",\"PoW\",\"PoS\",\"PoW\",\"PoS\",\"PoS\",\"PoW/PoS\",\"DPoS\",\"PoW\",\"PoW/PoS\",\"PoS\",\"PoW\",\"PoS\",\"PoW/PoS\",\"PoW\",\"PoW\",\"PoS/PoW\",\"PoW\",\"PoS\",\"PoW\",\"PoW\",\"PoW\",\"PoW\",\"PoW/PoS\",\"PoS\",\"PoW\",\"PoW/PoS\",\"PoW\",\"PoW/PoS\",\"PoS\",\"HPoW\",\"PoS\",\"PoS\",\"PoS\",\"PoW\",\"PoW\",\"PoW\",\"PoW/PoS\",\"PoS\",\"PoW/PoS\",\"PoS\",\"PoW/PoS\",\"PoS\",\"PoW\",\"PoW/PoS\",\"PoW\",\"PoW\",\"PoW\",\"PoW\",\"PoS\",\"PoW/PoS\",\"PoS\",\"PoS\",\"PoW\",\"PoW/PoS\",\"PoS\",\"PoW\",\"PoW/PoS\",\"Zero-Knowledge Proof\",\"PoW\",\"DPOS\",\"PoW\",\"PoS\",\"PoW\",\"PoW\",\"Pos\",\"PoS\",\"PoW\",\"PoW/PoS\",\"PoW\",\"PoW\",\"PoS\",\"PoW\",\"PoW\",\"PoW/PoS\",\"PoW\",\"PoW/PoS\",\"PoW\",\"PoS\",\"PoW/PoS\",\"PoW\",\"PoS\",\"PoW/PoS\",\"PoW/PoS\",\"PoW/PoS\",\"PoW/PoS\",\"PoW\",\"PoW\",\"PoW\",\"PoW/PoS\",\"DPoS\",\"PoW/PoS\",\"PoW\",\"PoW/PoS\",\"PoW\",\"PoW/PoS\",\"PoW\",\"PoW/PoS\",\"PoS\",\"PoW/PoS\",\"PoW/PoS\",\"PoW\",\"PoW/PoS\",\"PoW/PoS\",\"PoW/PoS\",\"PoW\",\"PoW/PoS\",\"PoW\",\"PoW/PoS\",\"PoW\",\"PoW/PoS\",\"PoW/PoS\",\"PoS\",\"PoW\",\"PoW\",\"Proof of Trust\",\"PoW/PoS\",\"DPoS\",\"PoS\",\"PoW/PoS\",\"PoW/PoS\",\"PoW\",\"PoW/PoS\",\"PoW\",\"DPoS\",\"PoW\",\"DPoS\",\"PoS\",\"LPoS\",\"PoS\",\"DPoS\",\"PoS/LPoS\",\"DPoS\",\"PoW/PoS\",\"PoW\",\"PoW\",\"PoS\"],\"TotalCoinSupply\":{\"__ndarray__\":\"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\",\"dtype\":\"float64\",\"order\":\"little\",\"shape\":[532]},\"TotalCoinsMined\":{\"__ndarray__\":\"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\",\"dtype\":\"float64\",\"order\":\"little\",\"shape\":[532]}},\"selected\":{\"id\":\"252628\"},\"selection_policy\":{\"id\":\"252661\"}},\"id\":\"252627\",\"type\":\"ColumnDataSource\"},{\"attributes\":{},\"id\":\"252635\",\"type\":\"StringEditor\"},{\"attributes\":{},\"id\":\"252639\",\"type\":\"StringFormatter\"},{\"attributes\":{\"editor\":{\"id\":\"252655\"},\"field\":\"Class\",\"formatter\":{\"id\":\"252654\"},\"title\":\"Class\"},\"id\":\"252656\",\"type\":\"TableColumn\"},{\"attributes\":{\"source\":{\"id\":\"252627\"}},\"id\":\"252660\",\"type\":\"CDSView\"},{\"attributes\":{\"format\":\"0,0.0[00000]\"},\"id\":\"252644\",\"type\":\"NumberFormatter\"},{\"attributes\":{},\"id\":\"252628\",\"type\":\"Selection\"},{\"attributes\":{\"editor\":{\"id\":\"252640\"},\"field\":\"ProofType\",\"formatter\":{\"id\":\"252639\"},\"title\":\"ProofType\"},\"id\":\"252641\",\"type\":\"TableColumn\"},{\"attributes\":{\"editor\":{\"id\":\"252635\"},\"field\":\"Algorithm\",\"formatter\":{\"id\":\"252634\"},\"title\":\"Algorithm\"},\"id\":\"252636\",\"type\":\"TableColumn\"},{\"attributes\":{},\"id\":\"252654\",\"type\":\"NumberFormatter\"},{\"attributes\":{\"editor\":{\"id\":\"252645\"},\"field\":\"TotalCoinSupply\",\"formatter\":{\"id\":\"252644\"},\"title\":\"TotalCoinSupply\"},\"id\":\"252646\",\"type\":\"TableColumn\"},{\"attributes\":{},\"id\":\"252640\",\"type\":\"StringEditor\"},{\"attributes\":{},\"id\":\"252661\",\"type\":\"UnionRenderers\"},{\"attributes\":{\"format\":\"0,0.0[00000]\"},\"id\":\"252649\",\"type\":\"NumberFormatter\"},{\"attributes\":{},\"id\":\"252629\",\"type\":\"StringFormatter\"},{\"attributes\":{},\"id\":\"252634\",\"type\":\"StringFormatter\"},{\"attributes\":{},\"id\":\"252650\",\"type\":\"NumberEditor\"},{\"attributes\":{},\"id\":\"252645\",\"type\":\"NumberEditor\"},{\"attributes\":{},\"id\":\"252655\",\"type\":\"IntEditor\"},{\"attributes\":{\"editor\":{\"id\":\"252630\"},\"field\":\"CoinName\",\"formatter\":{\"id\":\"252629\"},\"title\":\"CoinName\"},\"id\":\"252631\",\"type\":\"TableColumn\"}],\"root_ids\":[\"252625\"]},\"title\":\"Bokeh Application\",\"version\":\"2.2.1\"}};\n",
       "  var render_items = [{\"docid\":\"e87adac9-9fd6-4320-9412-f8144d3c54dd\",\"root_ids\":[\"252625\"],\"roots\":{\"252625\":\"f3dd516b-c5c2-4e3a-b276-a4365913534a\"}}];\n",
       "  root.Bokeh.embed.embed_items_notebook(docs_json, render_items);\n",
       "  }\n",
       "if (root.Bokeh !== undefined) {\n",
       "    embed_document(root);\n",
       "  } else {\n",
       "    var attempts = 0;\n",
       "    var timer = setInterval(function(root) {\n",
       "      if (root.Bokeh !== undefined) {\n",
       "        clearInterval(timer);\n",
       "        embed_document(root);\n",
       "      } else if (document.readyState == \"complete\") {\n",
       "        attempts++;\n",
       "        if (attempts > 100) {\n",
       "          clearInterval(timer);\n",
       "          console.log(\"Bokeh: ERROR: Unable to run BokehJS code because BokehJS library is missing\");\n",
       "        }\n",
       "      }\n",
       "    }, 10, root)\n",
       "  }\n",
       "})(window);</script>"
      ],
      "text/plain": [
       ":Table   [CoinName,Algorithm,ProofType,TotalCoinSupply,TotalCoinsMined,Class]"
      ]
     },
     "execution_count": 304,
     "metadata": {
      "application/vnd.holoviews_exec.v0+json": {
       "id": "252625"
      }
     },
     "output_type": "execute_result"
    }
   ],
   "source": [
    "# Use hvplot.table to create a data table with all the current tradable cryptocurrencies. \n",
    "# The table should have the following columns: CoinName, Algorithm, ProofType, TotalCoinSupply, TotalCoinsMined, and Class.\n",
    "clustered_df.hvplot.table(\n",
    "    columns=[\"CoinName\", \"Algorithm\", \"ProofType\", \"TotalCoinSupply\", \"TotalCoinsMined\", \"Class\"],\n",
    "                             width=1000, height=600,)"
   ]
  },
  {
   "cell_type": "code",
   "execution_count": 305,
   "metadata": {},
   "outputs": [
    {
     "data": {
      "text/html": [
       "<div>\n",
       "<style scoped>\n",
       "    .dataframe tbody tr th:only-of-type {\n",
       "        vertical-align: middle;\n",
       "    }\n",
       "\n",
       "    .dataframe tbody tr th {\n",
       "        vertical-align: top;\n",
       "    }\n",
       "\n",
       "    .dataframe thead th {\n",
       "        text-align: right;\n",
       "    }\n",
       "</style>\n",
       "<table border=\"1\" class=\"dataframe\">\n",
       "  <thead>\n",
       "    <tr style=\"text-align: right;\">\n",
       "      <th></th>\n",
       "      <th>Algorithm</th>\n",
       "      <th>ProofType</th>\n",
       "      <th>TotalCoinsMined</th>\n",
       "      <th>TotalCoinSupply</th>\n",
       "      <th>PC 1</th>\n",
       "      <th>PC 2</th>\n",
       "      <th>PC 3</th>\n",
       "      <th>CoinName</th>\n",
       "      <th>Class</th>\n",
       "    </tr>\n",
       "  </thead>\n",
       "  <tbody>\n",
       "    <tr>\n",
       "      <th>BTT</th>\n",
       "      <td>TRC10</td>\n",
       "      <td>DPoS</td>\n",
       "      <td>9.899887e+11</td>\n",
       "      <td>9.900000e+11</td>\n",
       "      <td>28.110462</td>\n",
       "      <td>-1.991982</td>\n",
       "      <td>-1.520695</td>\n",
       "      <td>BitTorrent</td>\n",
       "      <td>4</td>\n",
       "    </tr>\n",
       "    <tr>\n",
       "      <th>BCN</th>\n",
       "      <td>CryptoNight</td>\n",
       "      <td>PoW</td>\n",
       "      <td>1.840668e+11</td>\n",
       "      <td>1.844674e+11</td>\n",
       "      <td>2.042428</td>\n",
       "      <td>-2.570693</td>\n",
       "      <td>0.170009</td>\n",
       "      <td>ByteCoin</td>\n",
       "      <td>1</td>\n",
       "    </tr>\n",
       "    <tr>\n",
       "      <th>GCN</th>\n",
       "      <td>Scrypt</td>\n",
       "      <td>PoW</td>\n",
       "      <td>1.630551e+11</td>\n",
       "      <td>2.000000e+11</td>\n",
       "      <td>1.639300</td>\n",
       "      <td>-1.291247</td>\n",
       "      <td>-0.087032</td>\n",
       "      <td>gCn Coin</td>\n",
       "      <td>1</td>\n",
       "    </tr>\n",
       "    <tr>\n",
       "      <th>NYC</th>\n",
       "      <td>Scrypt</td>\n",
       "      <td>PoW</td>\n",
       "      <td>1.430067e+11</td>\n",
       "      <td>0.000000e+00</td>\n",
       "      <td>1.402231</td>\n",
       "      <td>-1.265805</td>\n",
       "      <td>-0.074797</td>\n",
       "      <td>NewYorkCoin</td>\n",
       "      <td>1</td>\n",
       "    </tr>\n",
       "    <tr>\n",
       "      <th>QWC</th>\n",
       "      <td>CryptoNight Heavy</td>\n",
       "      <td>PoW</td>\n",
       "      <td>9.955311e+10</td>\n",
       "      <td>1.844700e+11</td>\n",
       "      <td>1.368873</td>\n",
       "      <td>-2.400421</td>\n",
       "      <td>0.296467</td>\n",
       "      <td>Qwertycoin</td>\n",
       "      <td>1</td>\n",
       "    </tr>\n",
       "    <tr>\n",
       "      <th>EMB</th>\n",
       "      <td>X13</td>\n",
       "      <td>PoW/PoS</td>\n",
       "      <td>9.219282e+10</td>\n",
       "      <td>8.500000e+08</td>\n",
       "      <td>0.931022</td>\n",
       "      <td>1.766997</td>\n",
       "      <td>-0.603850</td>\n",
       "      <td>EmberCoin</td>\n",
       "      <td>0</td>\n",
       "    </tr>\n",
       "    <tr>\n",
       "      <th>IFC</th>\n",
       "      <td>Scrypt</td>\n",
       "      <td>PoW</td>\n",
       "      <td>9.059575e+10</td>\n",
       "      <td>9.060000e+10</td>\n",
       "      <td>0.782475</td>\n",
       "      <td>-1.198907</td>\n",
       "      <td>-0.042843</td>\n",
       "      <td>Infinite Coin</td>\n",
       "      <td>1</td>\n",
       "    </tr>\n",
       "    <tr>\n",
       "      <th>LYNX</th>\n",
       "      <td>Scrypt</td>\n",
       "      <td>HPoW</td>\n",
       "      <td>7.787206e+10</td>\n",
       "      <td>9.200000e+10</td>\n",
       "      <td>1.517401</td>\n",
       "      <td>0.197232</td>\n",
       "      <td>-0.158161</td>\n",
       "      <td>Lynx</td>\n",
       "      <td>0</td>\n",
       "    </tr>\n",
       "    <tr>\n",
       "      <th>VET</th>\n",
       "      <td>VeChainThor Authority</td>\n",
       "      <td>Proof of Authority</td>\n",
       "      <td>5.545473e+10</td>\n",
       "      <td>8.671263e+10</td>\n",
       "      <td>5.601964</td>\n",
       "      <td>1.427897</td>\n",
       "      <td>6.661254</td>\n",
       "      <td>Vechain</td>\n",
       "      <td>3</td>\n",
       "    </tr>\n",
       "    <tr>\n",
       "      <th>TRTL</th>\n",
       "      <td>CryptoNight</td>\n",
       "      <td>PoW</td>\n",
       "      <td>5.313984e+10</td>\n",
       "      <td>1.000000e+12</td>\n",
       "      <td>0.494216</td>\n",
       "      <td>-2.403205</td>\n",
       "      <td>0.249804</td>\n",
       "      <td>TurtleCoin</td>\n",
       "      <td>1</td>\n",
       "    </tr>\n",
       "    <tr>\n",
       "      <th>WOMEN</th>\n",
       "      <td>Scrypt</td>\n",
       "      <td>PoW/PoS</td>\n",
       "      <td>4.845947e+10</td>\n",
       "      <td>2.500000e+10</td>\n",
       "      <td>0.309728</td>\n",
       "      <td>1.066083</td>\n",
       "      <td>-0.477952</td>\n",
       "      <td>WomenCoin</td>\n",
       "      <td>0</td>\n",
       "    </tr>\n",
       "    <tr>\n",
       "      <th>NCP</th>\n",
       "      <td>CryptoNight</td>\n",
       "      <td>PoW</td>\n",
       "      <td>4.129452e+10</td>\n",
       "      <td>1.840000e+11</td>\n",
       "      <td>0.354155</td>\n",
       "      <td>-2.388612</td>\n",
       "      <td>0.257068</td>\n",
       "      <td>Newton Coin</td>\n",
       "      <td>1</td>\n",
       "    </tr>\n",
       "    <tr>\n",
       "      <th>HTML5</th>\n",
       "      <td>X15</td>\n",
       "      <td>PoW/PoS</td>\n",
       "      <td>4.065902e+10</td>\n",
       "      <td>9.000000e+10</td>\n",
       "      <td>0.401441</td>\n",
       "      <td>1.911401</td>\n",
       "      <td>-0.553449</td>\n",
       "      <td>HTML5 Coin</td>\n",
       "      <td>0</td>\n",
       "    </tr>\n",
       "    <tr>\n",
       "      <th>CSC</th>\n",
       "      <td>Scrypt</td>\n",
       "      <td>PoC</td>\n",
       "      <td>4.000000e+10</td>\n",
       "      <td>4.000000e+10</td>\n",
       "      <td>0.399911</td>\n",
       "      <td>0.451300</td>\n",
       "      <td>0.213123</td>\n",
       "      <td>CasinoCoin</td>\n",
       "      <td>0</td>\n",
       "    </tr>\n",
       "    <tr>\n",
       "      <th>ZEIT</th>\n",
       "      <td>Scrypt</td>\n",
       "      <td>PoS</td>\n",
       "      <td>3.697124e+10</td>\n",
       "      <td>9.900000e+10</td>\n",
       "      <td>0.301783</td>\n",
       "      <td>0.830129</td>\n",
       "      <td>-0.181883</td>\n",
       "      <td>ZeitCoin</td>\n",
       "      <td>0</td>\n",
       "    </tr>\n",
       "  </tbody>\n",
       "</table>\n",
       "</div>"
      ],
      "text/plain": [
       "                   Algorithm           ProofType  TotalCoinsMined  \\\n",
       "BTT                    TRC10                DPoS     9.899887e+11   \n",
       "BCN              CryptoNight                 PoW     1.840668e+11   \n",
       "GCN                   Scrypt                 PoW     1.630551e+11   \n",
       "NYC                   Scrypt                 PoW     1.430067e+11   \n",
       "QWC        CryptoNight Heavy                 PoW     9.955311e+10   \n",
       "EMB                      X13             PoW/PoS     9.219282e+10   \n",
       "IFC                   Scrypt                 PoW     9.059575e+10   \n",
       "LYNX                  Scrypt                HPoW     7.787206e+10   \n",
       "VET    VeChainThor Authority  Proof of Authority     5.545473e+10   \n",
       "TRTL             CryptoNight                 PoW     5.313984e+10   \n",
       "WOMEN                 Scrypt             PoW/PoS     4.845947e+10   \n",
       "NCP              CryptoNight                 PoW     4.129452e+10   \n",
       "HTML5                    X15             PoW/PoS     4.065902e+10   \n",
       "CSC                   Scrypt                 PoC     4.000000e+10   \n",
       "ZEIT                  Scrypt                 PoS     3.697124e+10   \n",
       "\n",
       "       TotalCoinSupply       PC 1      PC 2      PC 3       CoinName  Class  \n",
       "BTT       9.900000e+11  28.110462 -1.991982 -1.520695     BitTorrent      4  \n",
       "BCN       1.844674e+11   2.042428 -2.570693  0.170009       ByteCoin      1  \n",
       "GCN       2.000000e+11   1.639300 -1.291247 -0.087032       gCn Coin      1  \n",
       "NYC       0.000000e+00   1.402231 -1.265805 -0.074797    NewYorkCoin      1  \n",
       "QWC       1.844700e+11   1.368873 -2.400421  0.296467     Qwertycoin      1  \n",
       "EMB       8.500000e+08   0.931022  1.766997 -0.603850      EmberCoin      0  \n",
       "IFC       9.060000e+10   0.782475 -1.198907 -0.042843  Infinite Coin      1  \n",
       "LYNX      9.200000e+10   1.517401  0.197232 -0.158161           Lynx      0  \n",
       "VET       8.671263e+10   5.601964  1.427897  6.661254        Vechain      3  \n",
       "TRTL      1.000000e+12   0.494216 -2.403205  0.249804     TurtleCoin      1  \n",
       "WOMEN     2.500000e+10   0.309728  1.066083 -0.477952      WomenCoin      0  \n",
       "NCP       1.840000e+11   0.354155 -2.388612  0.257068    Newton Coin      1  \n",
       "HTML5     9.000000e+10   0.401441  1.911401 -0.553449     HTML5 Coin      0  \n",
       "CSC       4.000000e+10   0.399911  0.451300  0.213123     CasinoCoin      0  \n",
       "ZEIT      9.900000e+10   0.301783  0.830129 -0.181883       ZeitCoin      0  "
      ]
     },
     "execution_count": 305,
     "metadata": {},
     "output_type": "execute_result"
    }
   ],
   "source": [
    "clustered_df.sort_values(by=['TotalCoinsMined'],ascending=False).head(15)"
   ]
  },
  {
   "cell_type": "code",
   "execution_count": 306,
   "metadata": {},
   "outputs": [
    {
     "data": {
      "text/html": [
       "<div>\n",
       "<style scoped>\n",
       "    .dataframe tbody tr th:only-of-type {\n",
       "        vertical-align: middle;\n",
       "    }\n",
       "\n",
       "    .dataframe tbody tr th {\n",
       "        vertical-align: top;\n",
       "    }\n",
       "\n",
       "    .dataframe thead th {\n",
       "        text-align: right;\n",
       "    }\n",
       "</style>\n",
       "<table border=\"1\" class=\"dataframe\">\n",
       "  <thead>\n",
       "    <tr style=\"text-align: right;\">\n",
       "      <th></th>\n",
       "      <th>Algorithm</th>\n",
       "      <th>ProofType</th>\n",
       "      <th>TotalCoinsMined</th>\n",
       "      <th>TotalCoinSupply</th>\n",
       "      <th>PC 1</th>\n",
       "      <th>PC 2</th>\n",
       "      <th>PC 3</th>\n",
       "      <th>CoinName</th>\n",
       "      <th>Class</th>\n",
       "    </tr>\n",
       "  </thead>\n",
       "  <tbody>\n",
       "    <tr>\n",
       "      <th>DFT</th>\n",
       "      <td>Scrypt</td>\n",
       "      <td>PoS</td>\n",
       "      <td>1.866330e+07</td>\n",
       "      <td>1.740589e+15</td>\n",
       "      <td>-0.156398</td>\n",
       "      <td>1.974822</td>\n",
       "      <td>-0.246377</td>\n",
       "      <td>Draftcoin</td>\n",
       "      <td>0</td>\n",
       "    </tr>\n",
       "    <tr>\n",
       "      <th>XEN</th>\n",
       "      <td>X11</td>\n",
       "      <td>PoW/PoS</td>\n",
       "      <td>3.853327e+06</td>\n",
       "      <td>3.853327e+14</td>\n",
       "      <td>-0.260592</td>\n",
       "      <td>1.538708</td>\n",
       "      <td>-0.507562</td>\n",
       "      <td>XenixCoin</td>\n",
       "      <td>0</td>\n",
       "    </tr>\n",
       "    <tr>\n",
       "      <th>ONION</th>\n",
       "      <td>X13</td>\n",
       "      <td>PoW/PoS</td>\n",
       "      <td>2.191702e+07</td>\n",
       "      <td>1.889819e+14</td>\n",
       "      <td>-0.161196</td>\n",
       "      <td>2.003718</td>\n",
       "      <td>-0.557096</td>\n",
       "      <td>DeepOnion</td>\n",
       "      <td>0</td>\n",
       "    </tr>\n",
       "    <tr>\n",
       "      <th>TRTL</th>\n",
       "      <td>CryptoNight</td>\n",
       "      <td>PoW</td>\n",
       "      <td>5.313984e+10</td>\n",
       "      <td>1.000000e+12</td>\n",
       "      <td>0.494216</td>\n",
       "      <td>-2.403205</td>\n",
       "      <td>0.249804</td>\n",
       "      <td>TurtleCoin</td>\n",
       "      <td>1</td>\n",
       "    </tr>\n",
       "    <tr>\n",
       "      <th>BTT</th>\n",
       "      <td>TRC10</td>\n",
       "      <td>DPoS</td>\n",
       "      <td>9.899887e+11</td>\n",
       "      <td>9.900000e+11</td>\n",
       "      <td>28.110462</td>\n",
       "      <td>-1.991982</td>\n",
       "      <td>-1.520695</td>\n",
       "      <td>BitTorrent</td>\n",
       "      <td>4</td>\n",
       "    </tr>\n",
       "    <tr>\n",
       "      <th>MOON</th>\n",
       "      <td>Scrypt</td>\n",
       "      <td>PoW</td>\n",
       "      <td>8.800000e+01</td>\n",
       "      <td>3.840000e+11</td>\n",
       "      <td>-0.288818</td>\n",
       "      <td>-1.083183</td>\n",
       "      <td>0.012385</td>\n",
       "      <td>MoonCoin</td>\n",
       "      <td>1</td>\n",
       "    </tr>\n",
       "    <tr>\n",
       "      <th>1337</th>\n",
       "      <td>X13</td>\n",
       "      <td>PoW/PoS</td>\n",
       "      <td>2.927942e+10</td>\n",
       "      <td>3.141593e+11</td>\n",
       "      <td>0.187072</td>\n",
       "      <td>1.847430</td>\n",
       "      <td>-0.565503</td>\n",
       "      <td>EliteCoin</td>\n",
       "      <td>0</td>\n",
       "    </tr>\n",
       "    <tr>\n",
       "      <th>GCN</th>\n",
       "      <td>Scrypt</td>\n",
       "      <td>PoW</td>\n",
       "      <td>1.630551e+11</td>\n",
       "      <td>2.000000e+11</td>\n",
       "      <td>1.639300</td>\n",
       "      <td>-1.291247</td>\n",
       "      <td>-0.087032</td>\n",
       "      <td>gCn Coin</td>\n",
       "      <td>1</td>\n",
       "    </tr>\n",
       "    <tr>\n",
       "      <th>QWC</th>\n",
       "      <td>CryptoNight Heavy</td>\n",
       "      <td>PoW</td>\n",
       "      <td>9.955311e+10</td>\n",
       "      <td>1.844700e+11</td>\n",
       "      <td>1.368873</td>\n",
       "      <td>-2.400421</td>\n",
       "      <td>0.296467</td>\n",
       "      <td>Qwertycoin</td>\n",
       "      <td>1</td>\n",
       "    </tr>\n",
       "    <tr>\n",
       "      <th>BCN</th>\n",
       "      <td>CryptoNight</td>\n",
       "      <td>PoW</td>\n",
       "      <td>1.840668e+11</td>\n",
       "      <td>1.844674e+11</td>\n",
       "      <td>2.042428</td>\n",
       "      <td>-2.570693</td>\n",
       "      <td>0.170009</td>\n",
       "      <td>ByteCoin</td>\n",
       "      <td>1</td>\n",
       "    </tr>\n",
       "    <tr>\n",
       "      <th>NCP</th>\n",
       "      <td>CryptoNight</td>\n",
       "      <td>PoW</td>\n",
       "      <td>4.129452e+10</td>\n",
       "      <td>1.840000e+11</td>\n",
       "      <td>0.354155</td>\n",
       "      <td>-2.388612</td>\n",
       "      <td>0.257068</td>\n",
       "      <td>Newton Coin</td>\n",
       "      <td>1</td>\n",
       "    </tr>\n",
       "    <tr>\n",
       "      <th>FIND</th>\n",
       "      <td>X13</td>\n",
       "      <td>PoS</td>\n",
       "      <td>1.452485e+07</td>\n",
       "      <td>1.452485e+11</td>\n",
       "      <td>-0.031078</td>\n",
       "      <td>1.633993</td>\n",
       "      <td>-0.258582</td>\n",
       "      <td>FindCoin</td>\n",
       "      <td>0</td>\n",
       "    </tr>\n",
       "    <tr>\n",
       "      <th>PAC</th>\n",
       "      <td>X11</td>\n",
       "      <td>PoW</td>\n",
       "      <td>5.369821e+08</td>\n",
       "      <td>1.000000e+11</td>\n",
       "      <td>-0.275101</td>\n",
       "      <td>-0.916196</td>\n",
       "      <td>-0.027819</td>\n",
       "      <td>PacCoin</td>\n",
       "      <td>1</td>\n",
       "    </tr>\n",
       "    <tr>\n",
       "      <th>ZEIT</th>\n",
       "      <td>Scrypt</td>\n",
       "      <td>PoS</td>\n",
       "      <td>3.697124e+10</td>\n",
       "      <td>9.900000e+10</td>\n",
       "      <td>0.301783</td>\n",
       "      <td>0.830129</td>\n",
       "      <td>-0.181883</td>\n",
       "      <td>ZeitCoin</td>\n",
       "      <td>0</td>\n",
       "    </tr>\n",
       "    <tr>\n",
       "      <th>SLR</th>\n",
       "      <td>Scrypt</td>\n",
       "      <td>PoW</td>\n",
       "      <td>5.556508e+07</td>\n",
       "      <td>9.810000e+10</td>\n",
       "      <td>-0.288157</td>\n",
       "      <td>-1.083434</td>\n",
       "      <td>0.012365</td>\n",
       "      <td>SolarCoin</td>\n",
       "      <td>1</td>\n",
       "    </tr>\n",
       "  </tbody>\n",
       "</table>\n",
       "</div>"
      ],
      "text/plain": [
       "               Algorithm ProofType  TotalCoinsMined  TotalCoinSupply  \\\n",
       "DFT               Scrypt       PoS     1.866330e+07     1.740589e+15   \n",
       "XEN                  X11   PoW/PoS     3.853327e+06     3.853327e+14   \n",
       "ONION                X13   PoW/PoS     2.191702e+07     1.889819e+14   \n",
       "TRTL         CryptoNight       PoW     5.313984e+10     1.000000e+12   \n",
       "BTT                TRC10      DPoS     9.899887e+11     9.900000e+11   \n",
       "MOON              Scrypt       PoW     8.800000e+01     3.840000e+11   \n",
       "1337                 X13   PoW/PoS     2.927942e+10     3.141593e+11   \n",
       "GCN               Scrypt       PoW     1.630551e+11     2.000000e+11   \n",
       "QWC    CryptoNight Heavy       PoW     9.955311e+10     1.844700e+11   \n",
       "BCN          CryptoNight       PoW     1.840668e+11     1.844674e+11   \n",
       "NCP          CryptoNight       PoW     4.129452e+10     1.840000e+11   \n",
       "FIND                 X13       PoS     1.452485e+07     1.452485e+11   \n",
       "PAC                  X11       PoW     5.369821e+08     1.000000e+11   \n",
       "ZEIT              Scrypt       PoS     3.697124e+10     9.900000e+10   \n",
       "SLR               Scrypt       PoW     5.556508e+07     9.810000e+10   \n",
       "\n",
       "            PC 1      PC 2      PC 3     CoinName  Class  \n",
       "DFT    -0.156398  1.974822 -0.246377    Draftcoin      0  \n",
       "XEN    -0.260592  1.538708 -0.507562    XenixCoin      0  \n",
       "ONION  -0.161196  2.003718 -0.557096    DeepOnion      0  \n",
       "TRTL    0.494216 -2.403205  0.249804   TurtleCoin      1  \n",
       "BTT    28.110462 -1.991982 -1.520695   BitTorrent      4  \n",
       "MOON   -0.288818 -1.083183  0.012385     MoonCoin      1  \n",
       "1337    0.187072  1.847430 -0.565503    EliteCoin      0  \n",
       "GCN     1.639300 -1.291247 -0.087032     gCn Coin      1  \n",
       "QWC     1.368873 -2.400421  0.296467   Qwertycoin      1  \n",
       "BCN     2.042428 -2.570693  0.170009     ByteCoin      1  \n",
       "NCP     0.354155 -2.388612  0.257068  Newton Coin      1  \n",
       "FIND   -0.031078  1.633993 -0.258582     FindCoin      0  \n",
       "PAC    -0.275101 -0.916196 -0.027819      PacCoin      1  \n",
       "ZEIT    0.301783  0.830129 -0.181883     ZeitCoin      0  \n",
       "SLR    -0.288157 -1.083434  0.012365    SolarCoin      1  "
      ]
     },
     "execution_count": 306,
     "metadata": {},
     "output_type": "execute_result"
    }
   ],
   "source": [
    "clustered_df.sort_values(by=['TotalCoinSupply'],ascending=False).head(15)"
   ]
  },
  {
   "cell_type": "code",
   "execution_count": null,
   "metadata": {},
   "outputs": [],
   "source": []
  },
  {
   "cell_type": "code",
   "execution_count": 307,
   "metadata": {},
   "outputs": [
    {
     "data": {},
     "metadata": {},
     "output_type": "display_data"
    },
    {
     "data": {
      "application/vnd.holoviews_exec.v0+json": "",
      "text/html": [
       "<div id='252677'>\n",
       "\n",
       "\n",
       "\n",
       "\n",
       "\n",
       "  <div class=\"bk-root\" id=\"8faafa0a-3c42-43d1-bcbf-1943891aa244\" data-root-id=\"252677\"></div>\n",
       "</div>\n",
       "<script type=\"application/javascript\">(function(root) {\n",
       "  function embed_document(root) {\n",
       "  var docs_json = {\"f82eece8-fae9-4d70-a507-fc57ff9d2923\":{\"roots\":{\"references\":[{\"attributes\":{\"axis_label\":\"TotalCoinSupply\",\"bounds\":\"auto\",\"formatter\":{\"id\":\"252718\"},\"major_label_orientation\":\"horizontal\",\"ticker\":{\"id\":\"252700\"}},\"id\":\"252699\",\"type\":\"LinearAxis\"},{\"attributes\":{\"fill_alpha\":{\"value\":0.1},\"fill_color\":{\"value\":\"#d62628\"},\"line_alpha\":{\"value\":0.1},\"line_color\":{\"value\":\"#d62628\"},\"size\":{\"units\":\"screen\",\"value\":5.477225575051661},\"x\":{\"field\":\"TotalCoinsMined\"},\"y\":{\"field\":\"TotalCoinSupply\"}},\"id\":\"252782\",\"type\":\"Scatter\"},{\"attributes\":{\"label\":{\"value\":\"0\"},\"renderers\":[{\"id\":\"252726\"}]},\"id\":\"252737\",\"type\":\"LegendItem\"},{\"attributes\":{},\"id\":\"252753\",\"type\":\"UnionRenderers\"},{\"attributes\":{\"align\":null,\"below\":[{\"id\":\"252695\"}],\"center\":[{\"id\":\"252698\"},{\"id\":\"252702\"}],\"left\":[{\"id\":\"252699\"}],\"margin\":null,\"min_border_bottom\":10,\"min_border_left\":10,\"min_border_right\":10,\"min_border_top\":10,\"plot_width\":1200,\"renderers\":[{\"id\":\"252726\"},{\"id\":\"252744\"},{\"id\":\"252763\"},{\"id\":\"252784\"},{\"id\":\"252807\"}],\"right\":[{\"id\":\"252736\"}],\"sizing_mode\":\"fixed\",\"title\":{\"id\":\"252687\"},\"toolbar\":{\"id\":\"252709\"},\"x_range\":{\"id\":\"252679\"},\"x_scale\":{\"id\":\"252691\"},\"y_range\":{\"id\":\"252680\"},\"y_scale\":{\"id\":\"252693\"}},\"id\":\"252686\",\"subtype\":\"Figure\",\"type\":\"Plot\"},{\"attributes\":{\"active_drag\":\"auto\",\"active_inspect\":\"auto\",\"active_multi\":null,\"active_scroll\":\"auto\",\"active_tap\":\"auto\",\"tools\":[{\"id\":\"252681\"},{\"id\":\"252703\"},{\"id\":\"252704\"},{\"id\":\"252705\"},{\"id\":\"252706\"},{\"id\":\"252707\"}]},\"id\":\"252709\",\"type\":\"Toolbar\"},{\"attributes\":{\"source\":{\"id\":\"252720\"}},\"id\":\"252727\",\"type\":\"CDSView\"},{\"attributes\":{\"overlay\":{\"id\":\"252708\"}},\"id\":\"252706\",\"type\":\"BoxZoomTool\"},{\"attributes\":{\"margin\":[5,5,5,5],\"name\":\"HSpacer141604\",\"sizing_mode\":\"stretch_width\"},\"id\":\"252970\",\"type\":\"Spacer\"},{\"attributes\":{\"label\":{\"value\":\"1\"},\"renderers\":[{\"id\":\"252744\"}]},\"id\":\"252756\",\"type\":\"LegendItem\"},{\"attributes\":{\"data_source\":{\"id\":\"252738\"},\"glyph\":{\"id\":\"252741\"},\"hover_glyph\":null,\"muted_glyph\":{\"id\":\"252743\"},\"nonselection_glyph\":{\"id\":\"252742\"},\"selection_glyph\":null,\"view\":{\"id\":\"252745\"}},\"id\":\"252744\",\"type\":\"GlyphRenderer\"},{\"attributes\":{\"click_policy\":\"mute\",\"items\":[{\"id\":\"252737\"},{\"id\":\"252756\"},{\"id\":\"252777\"},{\"id\":\"252800\"},{\"id\":\"252825\"}],\"location\":[0,0],\"title\":\"Class\"},\"id\":\"252736\",\"type\":\"Legend\"},{\"attributes\":{\"text\":\"Total Coins Supplied Vs Mined (All)\",\"text_color\":{\"value\":\"black\"},\"text_font_size\":{\"value\":\"12pt\"}},\"id\":\"252687\",\"type\":\"Title\"},{\"attributes\":{\"fill_alpha\":{\"value\":0.2},\"fill_color\":{\"value\":\"#2ba02b\"},\"line_alpha\":{\"value\":0.2},\"line_color\":{\"value\":\"#2ba02b\"},\"size\":{\"units\":\"screen\",\"value\":5.477225575051661},\"x\":{\"field\":\"TotalCoinsMined\"},\"y\":{\"field\":\"TotalCoinSupply\"}},\"id\":\"252762\",\"type\":\"Scatter\"},{\"attributes\":{},\"id\":\"252822\",\"type\":\"UnionRenderers\"},{\"attributes\":{\"fill_color\":{\"value\":\"#d62628\"},\"line_color\":{\"value\":\"#d62628\"},\"size\":{\"units\":\"screen\",\"value\":5.477225575051661},\"x\":{\"field\":\"TotalCoinsMined\"},\"y\":{\"field\":\"TotalCoinSupply\"}},\"id\":\"252781\",\"type\":\"Scatter\"},{\"attributes\":{},\"id\":\"252705\",\"type\":\"WheelZoomTool\"},{\"attributes\":{\"data_source\":{\"id\":\"252720\"},\"glyph\":{\"id\":\"252723\"},\"hover_glyph\":null,\"muted_glyph\":{\"id\":\"252725\"},\"nonselection_glyph\":{\"id\":\"252724\"},\"selection_glyph\":null,\"view\":{\"id\":\"252727\"}},\"id\":\"252726\",\"type\":\"GlyphRenderer\"},{\"attributes\":{\"fill_color\":{\"value\":\"#9367bc\"},\"line_color\":{\"value\":\"#9367bc\"},\"size\":{\"units\":\"screen\",\"value\":5.477225575051661},\"x\":{\"field\":\"TotalCoinsMined\"},\"y\":{\"field\":\"TotalCoinSupply\"}},\"id\":\"252804\",\"type\":\"Scatter\"},{\"attributes\":{\"callback\":null,\"renderers\":[{\"id\":\"252726\"},{\"id\":\"252744\"},{\"id\":\"252763\"},{\"id\":\"252784\"},{\"id\":\"252807\"}],\"tags\":[\"hv_created\"],\"tooltips\":[[\"Class\",\"@{Class}\"],[\"TotalCoinsMined\",\"@{TotalCoinsMined}\"],[\"TotalCoinSupply\",\"@{TotalCoinSupply}\"],[\"CoinName\",\"@{CoinName}\"]]},\"id\":\"252681\",\"type\":\"HoverTool\"},{\"attributes\":{},\"id\":\"252721\",\"type\":\"Selection\"},{\"attributes\":{\"fill_alpha\":{\"value\":0.2},\"fill_color\":{\"value\":\"#1f77b3\"},\"line_alpha\":{\"value\":0.2},\"line_color\":{\"value\":\"#1f77b3\"},\"size\":{\"units\":\"screen\",\"value\":5.477225575051661},\"x\":{\"field\":\"TotalCoinsMined\"},\"y\":{\"field\":\"TotalCoinSupply\"}},\"id\":\"252725\",\"type\":\"Scatter\"},{\"attributes\":{\"fill_alpha\":{\"value\":0.2},\"fill_color\":{\"value\":\"#ff7e0e\"},\"line_alpha\":{\"value\":0.2},\"line_color\":{\"value\":\"#ff7e0e\"},\"size\":{\"units\":\"screen\",\"value\":5.477225575051661},\"x\":{\"field\":\"TotalCoinsMined\"},\"y\":{\"field\":\"TotalCoinSupply\"}},\"id\":\"252743\",\"type\":\"Scatter\"},{\"attributes\":{\"fill_color\":{\"value\":\"#2ba02b\"},\"line_color\":{\"value\":\"#2ba02b\"},\"size\":{\"units\":\"screen\",\"value\":5.477225575051661},\"x\":{\"field\":\"TotalCoinsMined\"},\"y\":{\"field\":\"TotalCoinSupply\"}},\"id\":\"252760\",\"type\":\"Scatter\"},{\"attributes\":{\"data\":{\"Class\":[2,2],\"CoinName\":[\"Poa Network\",\"Waves\"],\"TotalCoinSupply\":{\"__ndarray__\":\"AAAAAH4YrkEAAAAAhNeXQQ==\",\"dtype\":\"float64\",\"order\":\"little\",\"shape\":[2]},\"TotalCoinsMined\":{\"__ndarray__\":\"AAAAfjRgqEEAAAAAhNeXQQ==\",\"dtype\":\"float64\",\"order\":\"little\",\"shape\":[2]}},\"selected\":{\"id\":\"252758\"},\"selection_policy\":{\"id\":\"252774\"}},\"id\":\"252757\",\"type\":\"ColumnDataSource\"},{\"attributes\":{\"data\":{\"Class\":[4],\"CoinName\":[\"BitTorrent\"],\"TotalCoinSupply\":{\"__ndarray__\":\"AACAJRPQbEI=\",\"dtype\":\"float64\",\"order\":\"little\",\"shape\":[1]},\"TotalCoinsMined\":{\"__ndarray__\":\"xfR7nv3PbEI=\",\"dtype\":\"float64\",\"order\":\"little\",\"shape\":[1]}},\"selected\":{\"id\":\"252802\"},\"selection_policy\":{\"id\":\"252822\"}},\"id\":\"252801\",\"type\":\"ColumnDataSource\"},{\"attributes\":{\"data\":{\"Class\":[0,0,0,0,0,0,0,0,0,0,0,0,0,0,0,0,0,0,0,0,0,0,0,0,0,0,0,0,0,0,0,0,0,0,0,0,0,0,0,0,0,0,0,0,0,0,0,0,0,0,0,0,0,0,0,0,0,0,0,0,0,0,0,0,0,0,0,0,0,0,0,0,0,0,0,0,0,0,0,0,0,0,0,0,0,0,0,0,0,0,0,0,0,0,0,0,0,0,0,0,0,0,0,0,0,0,0,0,0,0,0,0,0,0,0,0,0,0,0,0,0,0,0,0,0,0,0,0,0,0,0,0,0,0,0,0,0,0,0,0,0,0,0,0,0,0,0,0,0,0,0,0,0,0,0,0,0,0,0,0,0,0,0,0,0,0,0,0,0,0,0,0,0,0,0,0,0,0,0,0,0,0,0,0,0,0,0,0,0,0,0,0,0,0,0,0,0,0,0,0,0,0,0,0,0,0,0,0,0,0,0,0,0,0,0,0,0,0,0,0,0,0,0,0,0,0,0,0,0,0,0,0,0,0,0,0,0,0,0,0,0,0,0,0,0,0,0,0,0,0,0,0,0,0,0,0,0,0,0,0,0,0,0,0,0,0,0,0,0,0,0,0,0,0,0,0,0,0,0,0],\"CoinName\":[\"42 Coin\",\"404Coin\",\"EliteCoin\",\"Dash\",\"Bitshares\",\"BitcoinDark\",\"PayCoin\",\"KoboCoin\",\"Aurora Coin\",\"BlueCoin\",\"EnergyCoin\",\"BitBar\",\"CryptoBullion\",\"CasinoCoin\",\"Diamond\",\"Exclusive Coin\",\"FlutterCoin\",\"HoboNickels\",\"HyperStake\",\"IOCoin\",\"MaxCoin\",\"MintCoin\",\"MazaCoin\",\"Nautilus Coin\",\"NavCoin\",\"OpalCoin\",\"Orbitcoin\",\"PotCoin\",\"PhoenixCoin\",\"Reddcoin\",\"SuperCoin\",\"SyncCoin\",\"TeslaCoin\",\"TittieCoin\",\"TorCoin\",\"UnitaryStatus Dollar\",\"UltraCoin\",\"VeriCoin\",\"X11 Coin\",\"Crypti\",\"StealthCoin\",\"ZCC Coin\",\"BurstCoin\",\"StorjCoin\",\"Neutron\",\"FairCoin\",\"RubyCoin\",\"Kore\",\"Dnotes\",\"8BIT Coin\",\"Sativa Coin\",\"Ucoin\",\"Vtorrent\",\"IslaCoin\",\"Nexus\",\"Droidz\",\"Squall Coin\",\"Diggits\",\"Paycon\",\"Emercoin\",\"EverGreenCoin\",\"Decred\",\"EDRCoin\",\"Hitcoin\",\"DubaiCoin\",\"PWR Coin\",\"BillaryCoin\",\"GPU Coin\",\"EuropeCoin\",\"ZeitCoin\",\"SwingCoin\",\"SafeExchangeCoin\",\"Nebuchadnezzar\",\"Ratecoin\",\"Revenu\",\"Clockcoin\",\"VIP Tokens\",\"BitSend\",\"Let it Ride\",\"PutinCoin\",\"iBankCoin\",\"Frankywillcoin\",\"MudraCoin\",\"Lutetium Coin\",\"GoldBlocks\",\"CarterCoin\",\"BitTokens\",\"MustangCoin\",\"ZoneCoin\",\"RootCoin\",\"BitCurrency\",\"Swiscoin\",\"BuzzCoin\",\"Opair\",\"PesoBit\",\"Halloween Coin\",\"CoffeeCoin\",\"RoyalCoin\",\"GanjaCoin V2\",\"TeamUP\",\"LanaCoin\",\"InsaneCoin\",\"EmberCoin\",\"XenixCoin\",\"FreeCoin\",\"PLNCoin\",\"AquariusCoin\",\"Creatio\",\"Eternity\",\"Eurocoin\",\"BitcoinFast\",\"Stakenet\",\"BitConnect Coin\",\"MoneyCoin\",\"Enigma\",\"Russiacoin\",\"PandaCoin\",\"GameUnits\",\"GAKHcoin\",\"Allsafe\",\"LiteCreed\",\"Klingon Empire Darsek\",\"Internet of People\",\"KushCoin\",\"Printerium\",\"Impeach\",\"Zilbercoin\",\"FirstCoin\",\"FindCoin\",\"OpenChat\",\"RenosCoin\",\"VirtacoinPlus\",\"TajCoin\",\"Impact\",\"Atmos\",\"HappyCoin\",\"MacronCoin\",\"Condensate\",\"Independent Money System\",\"ArgusCoin\",\"LomoCoin\",\"ProCurrency\",\"GoldReserve\",\"GrowthCoin\",\"Phreak\",\"Degas Coin\",\"HTML5 Coin\",\"Ultimate Secure Cash\",\"QTUM\",\"Espers\",\"Denarius\",\"Virta Unique Coin\",\"Bitcoin Planet\",\"BritCoin\",\"Linda\",\"DeepOnion\",\"Signatum\",\"Cream\",\"Monoeci\",\"Draftcoin\",\"Stakecoin\",\"CoinonatX\",\"Ethereum Dark\",\"Obsidian\",\"Cardano\",\"Regalcoin\",\"TrezarCoin\",\"TerraNovaCoin\",\"Rupee\",\"WomenCoin\",\"Theresa May Coin\",\"NamoCoin\",\"LUXCoin\",\"Xios\",\"Bitcloud 2.0\",\"KekCoin\",\"BlackholeCoin\",\"Infinity Economics\",\"Magnet\",\"Electra\",\"Bitcoin Diamond\",\"Cash & Back Coin\",\"Bulwark\",\"Kalkulus\",\"GermanCoin\",\"LiteCoin Ultra\",\"PhantomX\",\"Digiwage\",\"Trollcoin\",\"Litecoin Plus\",\"Monkey Project\",\"TokenPay\",\"My Big Coin\",\"Unified Society USDEX\",\"Tokyo Coin\",\"BiblePay\",\"LitecoinCash\",\"Stipend\",\"Pushi\",\"Ellerium\",\"Velox\",\"Ontology\",\"Bitspace\",\"Briacoin\",\"Ignition\",\"MedicCoin\",\"Bitcoin Green\",\"Deviant Coin\",\"Abjcoin\",\"Carebit\",\"Zealium\",\"Proton\",\"iDealCash\",\"Bitcoin Incognito\",\"HollyWoodCoin\",\"Swisscoin\",\"Xt3ch\",\"TheVig\",\"EmaratCoin\",\"Dekado\",\"Lynx\",\"Poseidon Quark\",\"BitcoinWSpectrum\",\"Muse\",\"Trivechain\",\"Dystem\",\"Giant\",\"Peony Coin\",\"Absolute Coin\",\"Vitae\",\"TPCash\",\"ARENON\",\"EUNO\",\"MMOCoin\",\"Ketan\",\"XDNA\",\"PAXEX\",\"ThunderStake\",\"Kcash\",\"Acute Angle Cloud\",\"Bettex coin\",\"BitMoney\",\"Junson Ming Chan Coin\",\"HerbCoin\",\"Oduwa\",\"Galilel\",\"Crypto Sports\",\"Credit\",\"Dash Platinum\",\"Nasdacoin\",\"Beetle Coin\",\"Titan Coin\",\"Award\",\"Insane Coin\",\"LiteDoge\",\"TruckCoin\",\"OrangeCoin\",\"BitstarCoin\",\"NeosCoin\",\"HyperCoin\",\"PinkCoin\",\"AudioCoin\",\"IncaKoin\",\"Piggy Coin\",\"Genstake\",\"XiaoMiCoin\",\"CapriCoin\",\" ClubCoin\",\"Radium\",\"Creditbit \",\"OKCash\",\"HiCoin\",\"WhiteCoin\",\"FriendshipCoin\",\"Triangles Coin\",\"TigerCash\",\"Particl\",\"Nxt\",\"Gapcoin\",\"BitcoinPlus\"],\"TotalCoinSupply\":{\"__ndarray__\":\"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\",\"dtype\":\"float64\",\"order\":\"little\",\"shape\":[280]},\"TotalCoinsMined\":{\"__ndarray__\":\"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\",\"dtype\":\"float64\",\"order\":\"little\",\"shape\":[280]}},\"selected\":{\"id\":\"252721\"},\"selection_policy\":{\"id\":\"252733\"}},\"id\":\"252720\",\"type\":\"ColumnDataSource\"},{\"attributes\":{},\"id\":\"252758\",\"type\":\"Selection\"},{\"attributes\":{},\"id\":\"252802\",\"type\":\"Selection\"},{\"attributes\":{\"source\":{\"id\":\"252801\"}},\"id\":\"252808\",\"type\":\"CDSView\"},{\"attributes\":{},\"id\":\"252704\",\"type\":\"PanTool\"},{\"attributes\":{\"data_source\":{\"id\":\"252801\"},\"glyph\":{\"id\":\"252804\"},\"hover_glyph\":null,\"muted_glyph\":{\"id\":\"252806\"},\"nonselection_glyph\":{\"id\":\"252805\"},\"selection_glyph\":null,\"view\":{\"id\":\"252808\"}},\"id\":\"252807\",\"type\":\"GlyphRenderer\"},{\"attributes\":{\"data_source\":{\"id\":\"252778\"},\"glyph\":{\"id\":\"252781\"},\"hover_glyph\":null,\"muted_glyph\":{\"id\":\"252783\"},\"nonselection_glyph\":{\"id\":\"252782\"},\"selection_glyph\":null,\"view\":{\"id\":\"252785\"}},\"id\":\"252784\",\"type\":\"GlyphRenderer\"},{\"attributes\":{\"fill_color\":{\"value\":\"#ff7e0e\"},\"line_color\":{\"value\":\"#ff7e0e\"},\"size\":{\"units\":\"screen\",\"value\":5.477225575051661},\"x\":{\"field\":\"TotalCoinsMined\"},\"y\":{\"field\":\"TotalCoinSupply\"}},\"id\":\"252741\",\"type\":\"Scatter\"},{\"attributes\":{\"children\":[{\"id\":\"252678\"},{\"id\":\"252686\"},{\"id\":\"252970\"}],\"margin\":[0,0,0,0],\"name\":\"Row141599\",\"tags\":[\"embedded\"]},\"id\":\"252677\",\"type\":\"Row\"},{\"attributes\":{},\"id\":\"252703\",\"type\":\"SaveTool\"},{\"attributes\":{},\"id\":\"252733\",\"type\":\"UnionRenderers\"},{\"attributes\":{\"fill_alpha\":{\"value\":0.1},\"fill_color\":{\"value\":\"#1f77b3\"},\"line_alpha\":{\"value\":0.1},\"line_color\":{\"value\":\"#1f77b3\"},\"size\":{\"units\":\"screen\",\"value\":5.477225575051661},\"x\":{\"field\":\"TotalCoinsMined\"},\"y\":{\"field\":\"TotalCoinSupply\"}},\"id\":\"252724\",\"type\":\"Scatter\"},{\"attributes\":{\"fill_alpha\":{\"value\":0.1},\"fill_color\":{\"value\":\"#ff7e0e\"},\"line_alpha\":{\"value\":0.1},\"line_color\":{\"value\":\"#ff7e0e\"},\"size\":{\"units\":\"screen\",\"value\":5.477225575051661},\"x\":{\"field\":\"TotalCoinsMined\"},\"y\":{\"field\":\"TotalCoinSupply\"}},\"id\":\"252742\",\"type\":\"Scatter\"},{\"attributes\":{\"margin\":[5,5,5,5],\"name\":\"HSpacer141603\",\"sizing_mode\":\"stretch_width\"},\"id\":\"252678\",\"type\":\"Spacer\"},{\"attributes\":{\"data\":{\"Class\":[1,1,1,1,1,1,1,1,1,1,1,1,1,1,1,1,1,1,1,1,1,1,1,1,1,1,1,1,1,1,1,1,1,1,1,1,1,1,1,1,1,1,1,1,1,1,1,1,1,1,1,1,1,1,1,1,1,1,1,1,1,1,1,1,1,1,1,1,1,1,1,1,1,1,1,1,1,1,1,1,1,1,1,1,1,1,1,1,1,1,1,1,1,1,1,1,1,1,1,1,1,1,1,1,1,1,1,1,1,1,1,1,1,1,1,1,1,1,1,1,1,1,1,1,1,1,1,1,1,1,1,1,1,1,1,1,1,1,1,1,1,1,1,1,1,1,1,1,1,1,1,1,1,1,1,1,1,1,1,1,1,1,1,1,1,1,1,1,1,1,1,1,1,1,1,1,1,1,1,1,1,1,1,1,1,1,1,1,1,1,1,1,1,1,1,1,1,1,1,1,1,1,1,1,1,1,1,1,1,1,1,1,1,1,1,1,1,1,1,1,1,1,1,1,1,1,1,1,1,1,1,1,1,1,1,1,1,1,1,1],\"CoinName\":[\"Bitcoin\",\"Ethereum\",\"Litecoin\",\"Monero\",\"Ethereum Classic\",\"ZCash\",\"DigiByte\",\"ProsperCoin\",\"Spreadcoin\",\"Argentum\",\"MyriadCoin\",\"MoonCoin\",\"ZetaCoin\",\"SexCoin\",\"Quatloo\",\"QuarkCoin\",\"Riecoin\",\"Digitalcoin \",\"Catcoin\",\"CannaCoin\",\"CryptCoin\",\"Verge\",\"DevCoin\",\"EarthCoin\",\"E-Gulden\",\"Einsteinium\",\"Emerald\",\"Franko\",\"FeatherCoin\",\"GrandCoin\",\"GlobalCoin\",\"GoldCoin\",\"Infinite Coin\",\"IXcoin\",\"KrugerCoin\",\"LuckyCoin\",\"Litebar \",\"MegaCoin\",\"MediterraneanCoin\",\"MinCoin\",\"NobleCoin\",\"Namecoin\",\"NyanCoin\",\"RonPaulCoin\",\"StableCoin\",\"SmartCoin\",\"SysCoin\",\"TigerCoin\",\"TerraCoin\",\"UnbreakableCoin\",\"Unobtanium\",\"UroCoin\",\"ViaCoin\",\"Vertcoin\",\"WorldCoin\",\"JouleCoin\",\"ByteCoin\",\"DigitalNote \",\"MonaCoin\",\"Gulden\",\"PesetaCoin\",\"Wild Beast Coin\",\"Flo\",\"ArtByte\",\"Folding Coin\",\"Unitus\",\"CypherPunkCoin\",\"OmniCron\",\"GreenCoin\",\"Cryptonite\",\"MasterCoin\",\"SoonCoin\",\"1Credit\",\"MarsCoin \",\"Crypto\",\"Anarchists Prime\",\"BowsCoin\",\"Song Coin\",\"BitZeny\",\"Expanse\",\"Siacoin\",\"MindCoin\",\"I0coin\",\"Revolution VR\",\"HOdlcoin\",\"Gamecredits\",\"CarpeDiemCoin\",\"Adzcoin\",\"SoilCoin\",\"YoCoin\",\"SibCoin\",\"Francs\",\"BolivarCoin\",\"Omni\",\"PizzaCoin\",\"Komodo\",\"Karbo\",\"ZayedCoin\",\"Circuits of Value\",\"DopeCoin\",\"DollarCoin\",\"Shilling\",\"ZCoin\",\"Elementrem\",\"ZClassic\",\"KiloCoin\",\"ArtexCoin\",\"Kurrent\",\"Cannabis Industry Coin\",\"OsmiumCoin\",\"Bikercoins\",\"HexxCoin\",\"PacCoin\",\"Citadel\",\"BeaverCoin\",\"VaultCoin\",\"Zero\",\"Canada eCoin\",\"Zoin\",\"DubaiCoin\",\"EB3coin\",\"Coinonat\",\"BenjiRolls\",\"ILCoin\",\"EquiTrader\",\"Quantum Resistant Ledger\",\"Dynamic\",\"Nano\",\"ChanCoin\",\"Dinastycoin\",\"DigitalPrice\",\"Unify\",\"SocialCoin\",\"ArcticCoin\",\"DAS\",\"LeviarCoin\",\"Bitcore\",\"gCn Coin\",\"SmartCash\",\"Onix\",\"Bitcoin Cash\",\"Sojourn Coin\",\"NewYorkCoin\",\"FrazCoin\",\"Kronecoin\",\"AdCoin\",\"Linx\",\"Sumokoin\",\"BitcoinZ\",\"Elements\",\"VIVO Coin\",\"Bitcoin Gold\",\"Pirl\",\"eBoost\",\"Pura\",\"Innova\",\"Ellaism\",\"GoByte\",\"SHIELD\",\"UltraNote\",\"BitCoal\",\"DaxxCoin\",\"AC3\",\"Lethean\",\"PopularCoin\",\"Photon\",\"Sucre\",\"SparksPay\",\"GunCoin\",\"IrishCoin\",\"Pioneer Coin\",\"UnitedBitcoin\",\"Interzone\",\"1717 Masonic Commemorative Token\",\"TurtleCoin\",\"MUNcoin\",\"Niobio Cash\",\"ShareChain\",\"Travelflex\",\"KREDS\",\"BitFlip\",\"LottoCoin\",\"Crypto Improvement Fund\",\"Callisto Network\",\"BitTube\",\"Poseidon\",\"Aidos Kuneen\",\"Bitrolium\",\"Alpenschillling\",\"FuturoCoin\",\"Monero Classic\",\"Jumpcoin\",\"Infinex\",\"KEYCO\",\"GINcoin\",\"PlatinCoin\",\"Loki\",\"Newton Coin\",\"MassGrid\",\"PluraCoin\",\"Motion\",\"PlusOneCoin\",\"Axe\",\"HexCoin\",\"Webchain\",\"Ryo\",\"Urals Coin\",\"Qwertycoin\",\"Project Pai\",\"Azart\",\"Xchange\",\"CrypticCoin\",\"Actinium\",\"Bitcoin SV\",\"FREDEnergy\",\"Universal Molecule\",\"Lithium\",\"PirateCash\",\"Exosis\",\"Block-Logic\",\"Beam\",\"Bithereum\",\"SLICE\",\"BLAST\",\"Bitcoin Rhodium\",\"GlobalToken\",\"SolarCoin\",\"UFO Coin\",\"BlakeCoin\",\"Crypto Escudo\",\"Crown Coin\",\"SmileyCoin\",\"Groestlcoin\",\"Bata\",\"Pakcoin\",\"JoinCoin\",\"Vollar\",\"Reality Clash\",\"Beldex\",\"Horizen\"],\"TotalCoinSupply\":{\"__ndarray__\":\"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\",\"dtype\":\"float64\",\"order\":\"little\",\"shape\":[240]},\"TotalCoinsMined\":{\"__ndarray__\":\"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\",\"dtype\":\"float64\",\"order\":\"little\",\"shape\":[240]}},\"selected\":{\"id\":\"252739\"},\"selection_policy\":{\"id\":\"252753\"}},\"id\":\"252738\",\"type\":\"ColumnDataSource\"},{\"attributes\":{\"data\":{\"Class\":[3,3,3,3,3,3,3,3,3],\"CoinName\":[\"ARK\",\"Vechain\",\"Lamden Tau\",\"Semux\",\"ALAX\",\"Lisk\",\"EOS\",\"Oxycoin\",\"ZEPHYR\"],\"TotalCoinSupply\":{\"__ndarray__\":\"AAAAAGXNnUEAAGLMeTA0QgAAAABlzb1BAAAAAITXl0EAAAAAZc3NQQAAAIBSEKNBAAAAAAAAAAAAAAAAAAAAAAAAAABlzd1B\",\"dtype\":\"float64\",\"order\":\"little\",\"shape\":[9]},\"TotalCoinsMined\":{\"__ndarray__\":\"AAAAkCHMmUEAAKAzuNIpQmFvfsfpK7FBAAAAACvJMkEAAAAAZc3NQQAAALD1nJxB2T2JBSNqzkEUrtdyjLnQQfOO0/5kzd1B\",\"dtype\":\"float64\",\"order\":\"little\",\"shape\":[9]}},\"selected\":{\"id\":\"252779\"},\"selection_policy\":{\"id\":\"252797\"}},\"id\":\"252778\",\"type\":\"ColumnDataSource\"},{\"attributes\":{\"label\":{\"value\":\"2\"},\"renderers\":[{\"id\":\"252763\"}]},\"id\":\"252777\",\"type\":\"LegendItem\"},{\"attributes\":{},\"id\":\"252774\",\"type\":\"UnionRenderers\"},{\"attributes\":{\"fill_color\":{\"value\":\"#1f77b3\"},\"line_color\":{\"value\":\"#1f77b3\"},\"size\":{\"units\":\"screen\",\"value\":5.477225575051661},\"x\":{\"field\":\"TotalCoinsMined\"},\"y\":{\"field\":\"TotalCoinSupply\"}},\"id\":\"252723\",\"type\":\"Scatter\"},{\"attributes\":{\"axis\":{\"id\":\"252699\"},\"dimension\":1,\"grid_line_color\":null,\"ticker\":null},\"id\":\"252702\",\"type\":\"Grid\"},{\"attributes\":{\"end\":1940589000000000.0,\"reset_end\":1940589000000000.0,\"reset_start\":0,\"tags\":[[[\"TotalCoinSupply\",\"TotalCoinSupply\",null]]]},\"id\":\"252680\",\"type\":\"Range1d\"},{\"attributes\":{\"end\":1000000000000.0,\"reset_end\":1000000000000.0,\"reset_start\":0,\"tags\":[[[\"TotalCoinsMined\",\"TotalCoinsMined\",null]]]},\"id\":\"252679\",\"type\":\"Range1d\"},{\"attributes\":{\"fill_alpha\":{\"value\":0.2},\"fill_color\":{\"value\":\"#d62628\"},\"line_alpha\":{\"value\":0.2},\"line_color\":{\"value\":\"#d62628\"},\"size\":{\"units\":\"screen\",\"value\":5.477225575051661},\"x\":{\"field\":\"TotalCoinsMined\"},\"y\":{\"field\":\"TotalCoinSupply\"}},\"id\":\"252783\",\"type\":\"Scatter\"},{\"attributes\":{},\"id\":\"252716\",\"type\":\"BasicTickFormatter\"},{\"attributes\":{\"fill_alpha\":{\"value\":0.1},\"fill_color\":{\"value\":\"#2ba02b\"},\"line_alpha\":{\"value\":0.1},\"line_color\":{\"value\":\"#2ba02b\"},\"size\":{\"units\":\"screen\",\"value\":5.477225575051661},\"x\":{\"field\":\"TotalCoinsMined\"},\"y\":{\"field\":\"TotalCoinSupply\"}},\"id\":\"252761\",\"type\":\"Scatter\"},{\"attributes\":{},\"id\":\"252797\",\"type\":\"UnionRenderers\"},{\"attributes\":{},\"id\":\"252693\",\"type\":\"LinearScale\"},{\"attributes\":{\"fill_alpha\":{\"value\":0.2},\"fill_color\":{\"value\":\"#9367bc\"},\"line_alpha\":{\"value\":0.2},\"line_color\":{\"value\":\"#9367bc\"},\"size\":{\"units\":\"screen\",\"value\":5.477225575051661},\"x\":{\"field\":\"TotalCoinsMined\"},\"y\":{\"field\":\"TotalCoinSupply\"}},\"id\":\"252806\",\"type\":\"Scatter\"},{\"attributes\":{\"source\":{\"id\":\"252738\"}},\"id\":\"252745\",\"type\":\"CDSView\"},{\"attributes\":{\"source\":{\"id\":\"252757\"}},\"id\":\"252764\",\"type\":\"CDSView\"},{\"attributes\":{\"fill_alpha\":{\"value\":0.1},\"fill_color\":{\"value\":\"#9367bc\"},\"line_alpha\":{\"value\":0.1},\"line_color\":{\"value\":\"#9367bc\"},\"size\":{\"units\":\"screen\",\"value\":5.477225575051661},\"x\":{\"field\":\"TotalCoinsMined\"},\"y\":{\"field\":\"TotalCoinSupply\"}},\"id\":\"252805\",\"type\":\"Scatter\"},{\"attributes\":{\"label\":{\"value\":\"4\"},\"renderers\":[{\"id\":\"252807\"}]},\"id\":\"252825\",\"type\":\"LegendItem\"},{\"attributes\":{},\"id\":\"252696\",\"type\":\"BasicTicker\"},{\"attributes\":{},\"id\":\"252700\",\"type\":\"BasicTicker\"},{\"attributes\":{\"label\":{\"value\":\"3\"},\"renderers\":[{\"id\":\"252784\"}]},\"id\":\"252800\",\"type\":\"LegendItem\"},{\"attributes\":{\"axis\":{\"id\":\"252695\"},\"grid_line_color\":null,\"ticker\":null},\"id\":\"252698\",\"type\":\"Grid\"},{\"attributes\":{\"source\":{\"id\":\"252778\"}},\"id\":\"252785\",\"type\":\"CDSView\"},{\"attributes\":{\"bottom_units\":\"screen\",\"fill_alpha\":0.5,\"fill_color\":\"lightgrey\",\"left_units\":\"screen\",\"level\":\"overlay\",\"line_alpha\":1.0,\"line_color\":\"black\",\"line_dash\":[4,4],\"line_width\":2,\"right_units\":\"screen\",\"top_units\":\"screen\"},\"id\":\"252708\",\"type\":\"BoxAnnotation\"},{\"attributes\":{\"data_source\":{\"id\":\"252757\"},\"glyph\":{\"id\":\"252760\"},\"hover_glyph\":null,\"muted_glyph\":{\"id\":\"252762\"},\"nonselection_glyph\":{\"id\":\"252761\"},\"selection_glyph\":null,\"view\":{\"id\":\"252764\"}},\"id\":\"252763\",\"type\":\"GlyphRenderer\"},{\"attributes\":{},\"id\":\"252691\",\"type\":\"LinearScale\"},{\"attributes\":{},\"id\":\"252707\",\"type\":\"ResetTool\"},{\"attributes\":{},\"id\":\"252739\",\"type\":\"Selection\"},{\"attributes\":{},\"id\":\"252779\",\"type\":\"Selection\"},{\"attributes\":{\"axis_label\":\"TotalCoinsMined\",\"bounds\":\"auto\",\"formatter\":{\"id\":\"252716\"},\"major_label_orientation\":\"horizontal\",\"ticker\":{\"id\":\"252696\"}},\"id\":\"252695\",\"type\":\"LinearAxis\"},{\"attributes\":{},\"id\":\"252718\",\"type\":\"BasicTickFormatter\"}],\"root_ids\":[\"252677\"]},\"title\":\"Bokeh Application\",\"version\":\"2.2.1\"}};\n",
       "  var render_items = [{\"docid\":\"f82eece8-fae9-4d70-a507-fc57ff9d2923\",\"root_ids\":[\"252677\"],\"roots\":{\"252677\":\"8faafa0a-3c42-43d1-bcbf-1943891aa244\"}}];\n",
       "  root.Bokeh.embed.embed_items_notebook(docs_json, render_items);\n",
       "  }\n",
       "if (root.Bokeh !== undefined) {\n",
       "    embed_document(root);\n",
       "  } else {\n",
       "    var attempts = 0;\n",
       "    var timer = setInterval(function(root) {\n",
       "      if (root.Bokeh !== undefined) {\n",
       "        clearInterval(timer);\n",
       "        embed_document(root);\n",
       "      } else if (document.readyState == \"complete\") {\n",
       "        attempts++;\n",
       "        if (attempts > 100) {\n",
       "          clearInterval(timer);\n",
       "          console.log(\"Bokeh: ERROR: Unable to run BokehJS code because BokehJS library is missing\");\n",
       "        }\n",
       "      }\n",
       "    }, 10, root)\n",
       "  }\n",
       "})(window);</script>"
      ],
      "text/plain": [
       ":NdOverlay   [Class]\n",
       "   :Scatter   [TotalCoinsMined]   (TotalCoinSupply,CoinName)"
      ]
     },
     "execution_count": 307,
     "metadata": {
      "application/vnd.holoviews_exec.v0+json": {
       "id": "252677"
      }
     },
     "output_type": "execute_result"
    }
   ],
   "source": [
    "# Create a scatter plot using hvplot.scatter to present the clustered data about cryptocurrencies having x=\"TotalCoinsMined\"\n",
    "# and y=\"TotalCoinSupply\" to contrast the number of available coins versus the total number of mined coins. Use the \n",
    "# hover_cols=[\"CoinName\"] parameter to include the cryptocurrency name on each data point.\n",
    "\n",
    "clustered_df.hvplot.scatter(\n",
    "    x=\"TotalCoinsMined\", \n",
    "    y=\"TotalCoinSupply\", \n",
    "    xlim=(0, 10e+11),\n",
    "    ylim=(0, 1.940589e+15),\n",
    "    width=1200, height=600,\n",
    "    by=\"Class\",\n",
    "    hover_cols=[\"CoinName\"],\n",
    "    title = \"Total Coins Supplied Vs Mined (All)\"\n",
    ")"
   ]
  },
  {
   "cell_type": "code",
   "execution_count": 308,
   "metadata": {},
   "outputs": [
    {
     "data": {},
     "metadata": {},
     "output_type": "display_data"
    },
    {
     "data": {
      "application/vnd.holoviews_exec.v0+json": "",
      "text/html": [
       "<div id='253052'>\n",
       "\n",
       "\n",
       "\n",
       "\n",
       "\n",
       "  <div class=\"bk-root\" id=\"1329338a-a17d-4a43-9589-40dc7e9a0686\" data-root-id=\"253052\"></div>\n",
       "</div>\n",
       "<script type=\"application/javascript\">(function(root) {\n",
       "  function embed_document(root) {\n",
       "  var docs_json = {\"fd570622-5820-4f72-af2d-0c57583a8baf\":{\"roots\":{\"references\":[{\"attributes\":{\"fill_alpha\":{\"value\":0.2},\"fill_color\":{\"value\":\"#d62628\"},\"line_alpha\":{\"value\":0.2},\"line_color\":{\"value\":\"#d62628\"},\"size\":{\"units\":\"screen\",\"value\":5.477225575051661},\"x\":{\"field\":\"TotalCoinsMined\"},\"y\":{\"field\":\"TotalCoinSupply\"}},\"id\":\"253158\",\"type\":\"Scatter\"},{\"attributes\":{\"fill_alpha\":{\"value\":0.1},\"fill_color\":{\"value\":\"#ff7e0e\"},\"line_alpha\":{\"value\":0.1},\"line_color\":{\"value\":\"#ff7e0e\"},\"size\":{\"units\":\"screen\",\"value\":5.477225575051661},\"x\":{\"field\":\"TotalCoinsMined\"},\"y\":{\"field\":\"TotalCoinSupply\"}},\"id\":\"253117\",\"type\":\"Scatter\"},{\"attributes\":{},\"id\":\"253133\",\"type\":\"Selection\"},{\"attributes\":{\"axis\":{\"id\":\"253074\"},\"dimension\":1,\"grid_line_color\":null,\"ticker\":null},\"id\":\"253077\",\"type\":\"Grid\"},{\"attributes\":{\"data\":{\"Class\":[3,3,3,3,3,3,3,3,3],\"CoinName\":[\"ARK\",\"Vechain\",\"Lamden Tau\",\"Semux\",\"ALAX\",\"Lisk\",\"EOS\",\"Oxycoin\",\"ZEPHYR\"],\"TotalCoinSupply\":{\"__ndarray__\":\"AAAAAGXNnUEAAGLMeTA0QgAAAABlzb1BAAAAAITXl0EAAAAAZc3NQQAAAIBSEKNBAAAAAAAAAAAAAAAAAAAAAAAAAABlzd1B\",\"dtype\":\"float64\",\"order\":\"little\",\"shape\":[9]},\"TotalCoinsMined\":{\"__ndarray__\":\"AAAAkCHMmUEAAKAzuNIpQmFvfsfpK7FBAAAAACvJMkEAAAAAZc3NQQAAALD1nJxB2T2JBSNqzkEUrtdyjLnQQfOO0/5kzd1B\",\"dtype\":\"float64\",\"order\":\"little\",\"shape\":[9]}},\"selected\":{\"id\":\"253154\"},\"selection_policy\":{\"id\":\"253172\"}},\"id\":\"253153\",\"type\":\"ColumnDataSource\"},{\"attributes\":{\"margin\":[5,5,5,5],\"name\":\"HSpacer142558\",\"sizing_mode\":\"stretch_width\"},\"id\":\"253345\",\"type\":\"Spacer\"},{\"attributes\":{\"active_drag\":\"auto\",\"active_inspect\":\"auto\",\"active_multi\":null,\"active_scroll\":\"auto\",\"active_tap\":\"auto\",\"tools\":[{\"id\":\"253056\"},{\"id\":\"253078\"},{\"id\":\"253079\"},{\"id\":\"253080\"},{\"id\":\"253081\"},{\"id\":\"253082\"}]},\"id\":\"253084\",\"type\":\"Toolbar\"},{\"attributes\":{},\"id\":\"253128\",\"type\":\"UnionRenderers\"},{\"attributes\":{},\"id\":\"253114\",\"type\":\"Selection\"},{\"attributes\":{\"end\":200000000000.0,\"reset_end\":200000000000.0,\"reset_start\":0,\"tags\":[[[\"TotalCoinsMined\",\"TotalCoinsMined\",null]]]},\"id\":\"253054\",\"type\":\"Range1d\"},{\"attributes\":{},\"id\":\"253172\",\"type\":\"UnionRenderers\"},{\"attributes\":{\"label\":{\"value\":\"2\"},\"renderers\":[{\"id\":\"253138\"}]},\"id\":\"253152\",\"type\":\"LegendItem\"},{\"attributes\":{},\"id\":\"253093\",\"type\":\"BasicTickFormatter\"},{\"attributes\":{\"source\":{\"id\":\"253095\"}},\"id\":\"253102\",\"type\":\"CDSView\"},{\"attributes\":{},\"id\":\"253079\",\"type\":\"PanTool\"},{\"attributes\":{\"data_source\":{\"id\":\"253153\"},\"glyph\":{\"id\":\"253156\"},\"hover_glyph\":null,\"muted_glyph\":{\"id\":\"253158\"},\"nonselection_glyph\":{\"id\":\"253157\"},\"selection_glyph\":null,\"view\":{\"id\":\"253160\"}},\"id\":\"253159\",\"type\":\"GlyphRenderer\"},{\"attributes\":{\"click_policy\":\"mute\",\"items\":[{\"id\":\"253112\"},{\"id\":\"253131\"},{\"id\":\"253152\"},{\"id\":\"253175\"},{\"id\":\"253200\"}],\"location\":[0,0],\"title\":\"Class\"},\"id\":\"253111\",\"type\":\"Legend\"},{\"attributes\":{},\"id\":\"253177\",\"type\":\"Selection\"},{\"attributes\":{\"overlay\":{\"id\":\"253083\"}},\"id\":\"253081\",\"type\":\"BoxZoomTool\"},{\"attributes\":{},\"id\":\"253197\",\"type\":\"UnionRenderers\"},{\"attributes\":{\"source\":{\"id\":\"253153\"}},\"id\":\"253160\",\"type\":\"CDSView\"},{\"attributes\":{\"source\":{\"id\":\"253113\"}},\"id\":\"253120\",\"type\":\"CDSView\"},{\"attributes\":{\"label\":{\"value\":\"3\"},\"renderers\":[{\"id\":\"253159\"}]},\"id\":\"253175\",\"type\":\"LegendItem\"},{\"attributes\":{\"fill_color\":{\"value\":\"#2ba02b\"},\"line_color\":{\"value\":\"#2ba02b\"},\"size\":{\"units\":\"screen\",\"value\":5.477225575051661},\"x\":{\"field\":\"TotalCoinsMined\"},\"y\":{\"field\":\"TotalCoinSupply\"}},\"id\":\"253135\",\"type\":\"Scatter\"},{\"attributes\":{\"data\":{\"Class\":[0,0,0,0,0,0,0,0,0,0,0,0,0,0,0,0,0,0,0,0,0,0,0,0,0,0,0,0,0,0,0,0,0,0,0,0,0,0,0,0,0,0,0,0,0,0,0,0,0,0,0,0,0,0,0,0,0,0,0,0,0,0,0,0,0,0,0,0,0,0,0,0,0,0,0,0,0,0,0,0,0,0,0,0,0,0,0,0,0,0,0,0,0,0,0,0,0,0,0,0,0,0,0,0,0,0,0,0,0,0,0,0,0,0,0,0,0,0,0,0,0,0,0,0,0,0,0,0,0,0,0,0,0,0,0,0,0,0,0,0,0,0,0,0,0,0,0,0,0,0,0,0,0,0,0,0,0,0,0,0,0,0,0,0,0,0,0,0,0,0,0,0,0,0,0,0,0,0,0,0,0,0,0,0,0,0,0,0,0,0,0,0,0,0,0,0,0,0,0,0,0,0,0,0,0,0,0,0,0,0,0,0,0,0,0,0,0,0,0,0,0,0,0,0,0,0,0,0,0,0,0,0,0,0,0,0,0,0,0,0,0,0,0,0,0,0,0,0,0,0,0,0,0,0,0,0,0,0,0,0,0,0,0,0,0,0,0,0,0,0,0,0,0,0,0,0,0,0,0,0],\"CoinName\":[\"42 Coin\",\"404Coin\",\"EliteCoin\",\"Dash\",\"Bitshares\",\"BitcoinDark\",\"PayCoin\",\"KoboCoin\",\"Aurora Coin\",\"BlueCoin\",\"EnergyCoin\",\"BitBar\",\"CryptoBullion\",\"CasinoCoin\",\"Diamond\",\"Exclusive Coin\",\"FlutterCoin\",\"HoboNickels\",\"HyperStake\",\"IOCoin\",\"MaxCoin\",\"MintCoin\",\"MazaCoin\",\"Nautilus Coin\",\"NavCoin\",\"OpalCoin\",\"Orbitcoin\",\"PotCoin\",\"PhoenixCoin\",\"Reddcoin\",\"SuperCoin\",\"SyncCoin\",\"TeslaCoin\",\"TittieCoin\",\"TorCoin\",\"UnitaryStatus Dollar\",\"UltraCoin\",\"VeriCoin\",\"X11 Coin\",\"Crypti\",\"StealthCoin\",\"ZCC Coin\",\"BurstCoin\",\"StorjCoin\",\"Neutron\",\"FairCoin\",\"RubyCoin\",\"Kore\",\"Dnotes\",\"8BIT Coin\",\"Sativa Coin\",\"Ucoin\",\"Vtorrent\",\"IslaCoin\",\"Nexus\",\"Droidz\",\"Squall Coin\",\"Diggits\",\"Paycon\",\"Emercoin\",\"EverGreenCoin\",\"Decred\",\"EDRCoin\",\"Hitcoin\",\"DubaiCoin\",\"PWR Coin\",\"BillaryCoin\",\"GPU Coin\",\"EuropeCoin\",\"ZeitCoin\",\"SwingCoin\",\"SafeExchangeCoin\",\"Nebuchadnezzar\",\"Ratecoin\",\"Revenu\",\"Clockcoin\",\"VIP Tokens\",\"BitSend\",\"Let it Ride\",\"PutinCoin\",\"iBankCoin\",\"Frankywillcoin\",\"MudraCoin\",\"Lutetium Coin\",\"GoldBlocks\",\"CarterCoin\",\"BitTokens\",\"MustangCoin\",\"ZoneCoin\",\"RootCoin\",\"BitCurrency\",\"Swiscoin\",\"BuzzCoin\",\"Opair\",\"PesoBit\",\"Halloween Coin\",\"CoffeeCoin\",\"RoyalCoin\",\"GanjaCoin V2\",\"TeamUP\",\"LanaCoin\",\"InsaneCoin\",\"EmberCoin\",\"XenixCoin\",\"FreeCoin\",\"PLNCoin\",\"AquariusCoin\",\"Creatio\",\"Eternity\",\"Eurocoin\",\"BitcoinFast\",\"Stakenet\",\"BitConnect Coin\",\"MoneyCoin\",\"Enigma\",\"Russiacoin\",\"PandaCoin\",\"GameUnits\",\"GAKHcoin\",\"Allsafe\",\"LiteCreed\",\"Klingon Empire Darsek\",\"Internet of People\",\"KushCoin\",\"Printerium\",\"Impeach\",\"Zilbercoin\",\"FirstCoin\",\"FindCoin\",\"OpenChat\",\"RenosCoin\",\"VirtacoinPlus\",\"TajCoin\",\"Impact\",\"Atmos\",\"HappyCoin\",\"MacronCoin\",\"Condensate\",\"Independent Money System\",\"ArgusCoin\",\"LomoCoin\",\"ProCurrency\",\"GoldReserve\",\"GrowthCoin\",\"Phreak\",\"Degas Coin\",\"HTML5 Coin\",\"Ultimate Secure Cash\",\"QTUM\",\"Espers\",\"Denarius\",\"Virta Unique Coin\",\"Bitcoin Planet\",\"BritCoin\",\"Linda\",\"DeepOnion\",\"Signatum\",\"Cream\",\"Monoeci\",\"Draftcoin\",\"Stakecoin\",\"CoinonatX\",\"Ethereum Dark\",\"Obsidian\",\"Cardano\",\"Regalcoin\",\"TrezarCoin\",\"TerraNovaCoin\",\"Rupee\",\"WomenCoin\",\"Theresa May Coin\",\"NamoCoin\",\"LUXCoin\",\"Xios\",\"Bitcloud 2.0\",\"KekCoin\",\"BlackholeCoin\",\"Infinity Economics\",\"Magnet\",\"Electra\",\"Bitcoin Diamond\",\"Cash & Back Coin\",\"Bulwark\",\"Kalkulus\",\"GermanCoin\",\"LiteCoin Ultra\",\"PhantomX\",\"Digiwage\",\"Trollcoin\",\"Litecoin Plus\",\"Monkey Project\",\"TokenPay\",\"My Big Coin\",\"Unified Society USDEX\",\"Tokyo Coin\",\"BiblePay\",\"LitecoinCash\",\"Stipend\",\"Pushi\",\"Ellerium\",\"Velox\",\"Ontology\",\"Bitspace\",\"Briacoin\",\"Ignition\",\"MedicCoin\",\"Bitcoin Green\",\"Deviant Coin\",\"Abjcoin\",\"Carebit\",\"Zealium\",\"Proton\",\"iDealCash\",\"Bitcoin Incognito\",\"HollyWoodCoin\",\"Swisscoin\",\"Xt3ch\",\"TheVig\",\"EmaratCoin\",\"Dekado\",\"Lynx\",\"Poseidon Quark\",\"BitcoinWSpectrum\",\"Muse\",\"Trivechain\",\"Dystem\",\"Giant\",\"Peony Coin\",\"Absolute Coin\",\"Vitae\",\"TPCash\",\"ARENON\",\"EUNO\",\"MMOCoin\",\"Ketan\",\"XDNA\",\"PAXEX\",\"ThunderStake\",\"Kcash\",\"Acute Angle Cloud\",\"Bettex coin\",\"BitMoney\",\"Junson Ming Chan Coin\",\"HerbCoin\",\"Oduwa\",\"Galilel\",\"Crypto Sports\",\"Credit\",\"Dash Platinum\",\"Nasdacoin\",\"Beetle Coin\",\"Titan Coin\",\"Award\",\"Insane Coin\",\"LiteDoge\",\"TruckCoin\",\"OrangeCoin\",\"BitstarCoin\",\"NeosCoin\",\"HyperCoin\",\"PinkCoin\",\"AudioCoin\",\"IncaKoin\",\"Piggy Coin\",\"Genstake\",\"XiaoMiCoin\",\"CapriCoin\",\" ClubCoin\",\"Radium\",\"Creditbit \",\"OKCash\",\"HiCoin\",\"WhiteCoin\",\"FriendshipCoin\",\"Triangles Coin\",\"TigerCash\",\"Particl\",\"Nxt\",\"Gapcoin\",\"BitcoinPlus\"],\"TotalCoinSupply\":{\"__ndarray__\":\"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\",\"dtype\":\"float64\",\"order\":\"little\",\"shape\":[280]},\"TotalCoinsMined\":{\"__ndarray__\":\"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\",\"dtype\":\"float64\",\"order\":\"little\",\"shape\":[280]}},\"selected\":{\"id\":\"253096\"},\"selection_policy\":{\"id\":\"253108\"}},\"id\":\"253095\",\"type\":\"ColumnDataSource\"},{\"attributes\":{},\"id\":\"253078\",\"type\":\"SaveTool\"},{\"attributes\":{\"align\":null,\"below\":[{\"id\":\"253070\"}],\"center\":[{\"id\":\"253073\"},{\"id\":\"253077\"}],\"left\":[{\"id\":\"253074\"}],\"margin\":null,\"min_border_bottom\":10,\"min_border_left\":10,\"min_border_right\":10,\"min_border_top\":10,\"plot_width\":1200,\"renderers\":[{\"id\":\"253101\"},{\"id\":\"253119\"},{\"id\":\"253138\"},{\"id\":\"253159\"},{\"id\":\"253182\"}],\"right\":[{\"id\":\"253111\"}],\"sizing_mode\":\"fixed\",\"title\":{\"id\":\"253062\"},\"toolbar\":{\"id\":\"253084\"},\"x_range\":{\"id\":\"253054\"},\"x_scale\":{\"id\":\"253066\"},\"y_range\":{\"id\":\"253055\"},\"y_scale\":{\"id\":\"253068\"}},\"id\":\"253061\",\"subtype\":\"Figure\",\"type\":\"Plot\"},{\"attributes\":{\"bottom_units\":\"screen\",\"fill_alpha\":0.5,\"fill_color\":\"lightgrey\",\"left_units\":\"screen\",\"level\":\"overlay\",\"line_alpha\":1.0,\"line_color\":\"black\",\"line_dash\":[4,4],\"line_width\":2,\"right_units\":\"screen\",\"top_units\":\"screen\"},\"id\":\"253083\",\"type\":\"BoxAnnotation\"},{\"attributes\":{\"children\":[{\"id\":\"253053\"},{\"id\":\"253061\"},{\"id\":\"253345\"}],\"margin\":[0,0,0,0],\"name\":\"Row142553\",\"tags\":[\"embedded\"]},\"id\":\"253052\",\"type\":\"Row\"},{\"attributes\":{},\"id\":\"253066\",\"type\":\"LinearScale\"},{\"attributes\":{\"margin\":[5,5,5,5],\"name\":\"HSpacer142557\",\"sizing_mode\":\"stretch_width\"},\"id\":\"253053\",\"type\":\"Spacer\"},{\"attributes\":{},\"id\":\"253075\",\"type\":\"BasicTicker\"},{\"attributes\":{\"fill_alpha\":{\"value\":0.1},\"fill_color\":{\"value\":\"#1f77b3\"},\"line_alpha\":{\"value\":0.1},\"line_color\":{\"value\":\"#1f77b3\"},\"size\":{\"units\":\"screen\",\"value\":5.477225575051661},\"x\":{\"field\":\"TotalCoinsMined\"},\"y\":{\"field\":\"TotalCoinSupply\"}},\"id\":\"253099\",\"type\":\"Scatter\"},{\"attributes\":{\"data_source\":{\"id\":\"253113\"},\"glyph\":{\"id\":\"253116\"},\"hover_glyph\":null,\"muted_glyph\":{\"id\":\"253118\"},\"nonselection_glyph\":{\"id\":\"253117\"},\"selection_glyph\":null,\"view\":{\"id\":\"253120\"}},\"id\":\"253119\",\"type\":\"GlyphRenderer\"},{\"attributes\":{\"text\":\"Total Coins Supplied Vs Mined (AXIS LIMITED!)\",\"text_color\":{\"value\":\"black\"},\"text_font_size\":{\"value\":\"12pt\"}},\"id\":\"253062\",\"type\":\"Title\"},{\"attributes\":{},\"id\":\"253080\",\"type\":\"WheelZoomTool\"},{\"attributes\":{\"label\":{\"value\":\"4\"},\"renderers\":[{\"id\":\"253182\"}]},\"id\":\"253200\",\"type\":\"LegendItem\"},{\"attributes\":{\"axis_label\":\"TotalCoinSupply\",\"bounds\":\"auto\",\"formatter\":{\"id\":\"253093\"},\"major_label_orientation\":\"horizontal\",\"ticker\":{\"id\":\"253075\"}},\"id\":\"253074\",\"type\":\"LinearAxis\"},{\"attributes\":{\"data_source\":{\"id\":\"253095\"},\"glyph\":{\"id\":\"253098\"},\"hover_glyph\":null,\"muted_glyph\":{\"id\":\"253100\"},\"nonselection_glyph\":{\"id\":\"253099\"},\"selection_glyph\":null,\"view\":{\"id\":\"253102\"}},\"id\":\"253101\",\"type\":\"GlyphRenderer\"},{\"attributes\":{\"axis\":{\"id\":\"253070\"},\"grid_line_color\":null,\"ticker\":null},\"id\":\"253073\",\"type\":\"Grid\"},{\"attributes\":{},\"id\":\"253071\",\"type\":\"BasicTicker\"},{\"attributes\":{},\"id\":\"253154\",\"type\":\"Selection\"},{\"attributes\":{\"fill_color\":{\"value\":\"#9367bc\"},\"line_color\":{\"value\":\"#9367bc\"},\"size\":{\"units\":\"screen\",\"value\":5.477225575051661},\"x\":{\"field\":\"TotalCoinsMined\"},\"y\":{\"field\":\"TotalCoinSupply\"}},\"id\":\"253179\",\"type\":\"Scatter\"},{\"attributes\":{\"fill_color\":{\"value\":\"#d62628\"},\"line_color\":{\"value\":\"#d62628\"},\"size\":{\"units\":\"screen\",\"value\":5.477225575051661},\"x\":{\"field\":\"TotalCoinsMined\"},\"y\":{\"field\":\"TotalCoinSupply\"}},\"id\":\"253156\",\"type\":\"Scatter\"},{\"attributes\":{},\"id\":\"253149\",\"type\":\"UnionRenderers\"},{\"attributes\":{\"end\":390000000000.0,\"reset_end\":390000000000.0,\"reset_start\":0,\"tags\":[[[\"TotalCoinSupply\",\"TotalCoinSupply\",null]]]},\"id\":\"253055\",\"type\":\"Range1d\"},{\"attributes\":{\"data_source\":{\"id\":\"253132\"},\"glyph\":{\"id\":\"253135\"},\"hover_glyph\":null,\"muted_glyph\":{\"id\":\"253137\"},\"nonselection_glyph\":{\"id\":\"253136\"},\"selection_glyph\":null,\"view\":{\"id\":\"253139\"}},\"id\":\"253138\",\"type\":\"GlyphRenderer\"},{\"attributes\":{\"fill_alpha\":{\"value\":0.2},\"fill_color\":{\"value\":\"#9367bc\"},\"line_alpha\":{\"value\":0.2},\"line_color\":{\"value\":\"#9367bc\"},\"size\":{\"units\":\"screen\",\"value\":5.477225575051661},\"x\":{\"field\":\"TotalCoinsMined\"},\"y\":{\"field\":\"TotalCoinSupply\"}},\"id\":\"253181\",\"type\":\"Scatter\"},{\"attributes\":{\"fill_color\":{\"value\":\"#1f77b3\"},\"line_color\":{\"value\":\"#1f77b3\"},\"size\":{\"units\":\"screen\",\"value\":5.477225575051661},\"x\":{\"field\":\"TotalCoinsMined\"},\"y\":{\"field\":\"TotalCoinSupply\"}},\"id\":\"253098\",\"type\":\"Scatter\"},{\"attributes\":{\"fill_alpha\":{\"value\":0.2},\"fill_color\":{\"value\":\"#2ba02b\"},\"line_alpha\":{\"value\":0.2},\"line_color\":{\"value\":\"#2ba02b\"},\"size\":{\"units\":\"screen\",\"value\":5.477225575051661},\"x\":{\"field\":\"TotalCoinsMined\"},\"y\":{\"field\":\"TotalCoinSupply\"}},\"id\":\"253137\",\"type\":\"Scatter\"},{\"attributes\":{},\"id\":\"253068\",\"type\":\"LinearScale\"},{\"attributes\":{\"label\":{\"value\":\"0\"},\"renderers\":[{\"id\":\"253101\"}]},\"id\":\"253112\",\"type\":\"LegendItem\"},{\"attributes\":{\"data\":{\"Class\":[4],\"CoinName\":[\"BitTorrent\"],\"TotalCoinSupply\":{\"__ndarray__\":\"AACAJRPQbEI=\",\"dtype\":\"float64\",\"order\":\"little\",\"shape\":[1]},\"TotalCoinsMined\":{\"__ndarray__\":\"xfR7nv3PbEI=\",\"dtype\":\"float64\",\"order\":\"little\",\"shape\":[1]}},\"selected\":{\"id\":\"253177\"},\"selection_policy\":{\"id\":\"253197\"}},\"id\":\"253176\",\"type\":\"ColumnDataSource\"},{\"attributes\":{},\"id\":\"253096\",\"type\":\"Selection\"},{\"attributes\":{\"data_source\":{\"id\":\"253176\"},\"glyph\":{\"id\":\"253179\"},\"hover_glyph\":null,\"muted_glyph\":{\"id\":\"253181\"},\"nonselection_glyph\":{\"id\":\"253180\"},\"selection_glyph\":null,\"view\":{\"id\":\"253183\"}},\"id\":\"253182\",\"type\":\"GlyphRenderer\"},{\"attributes\":{\"fill_alpha\":{\"value\":0.2},\"fill_color\":{\"value\":\"#1f77b3\"},\"line_alpha\":{\"value\":0.2},\"line_color\":{\"value\":\"#1f77b3\"},\"size\":{\"units\":\"screen\",\"value\":5.477225575051661},\"x\":{\"field\":\"TotalCoinsMined\"},\"y\":{\"field\":\"TotalCoinSupply\"}},\"id\":\"253100\",\"type\":\"Scatter\"},{\"attributes\":{},\"id\":\"253082\",\"type\":\"ResetTool\"},{\"attributes\":{},\"id\":\"253108\",\"type\":\"UnionRenderers\"},{\"attributes\":{\"fill_color\":{\"value\":\"#ff7e0e\"},\"line_color\":{\"value\":\"#ff7e0e\"},\"size\":{\"units\":\"screen\",\"value\":5.477225575051661},\"x\":{\"field\":\"TotalCoinsMined\"},\"y\":{\"field\":\"TotalCoinSupply\"}},\"id\":\"253116\",\"type\":\"Scatter\"},{\"attributes\":{\"source\":{\"id\":\"253132\"}},\"id\":\"253139\",\"type\":\"CDSView\"},{\"attributes\":{\"label\":{\"value\":\"1\"},\"renderers\":[{\"id\":\"253119\"}]},\"id\":\"253131\",\"type\":\"LegendItem\"},{\"attributes\":{\"callback\":null,\"renderers\":[{\"id\":\"253101\"},{\"id\":\"253119\"},{\"id\":\"253138\"},{\"id\":\"253159\"},{\"id\":\"253182\"}],\"tags\":[\"hv_created\"],\"tooltips\":[[\"Class\",\"@{Class}\"],[\"TotalCoinsMined\",\"@{TotalCoinsMined}\"],[\"TotalCoinSupply\",\"@{TotalCoinSupply}\"],[\"CoinName\",\"@{CoinName}\"]]},\"id\":\"253056\",\"type\":\"HoverTool\"},{\"attributes\":{\"data\":{\"Class\":[1,1,1,1,1,1,1,1,1,1,1,1,1,1,1,1,1,1,1,1,1,1,1,1,1,1,1,1,1,1,1,1,1,1,1,1,1,1,1,1,1,1,1,1,1,1,1,1,1,1,1,1,1,1,1,1,1,1,1,1,1,1,1,1,1,1,1,1,1,1,1,1,1,1,1,1,1,1,1,1,1,1,1,1,1,1,1,1,1,1,1,1,1,1,1,1,1,1,1,1,1,1,1,1,1,1,1,1,1,1,1,1,1,1,1,1,1,1,1,1,1,1,1,1,1,1,1,1,1,1,1,1,1,1,1,1,1,1,1,1,1,1,1,1,1,1,1,1,1,1,1,1,1,1,1,1,1,1,1,1,1,1,1,1,1,1,1,1,1,1,1,1,1,1,1,1,1,1,1,1,1,1,1,1,1,1,1,1,1,1,1,1,1,1,1,1,1,1,1,1,1,1,1,1,1,1,1,1,1,1,1,1,1,1,1,1,1,1,1,1,1,1,1,1,1,1,1,1,1,1,1,1,1,1,1,1,1,1,1,1],\"CoinName\":[\"Bitcoin\",\"Ethereum\",\"Litecoin\",\"Monero\",\"Ethereum Classic\",\"ZCash\",\"DigiByte\",\"ProsperCoin\",\"Spreadcoin\",\"Argentum\",\"MyriadCoin\",\"MoonCoin\",\"ZetaCoin\",\"SexCoin\",\"Quatloo\",\"QuarkCoin\",\"Riecoin\",\"Digitalcoin \",\"Catcoin\",\"CannaCoin\",\"CryptCoin\",\"Verge\",\"DevCoin\",\"EarthCoin\",\"E-Gulden\",\"Einsteinium\",\"Emerald\",\"Franko\",\"FeatherCoin\",\"GrandCoin\",\"GlobalCoin\",\"GoldCoin\",\"Infinite Coin\",\"IXcoin\",\"KrugerCoin\",\"LuckyCoin\",\"Litebar \",\"MegaCoin\",\"MediterraneanCoin\",\"MinCoin\",\"NobleCoin\",\"Namecoin\",\"NyanCoin\",\"RonPaulCoin\",\"StableCoin\",\"SmartCoin\",\"SysCoin\",\"TigerCoin\",\"TerraCoin\",\"UnbreakableCoin\",\"Unobtanium\",\"UroCoin\",\"ViaCoin\",\"Vertcoin\",\"WorldCoin\",\"JouleCoin\",\"ByteCoin\",\"DigitalNote \",\"MonaCoin\",\"Gulden\",\"PesetaCoin\",\"Wild Beast Coin\",\"Flo\",\"ArtByte\",\"Folding Coin\",\"Unitus\",\"CypherPunkCoin\",\"OmniCron\",\"GreenCoin\",\"Cryptonite\",\"MasterCoin\",\"SoonCoin\",\"1Credit\",\"MarsCoin \",\"Crypto\",\"Anarchists Prime\",\"BowsCoin\",\"Song Coin\",\"BitZeny\",\"Expanse\",\"Siacoin\",\"MindCoin\",\"I0coin\",\"Revolution VR\",\"HOdlcoin\",\"Gamecredits\",\"CarpeDiemCoin\",\"Adzcoin\",\"SoilCoin\",\"YoCoin\",\"SibCoin\",\"Francs\",\"BolivarCoin\",\"Omni\",\"PizzaCoin\",\"Komodo\",\"Karbo\",\"ZayedCoin\",\"Circuits of Value\",\"DopeCoin\",\"DollarCoin\",\"Shilling\",\"ZCoin\",\"Elementrem\",\"ZClassic\",\"KiloCoin\",\"ArtexCoin\",\"Kurrent\",\"Cannabis Industry Coin\",\"OsmiumCoin\",\"Bikercoins\",\"HexxCoin\",\"PacCoin\",\"Citadel\",\"BeaverCoin\",\"VaultCoin\",\"Zero\",\"Canada eCoin\",\"Zoin\",\"DubaiCoin\",\"EB3coin\",\"Coinonat\",\"BenjiRolls\",\"ILCoin\",\"EquiTrader\",\"Quantum Resistant Ledger\",\"Dynamic\",\"Nano\",\"ChanCoin\",\"Dinastycoin\",\"DigitalPrice\",\"Unify\",\"SocialCoin\",\"ArcticCoin\",\"DAS\",\"LeviarCoin\",\"Bitcore\",\"gCn Coin\",\"SmartCash\",\"Onix\",\"Bitcoin Cash\",\"Sojourn Coin\",\"NewYorkCoin\",\"FrazCoin\",\"Kronecoin\",\"AdCoin\",\"Linx\",\"Sumokoin\",\"BitcoinZ\",\"Elements\",\"VIVO Coin\",\"Bitcoin Gold\",\"Pirl\",\"eBoost\",\"Pura\",\"Innova\",\"Ellaism\",\"GoByte\",\"SHIELD\",\"UltraNote\",\"BitCoal\",\"DaxxCoin\",\"AC3\",\"Lethean\",\"PopularCoin\",\"Photon\",\"Sucre\",\"SparksPay\",\"GunCoin\",\"IrishCoin\",\"Pioneer Coin\",\"UnitedBitcoin\",\"Interzone\",\"1717 Masonic Commemorative Token\",\"TurtleCoin\",\"MUNcoin\",\"Niobio Cash\",\"ShareChain\",\"Travelflex\",\"KREDS\",\"BitFlip\",\"LottoCoin\",\"Crypto Improvement Fund\",\"Callisto Network\",\"BitTube\",\"Poseidon\",\"Aidos Kuneen\",\"Bitrolium\",\"Alpenschillling\",\"FuturoCoin\",\"Monero Classic\",\"Jumpcoin\",\"Infinex\",\"KEYCO\",\"GINcoin\",\"PlatinCoin\",\"Loki\",\"Newton Coin\",\"MassGrid\",\"PluraCoin\",\"Motion\",\"PlusOneCoin\",\"Axe\",\"HexCoin\",\"Webchain\",\"Ryo\",\"Urals Coin\",\"Qwertycoin\",\"Project Pai\",\"Azart\",\"Xchange\",\"CrypticCoin\",\"Actinium\",\"Bitcoin SV\",\"FREDEnergy\",\"Universal Molecule\",\"Lithium\",\"PirateCash\",\"Exosis\",\"Block-Logic\",\"Beam\",\"Bithereum\",\"SLICE\",\"BLAST\",\"Bitcoin Rhodium\",\"GlobalToken\",\"SolarCoin\",\"UFO Coin\",\"BlakeCoin\",\"Crypto Escudo\",\"Crown Coin\",\"SmileyCoin\",\"Groestlcoin\",\"Bata\",\"Pakcoin\",\"JoinCoin\",\"Vollar\",\"Reality Clash\",\"Beldex\",\"Horizen\"],\"TotalCoinSupply\":{\"__ndarray__\":\"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\",\"dtype\":\"float64\",\"order\":\"little\",\"shape\":[240]},\"TotalCoinsMined\":{\"__ndarray__\":\"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\",\"dtype\":\"float64\",\"order\":\"little\",\"shape\":[240]}},\"selected\":{\"id\":\"253114\"},\"selection_policy\":{\"id\":\"253128\"}},\"id\":\"253113\",\"type\":\"ColumnDataSource\"},{\"attributes\":{},\"id\":\"253091\",\"type\":\"BasicTickFormatter\"},{\"attributes\":{\"fill_alpha\":{\"value\":0.2},\"fill_color\":{\"value\":\"#ff7e0e\"},\"line_alpha\":{\"value\":0.2},\"line_color\":{\"value\":\"#ff7e0e\"},\"size\":{\"units\":\"screen\",\"value\":5.477225575051661},\"x\":{\"field\":\"TotalCoinsMined\"},\"y\":{\"field\":\"TotalCoinSupply\"}},\"id\":\"253118\",\"type\":\"Scatter\"},{\"attributes\":{\"data\":{\"Class\":[2,2],\"CoinName\":[\"Poa Network\",\"Waves\"],\"TotalCoinSupply\":{\"__ndarray__\":\"AAAAAH4YrkEAAAAAhNeXQQ==\",\"dtype\":\"float64\",\"order\":\"little\",\"shape\":[2]},\"TotalCoinsMined\":{\"__ndarray__\":\"AAAAfjRgqEEAAAAAhNeXQQ==\",\"dtype\":\"float64\",\"order\":\"little\",\"shape\":[2]}},\"selected\":{\"id\":\"253133\"},\"selection_policy\":{\"id\":\"253149\"}},\"id\":\"253132\",\"type\":\"ColumnDataSource\"},{\"attributes\":{\"fill_alpha\":{\"value\":0.1},\"fill_color\":{\"value\":\"#d62628\"},\"line_alpha\":{\"value\":0.1},\"line_color\":{\"value\":\"#d62628\"},\"size\":{\"units\":\"screen\",\"value\":5.477225575051661},\"x\":{\"field\":\"TotalCoinsMined\"},\"y\":{\"field\":\"TotalCoinSupply\"}},\"id\":\"253157\",\"type\":\"Scatter\"},{\"attributes\":{\"fill_alpha\":{\"value\":0.1},\"fill_color\":{\"value\":\"#2ba02b\"},\"line_alpha\":{\"value\":0.1},\"line_color\":{\"value\":\"#2ba02b\"},\"size\":{\"units\":\"screen\",\"value\":5.477225575051661},\"x\":{\"field\":\"TotalCoinsMined\"},\"y\":{\"field\":\"TotalCoinSupply\"}},\"id\":\"253136\",\"type\":\"Scatter\"},{\"attributes\":{\"fill_alpha\":{\"value\":0.1},\"fill_color\":{\"value\":\"#9367bc\"},\"line_alpha\":{\"value\":0.1},\"line_color\":{\"value\":\"#9367bc\"},\"size\":{\"units\":\"screen\",\"value\":5.477225575051661},\"x\":{\"field\":\"TotalCoinsMined\"},\"y\":{\"field\":\"TotalCoinSupply\"}},\"id\":\"253180\",\"type\":\"Scatter\"},{\"attributes\":{\"source\":{\"id\":\"253176\"}},\"id\":\"253183\",\"type\":\"CDSView\"},{\"attributes\":{\"axis_label\":\"TotalCoinsMined\",\"bounds\":\"auto\",\"formatter\":{\"id\":\"253091\"},\"major_label_orientation\":\"horizontal\",\"ticker\":{\"id\":\"253071\"}},\"id\":\"253070\",\"type\":\"LinearAxis\"}],\"root_ids\":[\"253052\"]},\"title\":\"Bokeh Application\",\"version\":\"2.2.1\"}};\n",
       "  var render_items = [{\"docid\":\"fd570622-5820-4f72-af2d-0c57583a8baf\",\"root_ids\":[\"253052\"],\"roots\":{\"253052\":\"1329338a-a17d-4a43-9589-40dc7e9a0686\"}}];\n",
       "  root.Bokeh.embed.embed_items_notebook(docs_json, render_items);\n",
       "  }\n",
       "if (root.Bokeh !== undefined) {\n",
       "    embed_document(root);\n",
       "  } else {\n",
       "    var attempts = 0;\n",
       "    var timer = setInterval(function(root) {\n",
       "      if (root.Bokeh !== undefined) {\n",
       "        clearInterval(timer);\n",
       "        embed_document(root);\n",
       "      } else if (document.readyState == \"complete\") {\n",
       "        attempts++;\n",
       "        if (attempts > 100) {\n",
       "          clearInterval(timer);\n",
       "          console.log(\"Bokeh: ERROR: Unable to run BokehJS code because BokehJS library is missing\");\n",
       "        }\n",
       "      }\n",
       "    }, 10, root)\n",
       "  }\n",
       "})(window);</script>"
      ],
      "text/plain": [
       ":NdOverlay   [Class]\n",
       "   :Scatter   [TotalCoinsMined]   (TotalCoinSupply,CoinName)"
      ]
     },
     "execution_count": 308,
     "metadata": {
      "application/vnd.holoviews_exec.v0+json": {
       "id": "253052"
      }
     },
     "output_type": "execute_result"
    }
   ],
   "source": [
    "# if we ignore some of the extreme outliers and graph the above by setting lower axis limits\n",
    "clustered_df.hvplot.scatter(\n",
    "    x=\"TotalCoinsMined\", \n",
    "    y=\"TotalCoinSupply\", \n",
    "    xlim=(0, 2e+11),\n",
    "    ylim=(0, 3.9e+11),\n",
    "    width=1200, height=600,\n",
    "    by=\"Class\",\n",
    "    hover_cols=[\"CoinName\"],\n",
    "    title = \"Total Coins Supplied Vs Mined (AXIS LIMITED!)\"\n",
    ")"
   ]
  },
  {
   "cell_type": "code",
   "execution_count": null,
   "metadata": {},
   "outputs": [],
   "source": []
  },
  {
   "cell_type": "code",
   "execution_count": null,
   "metadata": {},
   "outputs": [],
   "source": []
  },
  {
   "cell_type": "code",
   "execution_count": null,
   "metadata": {},
   "outputs": [],
   "source": []
  },
  {
   "cell_type": "code",
   "execution_count": null,
   "metadata": {},
   "outputs": [],
   "source": []
  }
 ],
 "metadata": {
  "kernelspec": {
   "display_name": "PythonData",
   "language": "python",
   "name": "pythondata"
  },
  "language_info": {
   "codemirror_mode": {
    "name": "ipython",
    "version": 3
   },
   "file_extension": ".py",
   "mimetype": "text/x-python",
   "name": "python",
   "nbconvert_exporter": "python",
   "pygments_lexer": "ipython3",
   "version": "3.7.6"
  }
 },
 "nbformat": 4,
 "nbformat_minor": 4
}
